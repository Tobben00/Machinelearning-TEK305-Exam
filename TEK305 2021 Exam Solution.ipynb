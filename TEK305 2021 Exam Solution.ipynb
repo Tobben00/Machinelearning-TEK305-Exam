{
 "cells": [
  {
   "cell_type": "markdown",
   "source": "# Problem 1: Regression Problem",
   "metadata": {
    "id": "-nb1LJisk890",
    "cell_id": "00000-33015edb-4700-4377-8bac-7d218d351fd2",
    "deepnote_cell_type": "markdown"
   }
  },
  {
   "cell_type": "markdown",
   "source": "Datasettet er ikke i riktig format, den burde være komma separert mens nåværende er semikolon separert som gjør at importering i Python ved bruk av visse metoder kan føre til feil/bugs. Første steget blir å gjøre om semikolon til komma.",
   "metadata": {
    "id": "sWvt5Oy0k897",
    "cell_id": "00001-2bee2fb0-1182-4a0c-b414-de78c9d40a47",
    "deepnote_cell_type": "markdown"
   }
  },
  {
   "cell_type": "code",
   "metadata": {
    "id": "22Xhv6Jpk898",
    "cell_id": "00002-31b68338-b170-4c49-8148-0364a2ab5a49",
    "deepnote_to_be_reexecuted": false,
    "source_hash": "fd5542d4",
    "execution_start": 1638215481493,
    "execution_millis": 421,
    "deepnote_cell_type": "code"
   },
   "source": "file1 = open(\"Regression_housedata.csv\",\"r\")\nfile2 = open(r\"Regression_housedata_updated.csv\",\"w\")\n\ndata = file1.read()\n\nx = data.replace(\";\", \",\") # Erstatter alle semikolon med komma.\n\nfile2.writelines(x)\nfile1.close() # For å endre \"File Access Mode\" må man huske stenge filen før vi fortsetter.\nfile2.close() # For å endre \"File Access Mode\" må man huske stenge filen før vi fortsetter.\n",
   "execution_count": null,
   "outputs": []
  },
  {
   "cell_type": "code",
   "metadata": {
    "id": "qhVsIvkxk89_",
    "outputId": "eda73aa1-d56f-4153-fd8e-30f1aa6d86f7",
    "cell_id": "00003-326d6438-383a-4c52-a308-3200a409c8ba",
    "deepnote_output_heights": [
     177
    ],
    "deepnote_to_be_reexecuted": false,
    "source_hash": "7c62a43a",
    "execution_start": 1639591020935,
    "execution_millis": 445,
    "deepnote_cell_type": "code"
   },
   "source": "# Åpner datasettet for å vise en liten oversikt over øverste delen av datasettet.\nimport pandas as pd\ndf = pd.read_csv('Regression_housedata_updated.csv')\ndf.head()",
   "execution_count": null,
   "outputs": [
    {
     "output_type": "execute_result",
     "execution_count": 1,
     "data": {
      "application/vnd.deepnote.dataframe.v3+json": {
       "column_count": 8,
       "row_count": 5,
       "columns": [
        {
         "name": "id",
         "dtype": "int64",
         "stats": {
          "unique_count": 5,
          "nan_count": 0,
          "min": "1954400510",
          "max": "7129300520",
          "histogram": [
           {
            "bin_start": 1954400510,
            "bin_end": 2471890511,
            "count": 1
           },
           {
            "bin_start": 2471890511,
            "bin_end": 2989380512,
            "count": 1
           },
           {
            "bin_start": 2989380512,
            "bin_end": 3506870513,
            "count": 0
           },
           {
            "bin_start": 3506870513,
            "bin_end": 4024360514,
            "count": 0
           },
           {
            "bin_start": 4024360514,
            "bin_end": 4541850515,
            "count": 0
           },
           {
            "bin_start": 4541850515,
            "bin_end": 5059340516,
            "count": 0
           },
           {
            "bin_start": 5059340516,
            "bin_end": 5576830517,
            "count": 0
           },
           {
            "bin_start": 5576830517,
            "bin_end": 6094320518,
            "count": 1
           },
           {
            "bin_start": 6094320518,
            "bin_end": 6611810519,
            "count": 1
           },
           {
            "bin_start": 6611810519,
            "bin_end": 7129300520,
            "count": 1
           }
          ]
         }
        },
        {
         "name": "bedrooms",
         "dtype": "int64",
         "stats": {
          "unique_count": 3,
          "nan_count": 0,
          "min": "2",
          "max": "4",
          "histogram": [
           {
            "bin_start": 2,
            "bin_end": 2.2,
            "count": 1
           },
           {
            "bin_start": 2.2,
            "bin_end": 2.4,
            "count": 0
           },
           {
            "bin_start": 2.4,
            "bin_end": 2.6,
            "count": 0
           },
           {
            "bin_start": 2.6,
            "bin_end": 2.8,
            "count": 0
           },
           {
            "bin_start": 2.8,
            "bin_end": 3,
            "count": 0
           },
           {
            "bin_start": 3,
            "bin_end": 3.2,
            "count": 3
           },
           {
            "bin_start": 3.2,
            "bin_end": 3.4000000000000004,
            "count": 0
           },
           {
            "bin_start": 3.4000000000000004,
            "bin_end": 3.6,
            "count": 0
           },
           {
            "bin_start": 3.6,
            "bin_end": 3.8,
            "count": 0
           },
           {
            "bin_start": 3.8,
            "bin_end": 4,
            "count": 1
           }
          ]
         }
        },
        {
         "name": "sqft_living",
         "dtype": "int64",
         "stats": {
          "unique_count": 5,
          "nan_count": 0,
          "min": "770",
          "max": "2570",
          "histogram": [
           {
            "bin_start": 770,
            "bin_end": 950,
            "count": 1
           },
           {
            "bin_start": 950,
            "bin_end": 1130,
            "count": 0
           },
           {
            "bin_start": 1130,
            "bin_end": 1310,
            "count": 1
           },
           {
            "bin_start": 1310,
            "bin_end": 1490,
            "count": 0
           },
           {
            "bin_start": 1490,
            "bin_end": 1670,
            "count": 0
           },
           {
            "bin_start": 1670,
            "bin_end": 1850,
            "count": 1
           },
           {
            "bin_start": 1850,
            "bin_end": 2030,
            "count": 1
           },
           {
            "bin_start": 2030,
            "bin_end": 2210,
            "count": 0
           },
           {
            "bin_start": 2210,
            "bin_end": 2390,
            "count": 0
           },
           {
            "bin_start": 2390,
            "bin_end": 2570,
            "count": 1
           }
          ]
         }
        },
        {
         "name": "sqft_lot",
         "dtype": "int64",
         "stats": {
          "unique_count": 5,
          "nan_count": 0,
          "min": "5000",
          "max": "10000",
          "histogram": [
           {
            "bin_start": 5000,
            "bin_end": 5500,
            "count": 1
           },
           {
            "bin_start": 5500,
            "bin_end": 6000,
            "count": 1
           },
           {
            "bin_start": 6000,
            "bin_end": 6500,
            "count": 0
           },
           {
            "bin_start": 6500,
            "bin_end": 7000,
            "count": 0
           },
           {
            "bin_start": 7000,
            "bin_end": 7500,
            "count": 1
           },
           {
            "bin_start": 7500,
            "bin_end": 8000,
            "count": 0
           },
           {
            "bin_start": 8000,
            "bin_end": 8500,
            "count": 1
           },
           {
            "bin_start": 8500,
            "bin_end": 9000,
            "count": 0
           },
           {
            "bin_start": 9000,
            "bin_end": 9500,
            "count": 0
           },
           {
            "bin_start": 9500,
            "bin_end": 10000,
            "count": 1
           }
          ]
         }
        },
        {
         "name": "floors",
         "dtype": "int64",
         "stats": {
          "unique_count": 2,
          "nan_count": 0,
          "min": "1",
          "max": "2",
          "histogram": [
           {
            "bin_start": 1,
            "bin_end": 1.1,
            "count": 4
           },
           {
            "bin_start": 1.1,
            "bin_end": 1.2,
            "count": 0
           },
           {
            "bin_start": 1.2,
            "bin_end": 1.3,
            "count": 0
           },
           {
            "bin_start": 1.3,
            "bin_end": 1.4,
            "count": 0
           },
           {
            "bin_start": 1.4,
            "bin_end": 1.5,
            "count": 0
           },
           {
            "bin_start": 1.5,
            "bin_end": 1.6,
            "count": 0
           },
           {
            "bin_start": 1.6,
            "bin_end": 1.7000000000000002,
            "count": 0
           },
           {
            "bin_start": 1.7000000000000002,
            "bin_end": 1.8,
            "count": 0
           },
           {
            "bin_start": 1.8,
            "bin_end": 1.9,
            "count": 0
           },
           {
            "bin_start": 1.9,
            "bin_end": 2,
            "count": 1
           }
          ]
         }
        },
        {
         "name": "sqft_above",
         "dtype": "int64",
         "stats": {
          "unique_count": 5,
          "nan_count": 0,
          "min": "770",
          "max": "2170",
          "histogram": [
           {
            "bin_start": 770,
            "bin_end": 910,
            "count": 1
           },
           {
            "bin_start": 910,
            "bin_end": 1050,
            "count": 0
           },
           {
            "bin_start": 1050,
            "bin_end": 1190,
            "count": 2
           },
           {
            "bin_start": 1190,
            "bin_end": 1330,
            "count": 0
           },
           {
            "bin_start": 1330,
            "bin_end": 1470,
            "count": 0
           },
           {
            "bin_start": 1470,
            "bin_end": 1610,
            "count": 0
           },
           {
            "bin_start": 1610,
            "bin_end": 1750,
            "count": 1
           },
           {
            "bin_start": 1750,
            "bin_end": 1890,
            "count": 0
           },
           {
            "bin_start": 1890,
            "bin_end": 2030,
            "count": 0
           },
           {
            "bin_start": 2030,
            "bin_end": 2170,
            "count": 1
           }
          ]
         }
        },
        {
         "name": "sqft_basement",
         "dtype": "int64",
         "stats": {
          "unique_count": 3,
          "nan_count": 0,
          "min": "0",
          "max": "910",
          "histogram": [
           {
            "bin_start": 0,
            "bin_end": 91,
            "count": 3
           },
           {
            "bin_start": 91,
            "bin_end": 182,
            "count": 0
           },
           {
            "bin_start": 182,
            "bin_end": 273,
            "count": 0
           },
           {
            "bin_start": 273,
            "bin_end": 364,
            "count": 0
           },
           {
            "bin_start": 364,
            "bin_end": 455,
            "count": 1
           },
           {
            "bin_start": 455,
            "bin_end": 546,
            "count": 0
           },
           {
            "bin_start": 546,
            "bin_end": 637,
            "count": 0
           },
           {
            "bin_start": 637,
            "bin_end": 728,
            "count": 0
           },
           {
            "bin_start": 728,
            "bin_end": 819,
            "count": 0
           },
           {
            "bin_start": 819,
            "bin_end": 910,
            "count": 1
           }
          ]
         }
        },
        {
         "name": "price",
         "dtype": "float64",
         "stats": {
          "unique_count": 5,
          "nan_count": 0,
          "min": "180000.0",
          "max": "604000.0",
          "histogram": [
           {
            "bin_start": 180000,
            "bin_end": 222400,
            "count": 2
           },
           {
            "bin_start": 222400,
            "bin_end": 264800,
            "count": 0
           },
           {
            "bin_start": 264800,
            "bin_end": 307200,
            "count": 0
           },
           {
            "bin_start": 307200,
            "bin_end": 349600,
            "count": 0
           },
           {
            "bin_start": 349600,
            "bin_end": 392000,
            "count": 0
           },
           {
            "bin_start": 392000,
            "bin_end": 434400,
            "count": 0
           },
           {
            "bin_start": 434400,
            "bin_end": 476800,
            "count": 0
           },
           {
            "bin_start": 476800,
            "bin_end": 519200,
            "count": 1
           },
           {
            "bin_start": 519200,
            "bin_end": 561600,
            "count": 1
           },
           {
            "bin_start": 561600,
            "bin_end": 604000,
            "count": 1
           }
          ]
         }
        },
        {
         "name": "_deepnote_index_column",
         "dtype": "int64"
        }
       ],
       "rows": [
        {
         "id": 7129300520,
         "bedrooms": 3,
         "sqft_living": 1180,
         "sqft_lot": 5650,
         "floors": 1,
         "sqft_above": 1180,
         "sqft_basement": 0,
         "price": 221900,
         "_deepnote_index_column": 0
        },
        {
         "id": 6414100192,
         "bedrooms": 3,
         "sqft_living": 2570,
         "sqft_lot": 7242,
         "floors": 2,
         "sqft_above": 2170,
         "sqft_basement": 400,
         "price": 538000,
         "_deepnote_index_column": 1
        },
        {
         "id": 5631500400,
         "bedrooms": 2,
         "sqft_living": 770,
         "sqft_lot": 10000,
         "floors": 1,
         "sqft_above": 770,
         "sqft_basement": 0,
         "price": 180000,
         "_deepnote_index_column": 2
        },
        {
         "id": 2487200875,
         "bedrooms": 4,
         "sqft_living": 1960,
         "sqft_lot": 5000,
         "floors": 1,
         "sqft_above": 1050,
         "sqft_basement": 910,
         "price": 604000,
         "_deepnote_index_column": 3
        },
        {
         "id": 1954400510,
         "bedrooms": 3,
         "sqft_living": 1680,
         "sqft_lot": 8080,
         "floors": 1,
         "sqft_above": 1680,
         "sqft_basement": 0,
         "price": 510000,
         "_deepnote_index_column": 4
        }
       ]
      },
      "text/plain": "           id  bedrooms  sqft_living  sqft_lot  floors  sqft_above  \\\n0  7129300520         3         1180      5650       1        1180   \n1  6414100192         3         2570      7242       2        2170   \n2  5631500400         2          770     10000       1         770   \n3  2487200875         4         1960      5000       1        1050   \n4  1954400510         3         1680      8080       1        1680   \n\n   sqft_basement     price  \n0              0  221900.0  \n1            400  538000.0  \n2              0  180000.0  \n3            910  604000.0  \n4              0  510000.0  ",
      "text/html": "<div>\n<style scoped>\n    .dataframe tbody tr th:only-of-type {\n        vertical-align: middle;\n    }\n\n    .dataframe tbody tr th {\n        vertical-align: top;\n    }\n\n    .dataframe thead th {\n        text-align: right;\n    }\n</style>\n<table border=\"1\" class=\"dataframe\">\n  <thead>\n    <tr style=\"text-align: right;\">\n      <th></th>\n      <th>id</th>\n      <th>bedrooms</th>\n      <th>sqft_living</th>\n      <th>sqft_lot</th>\n      <th>floors</th>\n      <th>sqft_above</th>\n      <th>sqft_basement</th>\n      <th>price</th>\n    </tr>\n  </thead>\n  <tbody>\n    <tr>\n      <th>0</th>\n      <td>7129300520</td>\n      <td>3</td>\n      <td>1180</td>\n      <td>5650</td>\n      <td>1</td>\n      <td>1180</td>\n      <td>0</td>\n      <td>221900.0</td>\n    </tr>\n    <tr>\n      <th>1</th>\n      <td>6414100192</td>\n      <td>3</td>\n      <td>2570</td>\n      <td>7242</td>\n      <td>2</td>\n      <td>2170</td>\n      <td>400</td>\n      <td>538000.0</td>\n    </tr>\n    <tr>\n      <th>2</th>\n      <td>5631500400</td>\n      <td>2</td>\n      <td>770</td>\n      <td>10000</td>\n      <td>1</td>\n      <td>770</td>\n      <td>0</td>\n      <td>180000.0</td>\n    </tr>\n    <tr>\n      <th>3</th>\n      <td>2487200875</td>\n      <td>4</td>\n      <td>1960</td>\n      <td>5000</td>\n      <td>1</td>\n      <td>1050</td>\n      <td>910</td>\n      <td>604000.0</td>\n    </tr>\n    <tr>\n      <th>4</th>\n      <td>1954400510</td>\n      <td>3</td>\n      <td>1680</td>\n      <td>8080</td>\n      <td>1</td>\n      <td>1680</td>\n      <td>0</td>\n      <td>510000.0</td>\n    </tr>\n  </tbody>\n</table>\n</div>"
     },
     "metadata": {}
    }
   ]
  },
  {
   "cell_type": "code",
   "metadata": {
    "id": "TkFNpebyk8-B",
    "cell_id": "00004-bc706533-6ecf-4e41-9fe7-ed26cf486bce",
    "deepnote_to_be_reexecuted": false,
    "source_hash": "6999884a",
    "execution_start": 1639591030871,
    "execution_millis": 13,
    "deepnote_cell_type": "code"
   },
   "source": "# Separerer de andre attributtene fra prediksjon attributte.\nx = df.drop('price',axis=1)\n\n# Sparerer prediksjon attributte inn i \"Y\" for \"Model Training\"\ny = df['price']",
   "execution_count": null,
   "outputs": []
  },
  {
   "cell_type": "code",
   "metadata": {
    "id": "Jajdc73nk8-B",
    "cell_id": "00005-da452aeb-e1a6-455c-ae07-b1a30662942a",
    "deepnote_to_be_reexecuted": false,
    "source_hash": "e186c3ce",
    "execution_start": 1639591034039,
    "execution_millis": 1634,
    "deepnote_cell_type": "code"
   },
   "source": "from sklearn.model_selection import train_test_split\n\n# Her splittes dataen.\nx_train, x_test, y_train, y_test = train_test_split(x, y, test_size = 0.2, random_state = 42)",
   "execution_count": null,
   "outputs": []
  },
  {
   "cell_type": "markdown",
   "source": "#### Multilinear Regression",
   "metadata": {
    "id": "p18Nab8lk8-C",
    "cell_id": "00006-b857a165-034e-4b93-b299-8a3d7e71959c",
    "deepnote_cell_type": "markdown"
   }
  },
  {
   "cell_type": "code",
   "metadata": {
    "id": "_0NRj3Ynk8-D",
    "outputId": "d31f708e-a48d-4469-86b5-9b6e8c3d8cb3",
    "cell_id": "00007-256654ba-c4d6-4b58-919a-d3596be11877",
    "deepnote_output_heights": [
     21.1875
    ],
    "deepnote_to_be_reexecuted": false,
    "source_hash": "ece911e9",
    "execution_start": 1639591040849,
    "execution_millis": 153,
    "deepnote_cell_type": "code"
   },
   "source": "from sklearn.linear_model import LinearRegression\n\n# Lager objekt av \"LinearRegression Class\"\nLR = LinearRegression()\n\n# Fitting Trainnig Data...\nLR.fit(x_train,y_train)",
   "execution_count": null,
   "outputs": [
    {
     "output_type": "execute_result",
     "execution_count": 4,
     "data": {
      "text/plain": "LinearRegression()"
     },
     "metadata": {}
    }
   ]
  },
  {
   "cell_type": "code",
   "metadata": {
    "id": "3fPtl-tCk8-E",
    "cell_id": "00008-72efb4f4-990a-4277-a8bf-e1825dad3f9f",
    "deepnote_to_be_reexecuted": false,
    "source_hash": "7b73dad0",
    "execution_start": 1639591042990,
    "execution_millis": 12,
    "deepnote_cell_type": "code"
   },
   "source": "y_prediction =  LR.predict(x_test)",
   "execution_count": null,
   "outputs": []
  },
  {
   "cell_type": "code",
   "metadata": {
    "id": "KqWyfbfPk8-F",
    "outputId": "18b378ef-226c-4b72-f763-364d63059c03",
    "cell_id": "00009-be1668f3-1078-4b0a-9358-1adbe0ef2530",
    "deepnote_to_be_reexecuted": false,
    "source_hash": "a1ea07ce",
    "execution_start": 1639591047072,
    "execution_millis": 33,
    "deepnote_cell_type": "code"
   },
   "source": "import numpy as np\nfrom sklearn.metrics import r2_score\nfrom sklearn.metrics import mean_squared_error\n\n# Evaluerer nøyaktigheten.\nscore=r2_score(y_test,y_prediction)\nprint('Coefficient of Determination is (R2): ',score)\nprint('mean_sqrd_error is: ',mean_squared_error(y_test,y_prediction))\nprint('root_mean_squared error of is: ',np.sqrt(mean_squared_error(y_test,y_prediction)))",
   "execution_count": null,
   "outputs": [
    {
     "name": "stdout",
     "text": "Coefficient of Determination is (R2):  0.47025591897108\nmean_sqrd_error is:  47625964064.695595\nroot_mean_squared error of is:  218233.7372284487\n",
     "output_type": "stream",
     "data": {}
    }
   ]
  },
  {
   "cell_type": "markdown",
   "source": "####  kNN Regressor",
   "metadata": {
    "id": "MdF4TXcYk8-G",
    "cell_id": "00010-81acc131-d978-4cb7-8451-74024e146649",
    "deepnote_cell_type": "markdown"
   }
  },
  {
   "cell_type": "code",
   "metadata": {
    "id": "udTMx1mEk8-G",
    "outputId": "e9754cc8-03c8-4345-9f81-fb7074465bb7",
    "cell_id": "00011-f83591a8-3ae1-4331-9429-78fe31a69ca0",
    "deepnote_output_heights": [
     21.1875
    ],
    "deepnote_to_be_reexecuted": false,
    "source_hash": "f29e5ab1",
    "execution_start": 1639591202629,
    "execution_millis": 453,
    "deepnote_cell_type": "code"
   },
   "source": "from sklearn.neighbors import KNeighborsRegressor\n\nneigh = KNeighborsRegressor(n_neighbors=2)\nneigh.fit(x_train,y_train)",
   "execution_count": null,
   "outputs": [
    {
     "output_type": "execute_result",
     "execution_count": 7,
     "data": {
      "text/plain": "KNeighborsRegressor(n_neighbors=2)"
     },
     "metadata": {}
    }
   ]
  },
  {
   "cell_type": "code",
   "metadata": {
    "id": "1AB_Ctfok8-I",
    "cell_id": "00012-5403384e-6f07-4fa5-a1d7-ccb450cbca11",
    "deepnote_to_be_reexecuted": false,
    "source_hash": "f4bb06e6",
    "execution_start": 1639591205077,
    "execution_millis": 2,
    "deepnote_cell_type": "code"
   },
   "source": "y_prediction =  neigh.predict(x_test)",
   "execution_count": null,
   "outputs": []
  },
  {
   "cell_type": "code",
   "metadata": {
    "id": "GJohOBm_k8-K",
    "outputId": "95df3a9f-4636-49a4-f7e2-5e7d9cdb0719",
    "cell_id": "00013-379f66b7-70a1-46e6-bf25-00ec67576229",
    "deepnote_to_be_reexecuted": false,
    "source_hash": "21d11e60",
    "execution_start": 1639591207667,
    "execution_millis": 72,
    "deepnote_cell_type": "code"
   },
   "source": "import numpy as np\nfrom sklearn.metrics import r2_score\nfrom sklearn.metrics import mean_squared_error\n\n# Evaluerer nøyaktigheten.\nscore=r2_score(y_test,y_prediction)\nprint('Coefficient of Determination is (R2): ',np.abs(score))\nprint('mean_sqrd_error is: ',mean_squared_error(y_test,y_prediction))\nprint('root_mean_squared error of is: ',np.sqrt(mean_squared_error(y_test,y_prediction)))",
   "execution_count": null,
   "outputs": [
    {
     "name": "stdout",
     "text": "Coefficient of Determination is (R2):  0.4308116759938603\nmean_sqrd_error is:  128635293728.76625\nroot_mean_squared error of is:  358657.6274509804\n",
     "output_type": "stream",
     "data": {}
    }
   ]
  },
  {
   "cell_type": "markdown",
   "source": "#### Konklusjon:",
   "metadata": {
    "id": "XUMW8f1Rk8-L",
    "cell_id": "00014-c02a3e36-6c37-4ba2-ae0e-5a465c6ebe5b",
    "deepnote_cell_type": "markdown"
   }
  },
  {
   "cell_type": "markdown",
   "source": "Multilinear Regressor gir best resultat på datasettet siden den har høyere \"Coefficient of Determination (R2)\" og lavere \"Mean Square Error\" enn kNN Regressor",
   "metadata": {
    "id": "ColRnvJ8k8-L",
    "cell_id": "00015-7e72fc53-233b-40c4-8aa1-cef72065efc2",
    "deepnote_cell_type": "markdown"
   }
  },
  {
   "cell_type": "markdown",
   "source": "# Problem 2: Clustering Problem",
   "metadata": {
    "id": "v4Fgb9tyk8-M",
    "cell_id": "00016-ac566319-ab6f-4311-abf4-bfcf5a9d862c",
    "deepnote_cell_type": "markdown"
   }
  },
  {
   "cell_type": "code",
   "metadata": {
    "id": "pbcCYo_Pk8-N",
    "outputId": "7ebacc9f-dffb-425d-cccf-96bb20bf90dd",
    "cell_id": "00017-e7071147-c287-458c-89c4-84fb0872c1a1",
    "deepnote_output_heights": [
     177
    ],
    "deepnote_to_be_reexecuted": false,
    "source_hash": "ae3b223e",
    "execution_start": 1639592083285,
    "execution_millis": 387,
    "deepnote_cell_type": "code"
   },
   "source": "import pandas as pd\ndf = pd.read_csv('Clustering_diabetesdata.csv')\ndf.head()",
   "execution_count": null,
   "outputs": [
    {
     "output_type": "execute_result",
     "execution_count": 10,
     "data": {
      "application/vnd.deepnote.dataframe.v3+json": {
       "column_count": 8,
       "row_count": 5,
       "columns": [
        {
         "name": "Numb_of_Times_Preg",
         "dtype": "int64",
         "stats": {
          "unique_count": 4,
          "nan_count": 0,
          "min": "0",
          "max": "8",
          "histogram": [
           {
            "bin_start": 0,
            "bin_end": 0.8,
            "count": 1
           },
           {
            "bin_start": 0.8,
            "bin_end": 1.6,
            "count": 2
           },
           {
            "bin_start": 1.6,
            "bin_end": 2.4000000000000004,
            "count": 0
           },
           {
            "bin_start": 2.4000000000000004,
            "bin_end": 3.2,
            "count": 0
           },
           {
            "bin_start": 3.2,
            "bin_end": 4,
            "count": 0
           },
           {
            "bin_start": 4,
            "bin_end": 4.800000000000001,
            "count": 0
           },
           {
            "bin_start": 4.800000000000001,
            "bin_end": 5.6000000000000005,
            "count": 0
           },
           {
            "bin_start": 5.6000000000000005,
            "bin_end": 6.4,
            "count": 1
           },
           {
            "bin_start": 6.4,
            "bin_end": 7.2,
            "count": 0
           },
           {
            "bin_start": 7.2,
            "bin_end": 8,
            "count": 1
           }
          ]
         }
        },
        {
         "name": "PlasmaglucoseConcentration",
         "dtype": "int64",
         "stats": {
          "unique_count": 5,
          "nan_count": 0,
          "min": "85",
          "max": "183",
          "histogram": [
           {
            "bin_start": 85,
            "bin_end": 94.8,
            "count": 2
           },
           {
            "bin_start": 94.8,
            "bin_end": 104.6,
            "count": 0
           },
           {
            "bin_start": 104.6,
            "bin_end": 114.4,
            "count": 0
           },
           {
            "bin_start": 114.4,
            "bin_end": 124.2,
            "count": 0
           },
           {
            "bin_start": 124.2,
            "bin_end": 134,
            "count": 0
           },
           {
            "bin_start": 134,
            "bin_end": 143.8,
            "count": 1
           },
           {
            "bin_start": 143.8,
            "bin_end": 153.60000000000002,
            "count": 1
           },
           {
            "bin_start": 153.60000000000002,
            "bin_end": 163.4,
            "count": 0
           },
           {
            "bin_start": 163.4,
            "bin_end": 173.2,
            "count": 0
           },
           {
            "bin_start": 173.2,
            "bin_end": 183,
            "count": 1
           }
          ]
         }
        },
        {
         "name": "BloodPressure",
         "dtype": "int64",
         "stats": {
          "unique_count": 4,
          "nan_count": 0,
          "min": "40",
          "max": "72",
          "histogram": [
           {
            "bin_start": 40,
            "bin_end": 43.2,
            "count": 1
           },
           {
            "bin_start": 43.2,
            "bin_end": 46.4,
            "count": 0
           },
           {
            "bin_start": 46.4,
            "bin_end": 49.6,
            "count": 0
           },
           {
            "bin_start": 49.6,
            "bin_end": 52.8,
            "count": 0
           },
           {
            "bin_start": 52.8,
            "bin_end": 56,
            "count": 0
           },
           {
            "bin_start": 56,
            "bin_end": 59.2,
            "count": 0
           },
           {
            "bin_start": 59.2,
            "bin_end": 62.400000000000006,
            "count": 0
           },
           {
            "bin_start": 62.400000000000006,
            "bin_end": 65.6,
            "count": 1
           },
           {
            "bin_start": 65.6,
            "bin_end": 68.8,
            "count": 2
           },
           {
            "bin_start": 68.8,
            "bin_end": 72,
            "count": 1
           }
          ]
         }
        },
        {
         "name": "SkinFoldThickness",
         "dtype": "int64",
         "stats": {
          "unique_count": 4,
          "nan_count": 0,
          "min": "0",
          "max": "35",
          "histogram": [
           {
            "bin_start": 0,
            "bin_end": 3.5,
            "count": 1
           },
           {
            "bin_start": 3.5,
            "bin_end": 7,
            "count": 0
           },
           {
            "bin_start": 7,
            "bin_end": 10.5,
            "count": 0
           },
           {
            "bin_start": 10.5,
            "bin_end": 14,
            "count": 0
           },
           {
            "bin_start": 14,
            "bin_end": 17.5,
            "count": 0
           },
           {
            "bin_start": 17.5,
            "bin_end": 21,
            "count": 0
           },
           {
            "bin_start": 21,
            "bin_end": 24.5,
            "count": 1
           },
           {
            "bin_start": 24.5,
            "bin_end": 28,
            "count": 0
           },
           {
            "bin_start": 28,
            "bin_end": 31.5,
            "count": 1
           },
           {
            "bin_start": 31.5,
            "bin_end": 35,
            "count": 2
           }
          ]
         }
        },
        {
         "name": "SerumInsulin",
         "dtype": "int64",
         "stats": {
          "unique_count": 3,
          "nan_count": 0,
          "min": "0",
          "max": "168",
          "histogram": [
           {
            "bin_start": 0,
            "bin_end": 16.8,
            "count": 3
           },
           {
            "bin_start": 16.8,
            "bin_end": 33.6,
            "count": 0
           },
           {
            "bin_start": 33.6,
            "bin_end": 50.400000000000006,
            "count": 0
           },
           {
            "bin_start": 50.400000000000006,
            "bin_end": 67.2,
            "count": 0
           },
           {
            "bin_start": 67.2,
            "bin_end": 84,
            "count": 0
           },
           {
            "bin_start": 84,
            "bin_end": 100.80000000000001,
            "count": 1
           },
           {
            "bin_start": 100.80000000000001,
            "bin_end": 117.60000000000001,
            "count": 0
           },
           {
            "bin_start": 117.60000000000001,
            "bin_end": 134.4,
            "count": 0
           },
           {
            "bin_start": 134.4,
            "bin_end": 151.20000000000002,
            "count": 0
           },
           {
            "bin_start": 151.20000000000002,
            "bin_end": 168,
            "count": 1
           }
          ]
         }
        },
        {
         "name": "BMI",
         "dtype": "float64",
         "stats": {
          "unique_count": 5,
          "nan_count": 0,
          "min": "23.3",
          "max": "43.1",
          "histogram": [
           {
            "bin_start": 23.3,
            "bin_end": 25.28,
            "count": 1
           },
           {
            "bin_start": 25.28,
            "bin_end": 27.26,
            "count": 1
           },
           {
            "bin_start": 27.26,
            "bin_end": 29.240000000000002,
            "count": 1
           },
           {
            "bin_start": 29.240000000000002,
            "bin_end": 31.22,
            "count": 0
           },
           {
            "bin_start": 31.22,
            "bin_end": 33.2,
            "count": 0
           },
           {
            "bin_start": 33.2,
            "bin_end": 35.18,
            "count": 1
           },
           {
            "bin_start": 35.18,
            "bin_end": 37.16,
            "count": 0
           },
           {
            "bin_start": 37.16,
            "bin_end": 39.14,
            "count": 0
           },
           {
            "bin_start": 39.14,
            "bin_end": 41.120000000000005,
            "count": 0
           },
           {
            "bin_start": 41.120000000000005,
            "bin_end": 43.1,
            "count": 1
           }
          ]
         }
        },
        {
         "name": "DiabetesPedigreeFunction",
         "dtype": "float64",
         "stats": {
          "unique_count": 5,
          "nan_count": 0,
          "min": "0.167",
          "max": "2.288",
          "histogram": [
           {
            "bin_start": 0.167,
            "bin_end": 0.3791,
            "count": 2
           },
           {
            "bin_start": 0.3791,
            "bin_end": 0.5912000000000001,
            "count": 0
           },
           {
            "bin_start": 0.5912000000000001,
            "bin_end": 0.8033000000000001,
            "count": 2
           },
           {
            "bin_start": 0.8033000000000001,
            "bin_end": 1.0154,
            "count": 0
           },
           {
            "bin_start": 1.0154,
            "bin_end": 1.2275,
            "count": 0
           },
           {
            "bin_start": 1.2275,
            "bin_end": 1.4396000000000002,
            "count": 0
           },
           {
            "bin_start": 1.4396000000000002,
            "bin_end": 1.6517000000000002,
            "count": 0
           },
           {
            "bin_start": 1.6517000000000002,
            "bin_end": 1.8638000000000001,
            "count": 0
           },
           {
            "bin_start": 1.8638000000000001,
            "bin_end": 2.0759,
            "count": 0
           },
           {
            "bin_start": 2.0759,
            "bin_end": 2.288,
            "count": 1
           }
          ]
         }
        },
        {
         "name": "Age",
         "dtype": "int64",
         "stats": {
          "unique_count": 5,
          "nan_count": 0,
          "min": "21",
          "max": "50",
          "histogram": [
           {
            "bin_start": 21,
            "bin_end": 23.9,
            "count": 1
           },
           {
            "bin_start": 23.9,
            "bin_end": 26.8,
            "count": 0
           },
           {
            "bin_start": 26.8,
            "bin_end": 29.7,
            "count": 0
           },
           {
            "bin_start": 29.7,
            "bin_end": 32.6,
            "count": 2
           },
           {
            "bin_start": 32.6,
            "bin_end": 35.5,
            "count": 1
           },
           {
            "bin_start": 35.5,
            "bin_end": 38.4,
            "count": 0
           },
           {
            "bin_start": 38.4,
            "bin_end": 41.3,
            "count": 0
           },
           {
            "bin_start": 41.3,
            "bin_end": 44.2,
            "count": 0
           },
           {
            "bin_start": 44.2,
            "bin_end": 47.099999999999994,
            "count": 0
           },
           {
            "bin_start": 47.099999999999994,
            "bin_end": 50,
            "count": 1
           }
          ]
         }
        },
        {
         "name": "_deepnote_index_column",
         "dtype": "int64"
        }
       ],
       "rows": [
        {
         "Numb_of_Times_Preg": 6,
         "PlasmaglucoseConcentration": 148,
         "BloodPressure": 72,
         "SkinFoldThickness": 35,
         "SerumInsulin": 0,
         "BMI": 33.6,
         "DiabetesPedigreeFunction": 0.627,
         "Age": 50,
         "_deepnote_index_column": 0
        },
        {
         "Numb_of_Times_Preg": 1,
         "PlasmaglucoseConcentration": 85,
         "BloodPressure": 66,
         "SkinFoldThickness": 29,
         "SerumInsulin": 0,
         "BMI": 26.6,
         "DiabetesPedigreeFunction": 0.351,
         "Age": 31,
         "_deepnote_index_column": 1
        },
        {
         "Numb_of_Times_Preg": 8,
         "PlasmaglucoseConcentration": 183,
         "BloodPressure": 64,
         "SkinFoldThickness": 0,
         "SerumInsulin": 0,
         "BMI": 23.3,
         "DiabetesPedigreeFunction": 0.672,
         "Age": 32,
         "_deepnote_index_column": 2
        },
        {
         "Numb_of_Times_Preg": 1,
         "PlasmaglucoseConcentration": 89,
         "BloodPressure": 66,
         "SkinFoldThickness": 23,
         "SerumInsulin": 94,
         "BMI": 28.1,
         "DiabetesPedigreeFunction": 0.167,
         "Age": 21,
         "_deepnote_index_column": 3
        },
        {
         "Numb_of_Times_Preg": 0,
         "PlasmaglucoseConcentration": 137,
         "BloodPressure": 40,
         "SkinFoldThickness": 35,
         "SerumInsulin": 168,
         "BMI": 43.1,
         "DiabetesPedigreeFunction": 2.288,
         "Age": 33,
         "_deepnote_index_column": 4
        }
       ]
      },
      "text/plain": "   Numb_of_Times_Preg  PlasmaglucoseConcentration  BloodPressure  \\\n0                   6                         148             72   \n1                   1                          85             66   \n2                   8                         183             64   \n3                   1                          89             66   \n4                   0                         137             40   \n\n   SkinFoldThickness  SerumInsulin   BMI  DiabetesPedigreeFunction  Age  \n0                 35             0  33.6                     0.627   50  \n1                 29             0  26.6                     0.351   31  \n2                  0             0  23.3                     0.672   32  \n3                 23            94  28.1                     0.167   21  \n4                 35           168  43.1                     2.288   33  ",
      "text/html": "<div>\n<style scoped>\n    .dataframe tbody tr th:only-of-type {\n        vertical-align: middle;\n    }\n\n    .dataframe tbody tr th {\n        vertical-align: top;\n    }\n\n    .dataframe thead th {\n        text-align: right;\n    }\n</style>\n<table border=\"1\" class=\"dataframe\">\n  <thead>\n    <tr style=\"text-align: right;\">\n      <th></th>\n      <th>Numb_of_Times_Preg</th>\n      <th>PlasmaglucoseConcentration</th>\n      <th>BloodPressure</th>\n      <th>SkinFoldThickness</th>\n      <th>SerumInsulin</th>\n      <th>BMI</th>\n      <th>DiabetesPedigreeFunction</th>\n      <th>Age</th>\n    </tr>\n  </thead>\n  <tbody>\n    <tr>\n      <th>0</th>\n      <td>6</td>\n      <td>148</td>\n      <td>72</td>\n      <td>35</td>\n      <td>0</td>\n      <td>33.6</td>\n      <td>0.627</td>\n      <td>50</td>\n    </tr>\n    <tr>\n      <th>1</th>\n      <td>1</td>\n      <td>85</td>\n      <td>66</td>\n      <td>29</td>\n      <td>0</td>\n      <td>26.6</td>\n      <td>0.351</td>\n      <td>31</td>\n    </tr>\n    <tr>\n      <th>2</th>\n      <td>8</td>\n      <td>183</td>\n      <td>64</td>\n      <td>0</td>\n      <td>0</td>\n      <td>23.3</td>\n      <td>0.672</td>\n      <td>32</td>\n    </tr>\n    <tr>\n      <th>3</th>\n      <td>1</td>\n      <td>89</td>\n      <td>66</td>\n      <td>23</td>\n      <td>94</td>\n      <td>28.1</td>\n      <td>0.167</td>\n      <td>21</td>\n    </tr>\n    <tr>\n      <th>4</th>\n      <td>0</td>\n      <td>137</td>\n      <td>40</td>\n      <td>35</td>\n      <td>168</td>\n      <td>43.1</td>\n      <td>2.288</td>\n      <td>33</td>\n    </tr>\n  </tbody>\n</table>\n</div>"
     },
     "metadata": {}
    }
   ]
  },
  {
   "cell_type": "code",
   "metadata": {
    "id": "e9-2b_ark8-O",
    "cell_id": "00018-3b71be81-e0d0-4982-9883-c55f32422203",
    "deepnote_to_be_reexecuted": false,
    "source_hash": "6a77453d",
    "execution_start": 1639592086103,
    "execution_millis": 2033,
    "deepnote_cell_type": "code"
   },
   "source": "import matplotlib.pyplot as plt",
   "execution_count": null,
   "outputs": []
  },
  {
   "cell_type": "markdown",
   "source": "#### k-Means clustering",
   "metadata": {
    "id": "CCBlHKzYk8-P",
    "cell_id": "00019-8b10d958-9a06-429e-bd4c-d479688bef10",
    "deepnote_cell_type": "markdown"
   }
  },
  {
   "cell_type": "code",
   "metadata": {
    "id": "AHCcTinyk8-Q",
    "cell_id": "00020-d6772882-8565-4faf-8ad3-b39cc633664a",
    "deepnote_to_be_reexecuted": false,
    "source_hash": "a630c660",
    "execution_start": 1639592090774,
    "execution_millis": 307,
    "deepnote_cell_type": "code"
   },
   "source": "from sklearn.cluster import KMeans\nkmeans = KMeans(\n    init=\"random\",\n    n_clusters=3,\n    n_init=10,\n    max_iter=300,\n    random_state=42\n)",
   "execution_count": null,
   "outputs": []
  },
  {
   "cell_type": "code",
   "metadata": {
    "id": "R5Bys_AFk8-Q",
    "outputId": "a4a51b15-76b1-4bbb-8c03-eba50487115f",
    "cell_id": "00021-05836378-e29a-4d9f-af50-53ad2b20fe41",
    "deepnote_output_heights": [
     21.1875
    ],
    "deepnote_to_be_reexecuted": false,
    "source_hash": "daae2edd",
    "execution_start": 1639592100915,
    "execution_millis": 189,
    "deepnote_cell_type": "code"
   },
   "source": "kmeans.fit(df)",
   "execution_count": null,
   "outputs": [
    {
     "output_type": "execute_result",
     "execution_count": 13,
     "data": {
      "text/plain": "KMeans(init='random', n_clusters=3, random_state=42)"
     },
     "metadata": {}
    }
   ]
  },
  {
   "cell_type": "code",
   "metadata": {
    "id": "wPH5TjPLk8-R",
    "outputId": "a14dfc2e-6008-49f5-e919-43ecc37add60",
    "cell_id": "00022-ff84afbd-f924-46b2-8aff-e0a88469ee9c",
    "deepnote_output_heights": [
     21.1875
    ],
    "deepnote_to_be_reexecuted": false,
    "source_hash": "70310276",
    "execution_start": 1639592105549,
    "execution_millis": 7,
    "deepnote_cell_type": "code"
   },
   "source": "# Den laveste SSE verdien.\nkmeans.inertia_",
   "execution_count": null,
   "outputs": [
    {
     "output_type": "execute_result",
     "execution_count": 14,
     "data": {
      "text/plain": "2932905.8813211545"
     },
     "metadata": {}
    }
   ]
  },
  {
   "cell_type": "code",
   "metadata": {
    "id": "VbNsERTQk8-S",
    "outputId": "e1938b3b-247f-433e-d0ab-f2b184291cec",
    "cell_id": "00023-7927fdd7-d217-4568-9e74-5e36dc9b0afe",
    "deepnote_output_heights": [
     117.125
    ],
    "deepnote_cell_type": "code"
   },
   "source": "# Endelige lokasjoner til \"Centroid\"\nkmeans.cluster_centers_",
   "execution_count": null,
   "outputs": [
    {
     "data": {
      "text/plain": "array([[  4.02702703, 114.30561331,  67.97713098,  14.77962578,\n         12.34927235,  30.82598753,   0.43139709,  33.95218295],\n       [  3.80851064, 159.        ,  72.12765957,  32.        ,\n        411.29787234,  35.32340426,   0.55004255,  34.42553191],\n       [  3.4875    , 126.6375    ,  70.775     ,  29.82916667,\n        150.0625    ,  33.67833333,   0.53769583,  31.58333333]])"
     },
     "execution_count": 46,
     "metadata": {},
     "output_type": "execute_result"
    }
   ]
  },
  {
   "cell_type": "code",
   "metadata": {
    "id": "wvkz360Ik8-T",
    "outputId": "2f115650-a72a-49ae-d8ce-b5c4a0d8d7c7",
    "cell_id": "00024-b74e1acf-fdfc-444d-90db-d6d84cae1e32",
    "deepnote_output_heights": [
     21.1875
    ],
    "deepnote_cell_type": "code"
   },
   "source": "# Antall itterasjoner som trengs for \"Converge\"\nkmeans.n_iter_",
   "execution_count": null,
   "outputs": [
    {
     "data": {
      "text/plain": "12"
     },
     "execution_count": 47,
     "metadata": {},
     "output_type": "execute_result"
    }
   ]
  },
  {
   "cell_type": "code",
   "metadata": {
    "id": "f8NG0G5Dk8-V",
    "outputId": "409b4aae-9179-4d22-d3b5-ae7e91a4e870",
    "cell_id": "00025-db0ce6dd-0d35-4ae4-a044-df86608faec8",
    "deepnote_output_heights": [
     21.1875
    ],
    "deepnote_cell_type": "code"
   },
   "source": "kmeans.labels_[:5]",
   "execution_count": null,
   "outputs": [
    {
     "data": {
      "text/plain": "array([0, 0, 0, 2, 2])"
     },
     "execution_count": 48,
     "metadata": {},
     "output_type": "execute_result"
    }
   ]
  },
  {
   "cell_type": "code",
   "metadata": {
    "id": "AqjGOaYTk8-W",
    "cell_id": "00026-39be8d58-1400-4237-83ae-da9c5e56ac4f",
    "deepnote_cell_type": "code"
   },
   "source": "kmeans_kwargs = {\"init\": \"random\", \"n_init\": 10, \"max_iter\": 300, \"random_state\": 42,}\n\n# En liste som holder SSE verdiene for hver K.\nsse = []\n\nfor k in range(1, 11):\n    kmeans = KMeans(n_clusters=k, **kmeans_kwargs)\n    kmeans.fit(df)\n    sse.append(kmeans.inertia_)",
   "execution_count": null,
   "outputs": []
  },
  {
   "cell_type": "code",
   "metadata": {
    "id": "aj7bLZR1k8-X",
    "outputId": "a37d52aa-2a86-4acb-afbb-4fd1208df669",
    "cell_id": "00027-e528f167-862b-4b43-ae11-8e0c5c24dea6",
    "deepnote_output_heights": [
     303
    ],
    "deepnote_cell_type": "code"
   },
   "source": "# Gjør klar for \"Elbow\" visualisering.\nplt.style.use(\"fivethirtyeight\")\nplt.plot(range(1, 11), sse)\nplt.xticks(range(1, 11))\nplt.xlabel(\"Number of Clusters\")\nplt.ylabel(\"SSE\")\nplt.show()",
   "execution_count": null,
   "outputs": [
    {
     "data": {
      "image/png": "[encoded data removed]",
      "text/plain": "<Figure size 432x288 with 1 Axes>"
     },
     "metadata": {
      "image/png": {
       "width": 437,
       "height": 301
      }
     },
     "output_type": "display_data"
    }
   ]
  },
  {
   "cell_type": "markdown",
   "source": "#### Konklusjon 1.",
   "metadata": {
    "id": "eTK-tD6Ok8-Y",
    "cell_id": "00028-28766a3d-7772-430a-adbe-e8daa573eb76",
    "deepnote_cell_type": "markdown"
   }
  },
  {
   "cell_type": "markdown",
   "source": "Mengden clustere som er vist med denne \"Elbow\" metoden viser 3 clustere, siden kurven bøyer seg mest på 3.",
   "metadata": {
    "id": "IW4eZKQRk8-Z",
    "cell_id": "00029-44adc53e-a455-437c-b9f5-7fad8161d262",
    "deepnote_cell_type": "markdown"
   }
  },
  {
   "cell_type": "markdown",
   "source": "#### Hierarichal Clustering",
   "metadata": {
    "id": "e0dJEdf1oCPs",
    "cell_id": "00030-f818ce7f-de67-464d-a4bc-9a2435907aa3",
    "deepnote_cell_type": "markdown"
   }
  },
  {
   "cell_type": "code",
   "metadata": {
    "id": "lWDcCrLDk8-a",
    "outputId": "0ae40b98-7171-4be8-eed6-4722eaf16b12",
    "cell_id": "00031-2f9565e0-5755-4d25-8772-1b1be17cdc38",
    "deepnote_output_heights": [
     177
    ],
    "deepnote_cell_type": "code"
   },
   "source": "# Normaliserer dataen slik at skaleringen er lik fordelt på dataen.\nfrom sklearn.preprocessing import normalize\ndata_scaled = normalize(df)\ndata_scaled = pd.DataFrame(data_scaled, columns=df.columns)\ndata_scaled.head()",
   "execution_count": null,
   "outputs": [
    {
     "data": {
      "text/html": "<div>\n<style scoped>\n    .dataframe tbody tr th:only-of-type {\n        vertical-align: middle;\n    }\n\n    .dataframe tbody tr th {\n        vertical-align: top;\n    }\n\n    .dataframe thead th {\n        text-align: right;\n    }\n</style>\n<table border=\"1\" class=\"dataframe\">\n  <thead>\n    <tr style=\"text-align: right;\">\n      <th></th>\n      <th>Numb_of_Times_Preg</th>\n      <th>PlasmaglucoseConcentration</th>\n      <th>BloodPressure</th>\n      <th>SkinFoldThickness</th>\n      <th>SerumInsulin</th>\n      <th>BMI</th>\n      <th>DiabetesPedigreeFunction</th>\n      <th>Age</th>\n    </tr>\n  </thead>\n  <tbody>\n    <tr>\n      <th>0</th>\n      <td>0.033552</td>\n      <td>0.827625</td>\n      <td>0.402628</td>\n      <td>0.195722</td>\n      <td>0.000000</td>\n      <td>0.187893</td>\n      <td>0.003506</td>\n      <td>0.279603</td>\n    </tr>\n    <tr>\n      <th>1</th>\n      <td>0.008424</td>\n      <td>0.716040</td>\n      <td>0.555984</td>\n      <td>0.244296</td>\n      <td>0.000000</td>\n      <td>0.224079</td>\n      <td>0.002957</td>\n      <td>0.261144</td>\n    </tr>\n    <tr>\n      <th>2</th>\n      <td>0.040398</td>\n      <td>0.924097</td>\n      <td>0.323181</td>\n      <td>0.000000</td>\n      <td>0.000000</td>\n      <td>0.117658</td>\n      <td>0.003393</td>\n      <td>0.161591</td>\n    </tr>\n    <tr>\n      <th>3</th>\n      <td>0.006612</td>\n      <td>0.588467</td>\n      <td>0.436392</td>\n      <td>0.152076</td>\n      <td>0.621527</td>\n      <td>0.185797</td>\n      <td>0.001104</td>\n      <td>0.138852</td>\n    </tr>\n    <tr>\n      <th>4</th>\n      <td>0.000000</td>\n      <td>0.596386</td>\n      <td>0.174127</td>\n      <td>0.152361</td>\n      <td>0.731335</td>\n      <td>0.187622</td>\n      <td>0.009960</td>\n      <td>0.143655</td>\n    </tr>\n  </tbody>\n</table>\n</div>",
      "text/plain": "   Numb_of_Times_Preg  PlasmaglucoseConcentration  BloodPressure  \\\n0            0.033552                    0.827625       0.402628   \n1            0.008424                    0.716040       0.555984   \n2            0.040398                    0.924097       0.323181   \n3            0.006612                    0.588467       0.436392   \n4            0.000000                    0.596386       0.174127   \n\n   SkinFoldThickness  SerumInsulin       BMI  DiabetesPedigreeFunction  \\\n0           0.195722      0.000000  0.187893                  0.003506   \n1           0.244296      0.000000  0.224079                  0.002957   \n2           0.000000      0.000000  0.117658                  0.003393   \n3           0.152076      0.621527  0.185797                  0.001104   \n4           0.152361      0.731335  0.187622                  0.009960   \n\n        Age  \n0  0.279603  \n1  0.261144  \n2  0.161591  \n3  0.138852  \n4  0.143655  "
     },
     "execution_count": 53,
     "metadata": {},
     "output_type": "execute_result"
    }
   ]
  },
  {
   "cell_type": "code",
   "metadata": {
    "id": "oL_RNp1zk8-b",
    "outputId": "511fd1f1-cf3b-4bff-b479-33359ae08c21",
    "cell_id": "00032-4b9a4b4f-a2d9-4fd1-acf3-40ef63552985",
    "deepnote_output_heights": [
     21.1875,
     427
    ],
    "deepnote_cell_type": "code"
   },
   "source": "import scipy.cluster.hierarchy as shc\n\nplt.figure(figsize=(10, 7))  \nplt.title(\"Dendrograms\")  \ndend = shc.dendrogram(shc.linkage(data_scaled, method='ward'))\nplt.axhline(y=6, color='r', linestyle='--')",
   "execution_count": null,
   "outputs": [
    {
     "data": {
      "text/plain": "<matplotlib.lines.Line2D at 0x223d1c09358>"
     },
     "execution_count": 55,
     "metadata": {},
     "output_type": "execute_result"
    },
    {
     "data": {
      "image/png": "[encoded data removed]",
      "text/plain": "<Figure size 720x504 with 1 Axes>"
     },
     "metadata": {
      "needs_background": "light",
      "image/png": {
       "width": 659,
       "height": 425
      }
     },
     "output_type": "display_data"
    }
   ]
  },
  {
   "cell_type": "markdown",
   "source": "Den vertikale linjen som går lengst er den blå linjen, derfor kan vi sette en terskel på 6 og kutte dendogramet. Det er 2 clusters siden den kutter dendogramet på to punkter.",
   "metadata": {
    "id": "qnsjRlumk8-b",
    "cell_id": "00033-dfcb734f-a993-434d-8637-4f81dac7960c",
    "deepnote_cell_type": "markdown"
   }
  },
  {
   "cell_type": "code",
   "metadata": {
    "id": "IBkBEJ9Ak8-c",
    "cell_id": "00034-08c95f60-940a-4121-865f-243d9511414d",
    "deepnote_cell_type": "code"
   },
   "source": "from sklearn.cluster import AgglomerativeClustering\n\ncluster = AgglomerativeClustering(n_clusters=2, affinity='euclidean', linkage='ward')  \ny_pred = cluster.fit_predict(data_scaled)",
   "execution_count": null,
   "outputs": []
  },
  {
   "cell_type": "markdown",
   "source": "#### Konklusjon 2.",
   "metadata": {
    "id": "odVNh3KVk8-c",
    "cell_id": "00035-81e306af-9faa-4cf9-ad5a-3d503055352a",
    "deepnote_cell_type": "markdown"
   }
  },
  {
   "cell_type": "markdown",
   "source": "Hierarchical Clustering gir 2 cluster hvor k-means identifiseres 3 clusters.",
   "metadata": {
    "id": "gb6E2036k8-d",
    "cell_id": "00036-54713741-ff24-441f-bbb4-a3991eaf4162",
    "deepnote_cell_type": "markdown"
   }
  },
  {
   "cell_type": "markdown",
   "source": "# Problem 3: Deep Learning Problem Using Keras \n",
   "metadata": {
    "id": "1O06q1Pzk8-d",
    "cell_id": "00037-66e6c88c-f5a8-498d-8023-892645a2c0f4",
    "deepnote_cell_type": "markdown"
   }
  },
  {
   "cell_type": "markdown",
   "source": "#### Task 1: Pre-processing of dataset",
   "metadata": {
    "id": "XHEHz1h7k8-e",
    "cell_id": "00038-c316ce7e-1238-4b44-8417-484474752dcc",
    "deepnote_cell_type": "markdown"
   }
  },
  {
   "cell_type": "code",
   "metadata": {
    "colab": {
     "base_uri": "https://localhost:8080/"
    },
    "id": "ZgbqcNa7k8-e",
    "outputId": "f5a9d6f9-983f-4d19-eda2-d4b513a26c28",
    "cell_id": "00039-bdac7789-05b9-49a6-8dbf-dc7db1863bfe",
    "deepnote_output_heights": [
     251.4375
    ],
    "deepnote_to_be_reexecuted": false,
    "source_hash": "6dcd8d51",
    "execution_start": 1639740919909,
    "execution_millis": 61,
    "deepnote_cell_type": "code"
   },
   "source": "import pandas as pd\ndf_train = pd.read_csv('Deep_Learning_task_train_dataset.csv')\ndf_train.dtypes",
   "outputs": [
    {
     "output_type": "execute_result",
     "execution_count": 1,
     "data": {
      "text/plain": "Item_Identifier               object\nItem_Weight                  float64\nItem_Fat_Content              object\nItem_Visibility              float64\nItem_Type                     object\nItem_MRP                     float64\nOutlet_Identifier             object\nOutlet_Establishment_Year      int64\nOutlet_Size                   object\nOutlet_Location_Type          object\nOutlet_Type                   object\nItem_Outlet_Sales            float64\ndtype: object"
     },
     "metadata": {}
    }
   ],
   "execution_count": null
  },
  {
   "cell_type": "code",
   "metadata": {
    "colab": {
     "base_uri": "https://localhost:8080/",
     "height": 293
    },
    "id": "tyCEJG_hk8-f",
    "outputId": "b58ef3cd-8ff9-4120-9026-c03e4d52b7f5",
    "cell_id": "00040-fe19c8bd-9ad8-4580-b260-fd3011eb8bf0",
    "deepnote_output_heights": [
     177
    ],
    "deepnote_to_be_reexecuted": false,
    "source_hash": "1cfea5c5",
    "execution_start": 1639740922918,
    "execution_millis": 114,
    "deepnote_cell_type": "code"
   },
   "source": "obj_df = df_train.select_dtypes(include=['object']).copy()\nobj_df.head()",
   "outputs": [
    {
     "output_type": "execute_result",
     "execution_count": 2,
     "data": {
      "application/vnd.deepnote.dataframe.v3+json": {
       "column_count": 7,
       "row_count": 5,
       "columns": [
        {
         "name": "Item_Identifier",
         "dtype": "object",
         "stats": {
          "unique_count": 5,
          "nan_count": 0,
          "categories": [
           {
            "name": "FDA15",
            "count": 1
           },
           {
            "name": "DRC01",
            "count": 1
           },
           {
            "name": "3 others",
            "count": 3
           }
          ]
         }
        },
        {
         "name": "Item_Fat_Content",
         "dtype": "object",
         "stats": {
          "unique_count": 2,
          "nan_count": 0,
          "categories": [
           {
            "name": "Low Fat",
            "count": 3
           },
           {
            "name": "Regular",
            "count": 2
           }
          ]
         }
        },
        {
         "name": "Item_Type",
         "dtype": "object",
         "stats": {
          "unique_count": 5,
          "nan_count": 0,
          "categories": [
           {
            "name": "Dairy",
            "count": 1
           },
           {
            "name": "Soft Drinks",
            "count": 1
           },
           {
            "name": "3 others",
            "count": 3
           }
          ]
         }
        },
        {
         "name": "Outlet_Identifier",
         "dtype": "object",
         "stats": {
          "unique_count": 4,
          "nan_count": 0,
          "categories": [
           {
            "name": "OUT049",
            "count": 2
           },
           {
            "name": "OUT018",
            "count": 1
           },
           {
            "name": "2 others",
            "count": 2
           }
          ]
         }
        },
        {
         "name": "Outlet_Size",
         "dtype": "object",
         "stats": {
          "unique_count": 2,
          "nan_count": 1,
          "categories": [
           {
            "name": "Medium",
            "count": 3
           },
           {
            "name": "High",
            "count": 1
           },
           {
            "name": "Missing",
            "count": 1
           }
          ]
         }
        },
        {
         "name": "Outlet_Location_Type",
         "dtype": "object",
         "stats": {
          "unique_count": 2,
          "nan_count": 0,
          "categories": [
           {
            "name": "Tier 3",
            "count": 3
           },
           {
            "name": "Tier 1",
            "count": 2
           }
          ]
         }
        },
        {
         "name": "Outlet_Type",
         "dtype": "object",
         "stats": {
          "unique_count": 3,
          "nan_count": 0,
          "categories": [
           {
            "name": "Supermarket Type1",
            "count": 3
           },
           {
            "name": "Supermarket Type2",
            "count": 1
           },
           {
            "name": "Grocery Store",
            "count": 1
           }
          ]
         }
        },
        {
         "name": "_deepnote_index_column",
         "dtype": "int64"
        }
       ],
       "rows": [
        {
         "Item_Identifier": "FDA15",
         "Item_Fat_Content": "Low Fat",
         "Item_Type": "Dairy",
         "Outlet_Identifier": "OUT049",
         "Outlet_Size": "Medium",
         "Outlet_Location_Type": "Tier 1",
         "Outlet_Type": "Supermarket Type1",
         "_deepnote_index_column": 0
        },
        {
         "Item_Identifier": "DRC01",
         "Item_Fat_Content": "Regular",
         "Item_Type": "Soft Drinks",
         "Outlet_Identifier": "OUT018",
         "Outlet_Size": "Medium",
         "Outlet_Location_Type": "Tier 3",
         "Outlet_Type": "Supermarket Type2",
         "_deepnote_index_column": 1
        },
        {
         "Item_Identifier": "FDN15",
         "Item_Fat_Content": "Low Fat",
         "Item_Type": "Meat",
         "Outlet_Identifier": "OUT049",
         "Outlet_Size": "Medium",
         "Outlet_Location_Type": "Tier 1",
         "Outlet_Type": "Supermarket Type1",
         "_deepnote_index_column": 2
        },
        {
         "Item_Identifier": "FDX07",
         "Item_Fat_Content": "Regular",
         "Item_Type": "Fruits and Vegetables",
         "Outlet_Identifier": "OUT010",
         "Outlet_Size": "nan",
         "Outlet_Location_Type": "Tier 3",
         "Outlet_Type": "Grocery Store",
         "_deepnote_index_column": 3
        },
        {
         "Item_Identifier": "NCD19",
         "Item_Fat_Content": "Low Fat",
         "Item_Type": "Household",
         "Outlet_Identifier": "OUT013",
         "Outlet_Size": "High",
         "Outlet_Location_Type": "Tier 3",
         "Outlet_Type": "Supermarket Type1",
         "_deepnote_index_column": 4
        }
       ]
      },
      "text/plain": "  Item_Identifier Item_Fat_Content              Item_Type Outlet_Identifier  \\\n0           FDA15          Low Fat                  Dairy            OUT049   \n1           DRC01          Regular            Soft Drinks            OUT018   \n2           FDN15          Low Fat                   Meat            OUT049   \n3           FDX07          Regular  Fruits and Vegetables            OUT010   \n4           NCD19          Low Fat              Household            OUT013   \n\n  Outlet_Size Outlet_Location_Type        Outlet_Type  \n0      Medium               Tier 1  Supermarket Type1  \n1      Medium               Tier 3  Supermarket Type2  \n2      Medium               Tier 1  Supermarket Type1  \n3         NaN               Tier 3      Grocery Store  \n4        High               Tier 3  Supermarket Type1  ",
      "text/html": "<div>\n<style scoped>\n    .dataframe tbody tr th:only-of-type {\n        vertical-align: middle;\n    }\n\n    .dataframe tbody tr th {\n        vertical-align: top;\n    }\n\n    .dataframe thead th {\n        text-align: right;\n    }\n</style>\n<table border=\"1\" class=\"dataframe\">\n  <thead>\n    <tr style=\"text-align: right;\">\n      <th></th>\n      <th>Item_Identifier</th>\n      <th>Item_Fat_Content</th>\n      <th>Item_Type</th>\n      <th>Outlet_Identifier</th>\n      <th>Outlet_Size</th>\n      <th>Outlet_Location_Type</th>\n      <th>Outlet_Type</th>\n    </tr>\n  </thead>\n  <tbody>\n    <tr>\n      <th>0</th>\n      <td>FDA15</td>\n      <td>Low Fat</td>\n      <td>Dairy</td>\n      <td>OUT049</td>\n      <td>Medium</td>\n      <td>Tier 1</td>\n      <td>Supermarket Type1</td>\n    </tr>\n    <tr>\n      <th>1</th>\n      <td>DRC01</td>\n      <td>Regular</td>\n      <td>Soft Drinks</td>\n      <td>OUT018</td>\n      <td>Medium</td>\n      <td>Tier 3</td>\n      <td>Supermarket Type2</td>\n    </tr>\n    <tr>\n      <th>2</th>\n      <td>FDN15</td>\n      <td>Low Fat</td>\n      <td>Meat</td>\n      <td>OUT049</td>\n      <td>Medium</td>\n      <td>Tier 1</td>\n      <td>Supermarket Type1</td>\n    </tr>\n    <tr>\n      <th>3</th>\n      <td>FDX07</td>\n      <td>Regular</td>\n      <td>Fruits and Vegetables</td>\n      <td>OUT010</td>\n      <td>NaN</td>\n      <td>Tier 3</td>\n      <td>Grocery Store</td>\n    </tr>\n    <tr>\n      <th>4</th>\n      <td>NCD19</td>\n      <td>Low Fat</td>\n      <td>Household</td>\n      <td>OUT013</td>\n      <td>High</td>\n      <td>Tier 3</td>\n      <td>Supermarket Type1</td>\n    </tr>\n  </tbody>\n</table>\n</div>"
     },
     "metadata": {}
    }
   ],
   "execution_count": null
  },
  {
   "cell_type": "code",
   "metadata": {
    "colab": {
     "base_uri": "https://localhost:8080/",
     "height": 563
    },
    "id": "CcjmO3tFk8-g",
    "outputId": "b66e254b-2429-4aa3-bfd5-8e7cab0fcde2",
    "cell_id": "00041-20dff288-883e-41f6-a87d-c0c14e8d1bee",
    "deepnote_output_heights": [
     382.1875
    ],
    "deepnote_to_be_reexecuted": false,
    "source_hash": "6cae4b92",
    "execution_start": 1639740927861,
    "execution_millis": 117,
    "deepnote_cell_type": "code"
   },
   "source": "obj_df[obj_df.isnull().any(axis=1)]",
   "outputs": [
    {
     "output_type": "execute_result",
     "execution_count": 3,
     "data": {
      "application/vnd.deepnote.dataframe.v3+json": {
       "column_count": 7,
       "row_count": 1439,
       "columns": [
        {
         "name": "Item_Identifier",
         "dtype": "object",
         "stats": {
          "unique_count": 1048,
          "nan_count": 0,
          "categories": [
           {
            "name": "FDH35",
            "count": 3
           },
           {
            "name": "FDG20",
            "count": 3
           },
           {
            "name": "1046 others",
            "count": 1433
           }
          ]
         }
        },
        {
         "name": "Item_Fat_Content",
         "dtype": "object",
         "stats": {
          "unique_count": 5,
          "nan_count": 0,
          "categories": [
           {
            "name": "Low Fat",
            "count": 851
           },
           {
            "name": "Regular",
            "count": 501
           },
           {
            "name": "3 others",
            "count": 87
           }
          ]
         }
        },
        {
         "name": "Item_Type",
         "dtype": "object",
         "stats": {
          "unique_count": 16,
          "nan_count": 0,
          "categories": [
           {
            "name": "Fruits and Vegetables",
            "count": 196
           },
           {
            "name": "Snack Foods",
            "count": 195
           },
           {
            "name": "14 others",
            "count": 1048
           }
          ]
         }
        },
        {
         "name": "Outlet_Identifier",
         "dtype": "object",
         "stats": {
          "unique_count": 3,
          "nan_count": 0,
          "categories": [
           {
            "name": "OUT045",
            "count": 569
           },
           {
            "name": "OUT017",
            "count": 542
           },
           {
            "name": "OUT010",
            "count": 328
           }
          ]
         }
        },
        {
         "name": "Outlet_Size",
         "dtype": "object",
         "stats": {
          "unique_count": 0,
          "nan_count": 1439,
          "categories": [
           {
            "name": "Missing",
            "count": 1439
           }
          ]
         }
        },
        {
         "name": "Outlet_Location_Type",
         "dtype": "object",
         "stats": {
          "unique_count": 2,
          "nan_count": 0,
          "categories": [
           {
            "name": "Tier 2",
            "count": 1111
           },
           {
            "name": "Tier 3",
            "count": 328
           }
          ]
         }
        },
        {
         "name": "Outlet_Type",
         "dtype": "object",
         "stats": {
          "unique_count": 2,
          "nan_count": 0,
          "categories": [
           {
            "name": "Supermarket Type1",
            "count": 1111
           },
           {
            "name": "Grocery Store",
            "count": 328
           }
          ]
         }
        },
        {
         "name": "_deepnote_index_column",
         "dtype": "int64"
        }
       ],
       "rows": [
        {
         "Item_Identifier": "FDX07",
         "Item_Fat_Content": "Regular",
         "Item_Type": "Fruits and Vegetables",
         "Outlet_Identifier": "OUT010",
         "Outlet_Size": "nan",
         "Outlet_Location_Type": "Tier 3",
         "Outlet_Type": "Grocery Store",
         "_deepnote_index_column": 3
        },
        {
         "Item_Identifier": "FDH17",
         "Item_Fat_Content": "Regular",
         "Item_Type": "Frozen Foods",
         "Outlet_Identifier": "OUT045",
         "Outlet_Size": "nan",
         "Outlet_Location_Type": "Tier 2",
         "Outlet_Type": "Supermarket Type1",
         "_deepnote_index_column": 8
        },
        {
         "Item_Identifier": "FDU28",
         "Item_Fat_Content": "Regular",
         "Item_Type": "Frozen Foods",
         "Outlet_Identifier": "OUT017",
         "Outlet_Size": "nan",
         "Outlet_Location_Type": "Tier 2",
         "Outlet_Type": "Supermarket Type1",
         "_deepnote_index_column": 9
        },
        {
         "Item_Identifier": "NCD06",
         "Item_Fat_Content": "Low Fat",
         "Item_Type": "Household",
         "Outlet_Identifier": "OUT017",
         "Outlet_Size": "nan",
         "Outlet_Location_Type": "Tier 2",
         "Outlet_Type": "Supermarket Type1",
         "_deepnote_index_column": 25
        },
        {
         "Item_Identifier": "FDE51",
         "Item_Fat_Content": "Regular",
         "Item_Type": "Dairy",
         "Outlet_Identifier": "OUT010",
         "Outlet_Size": "nan",
         "Outlet_Location_Type": "Tier 3",
         "Outlet_Type": "Grocery Store",
         "_deepnote_index_column": 28
        },
        {
         "Item_Identifier": "FDV38",
         "Item_Fat_Content": "Low Fat",
         "Item_Type": "Dairy",
         "Outlet_Identifier": "OUT010",
         "Outlet_Size": "nan",
         "Outlet_Location_Type": "Tier 3",
         "Outlet_Type": "Grocery Store",
         "_deepnote_index_column": 30
        },
        {
         "Item_Identifier": "FDO23",
         "Item_Fat_Content": "Low Fat",
         "Item_Type": "Breads",
         "Outlet_Identifier": "OUT045",
         "Outlet_Size": "nan",
         "Outlet_Location_Type": "Tier 2",
         "Outlet_Type": "Supermarket Type1",
         "_deepnote_index_column": 33
        },
        {
         "Item_Identifier": "FDM39",
         "Item_Fat_Content": "LF",
         "Item_Type": "Dairy",
         "Outlet_Identifier": "OUT010",
         "Outlet_Size": "nan",
         "Outlet_Location_Type": "Tier 3",
         "Outlet_Type": "Grocery Store",
         "_deepnote_index_column": 45
        },
        {
         "Item_Identifier": "NCP05",
         "Item_Fat_Content": "Low Fat",
         "Item_Type": "Health and Hygiene",
         "Outlet_Identifier": "OUT045",
         "Outlet_Size": "nan",
         "Outlet_Location_Type": "Tier 2",
         "Outlet_Type": "Supermarket Type1",
         "_deepnote_index_column": 46
        },
        {
         "Item_Identifier": "FDV49",
         "Item_Fat_Content": "Low Fat",
         "Item_Type": "Canned",
         "Outlet_Identifier": "OUT045",
         "Outlet_Size": "nan",
         "Outlet_Location_Type": "Tier 2",
         "Outlet_Type": "Supermarket Type1",
         "_deepnote_index_column": 47
        }
       ]
      },
      "text/plain": "     Item_Identifier Item_Fat_Content              Item_Type  \\\n3              FDX07          Regular  Fruits and Vegetables   \n8              FDH17          Regular           Frozen Foods   \n9              FDU28          Regular           Frozen Foods   \n25             NCD06          Low Fat              Household   \n28             FDE51          Regular                  Dairy   \n...              ...              ...                    ...   \n4980           FDJ21          Regular            Snack Foods   \n4982           FDK56          Low Fat  Fruits and Vegetables   \n4987           FDR48          Low Fat           Baking Goods   \n4990           FDE46          Low Fat            Snack Foods   \n4995           FDT07          Regular  Fruits and Vegetables   \n\n     Outlet_Identifier Outlet_Size Outlet_Location_Type        Outlet_Type  \n3               OUT010         NaN               Tier 3      Grocery Store  \n8               OUT045         NaN               Tier 2  Supermarket Type1  \n9               OUT017         NaN               Tier 2  Supermarket Type1  \n25              OUT017         NaN               Tier 2  Supermarket Type1  \n28              OUT010         NaN               Tier 3      Grocery Store  \n...                ...         ...                  ...                ...  \n4980            OUT017         NaN               Tier 2  Supermarket Type1  \n4982            OUT045         NaN               Tier 2  Supermarket Type1  \n4987            OUT010         NaN               Tier 3      Grocery Store  \n4990            OUT017         NaN               Tier 2  Supermarket Type1  \n4995            OUT045         NaN               Tier 2  Supermarket Type1  \n\n[1439 rows x 7 columns]",
      "text/html": "<div>\n<style scoped>\n    .dataframe tbody tr th:only-of-type {\n        vertical-align: middle;\n    }\n\n    .dataframe tbody tr th {\n        vertical-align: top;\n    }\n\n    .dataframe thead th {\n        text-align: right;\n    }\n</style>\n<table border=\"1\" class=\"dataframe\">\n  <thead>\n    <tr style=\"text-align: right;\">\n      <th></th>\n      <th>Item_Identifier</th>\n      <th>Item_Fat_Content</th>\n      <th>Item_Type</th>\n      <th>Outlet_Identifier</th>\n      <th>Outlet_Size</th>\n      <th>Outlet_Location_Type</th>\n      <th>Outlet_Type</th>\n    </tr>\n  </thead>\n  <tbody>\n    <tr>\n      <th>3</th>\n      <td>FDX07</td>\n      <td>Regular</td>\n      <td>Fruits and Vegetables</td>\n      <td>OUT010</td>\n      <td>NaN</td>\n      <td>Tier 3</td>\n      <td>Grocery Store</td>\n    </tr>\n    <tr>\n      <th>8</th>\n      <td>FDH17</td>\n      <td>Regular</td>\n      <td>Frozen Foods</td>\n      <td>OUT045</td>\n      <td>NaN</td>\n      <td>Tier 2</td>\n      <td>Supermarket Type1</td>\n    </tr>\n    <tr>\n      <th>9</th>\n      <td>FDU28</td>\n      <td>Regular</td>\n      <td>Frozen Foods</td>\n      <td>OUT017</td>\n      <td>NaN</td>\n      <td>Tier 2</td>\n      <td>Supermarket Type1</td>\n    </tr>\n    <tr>\n      <th>25</th>\n      <td>NCD06</td>\n      <td>Low Fat</td>\n      <td>Household</td>\n      <td>OUT017</td>\n      <td>NaN</td>\n      <td>Tier 2</td>\n      <td>Supermarket Type1</td>\n    </tr>\n    <tr>\n      <th>28</th>\n      <td>FDE51</td>\n      <td>Regular</td>\n      <td>Dairy</td>\n      <td>OUT010</td>\n      <td>NaN</td>\n      <td>Tier 3</td>\n      <td>Grocery Store</td>\n    </tr>\n    <tr>\n      <th>...</th>\n      <td>...</td>\n      <td>...</td>\n      <td>...</td>\n      <td>...</td>\n      <td>...</td>\n      <td>...</td>\n      <td>...</td>\n    </tr>\n    <tr>\n      <th>4980</th>\n      <td>FDJ21</td>\n      <td>Regular</td>\n      <td>Snack Foods</td>\n      <td>OUT017</td>\n      <td>NaN</td>\n      <td>Tier 2</td>\n      <td>Supermarket Type1</td>\n    </tr>\n    <tr>\n      <th>4982</th>\n      <td>FDK56</td>\n      <td>Low Fat</td>\n      <td>Fruits and Vegetables</td>\n      <td>OUT045</td>\n      <td>NaN</td>\n      <td>Tier 2</td>\n      <td>Supermarket Type1</td>\n    </tr>\n    <tr>\n      <th>4987</th>\n      <td>FDR48</td>\n      <td>Low Fat</td>\n      <td>Baking Goods</td>\n      <td>OUT010</td>\n      <td>NaN</td>\n      <td>Tier 3</td>\n      <td>Grocery Store</td>\n    </tr>\n    <tr>\n      <th>4990</th>\n      <td>FDE46</td>\n      <td>Low Fat</td>\n      <td>Snack Foods</td>\n      <td>OUT017</td>\n      <td>NaN</td>\n      <td>Tier 2</td>\n      <td>Supermarket Type1</td>\n    </tr>\n    <tr>\n      <th>4995</th>\n      <td>FDT07</td>\n      <td>Regular</td>\n      <td>Fruits and Vegetables</td>\n      <td>OUT045</td>\n      <td>NaN</td>\n      <td>Tier 2</td>\n      <td>Supermarket Type1</td>\n    </tr>\n  </tbody>\n</table>\n<p>1439 rows × 7 columns</p>\n</div>"
     },
     "metadata": {}
    }
   ],
   "execution_count": null
  },
  {
   "cell_type": "code",
   "metadata": {
    "colab": {
     "base_uri": "https://localhost:8080/"
    },
    "id": "a6hzx71vk8-g",
    "outputId": "9c763db2-4763-48e1-b704-561007a32c60",
    "cell_id": "00042-63f4c2b4-69ce-40d1-80ea-10994bd1a000",
    "deepnote_output_heights": [
     78.75
    ],
    "deepnote_to_be_reexecuted": false,
    "source_hash": "3dc3e655",
    "execution_start": 1639740929517,
    "execution_millis": 68094811,
    "deepnote_cell_type": "code"
   },
   "source": "df_train['Outlet_Size'].value_counts()",
   "outputs": [
    {
     "output_type": "execute_result",
     "execution_count": 4,
     "data": {
      "text/plain": "Medium    1605\nSmall     1398\nHigh       558\nName: Outlet_Size, dtype: int64"
     },
     "metadata": {}
    }
   ],
   "execution_count": null
  },
  {
   "cell_type": "code",
   "metadata": {
    "id": "y0e3JvY3k8-h",
    "cell_id": "00043-ac698715-beb2-461c-b0e5-4180e2cedfb2",
    "deepnote_to_be_reexecuted": false,
    "source_hash": "65f405f7",
    "execution_start": 1639740930388,
    "execution_millis": 2,
    "deepnote_cell_type": "code"
   },
   "source": "# Erstatter NAN verdier med de verdier som gjentar seg oftest.\ndf_train = df_train.fillna({\"Outlet_Size\": \"Medium\"}) # replacing the NAN values with the most common ones",
   "outputs": [],
   "execution_count": null
  },
  {
   "cell_type": "code",
   "metadata": {
    "colab": {
     "base_uri": "https://localhost:8080/"
    },
    "id": "LqmDspMCk8-i",
    "outputId": "d53bbd18-9af2-4870-b8a9-5a76f9b4cea3",
    "cell_id": "00044-fdd8a761-53c0-432e-a5f8-6439d2a62f4c",
    "deepnote_output_heights": [
     21.1875
    ],
    "deepnote_to_be_reexecuted": false,
    "source_hash": "21afbc5d",
    "execution_start": 1639740931145,
    "execution_millis": 4,
    "deepnote_cell_type": "code"
   },
   "source": "df_train['Item_Weight'].mean()",
   "outputs": [
    {
     "output_type": "execute_result",
     "execution_count": 6,
     "data": {
      "text/plain": "12.959605451936872"
     },
     "metadata": {}
    }
   ],
   "execution_count": null
  },
  {
   "cell_type": "code",
   "metadata": {
    "id": "s-_UzGQUk8-i",
    "cell_id": "00045-45032fd2-a275-42e1-b627-5cd41b3e6121",
    "deepnote_to_be_reexecuted": false,
    "source_hash": "f24760cf",
    "execution_start": 1639740932586,
    "execution_millis": 3,
    "deepnote_cell_type": "code"
   },
   "source": "# Erstatter NAN verdiene med middelverdier.\ndf_train = df_train.fillna({\"Item_Weight\": df_train['Item_Weight'].mean()}) ",
   "outputs": [],
   "execution_count": null
  },
  {
   "cell_type": "code",
   "metadata": {
    "colab": {
     "base_uri": "https://localhost:8080/",
     "height": 69
    },
    "id": "WxMdXxyHk8-i",
    "outputId": "490655d6-ce73-4ac3-842e-f49c1ec45c8d",
    "cell_id": "00046-e82a8bbe-c783-47d9-8e5a-678ead2a0f81",
    "deepnote_output_heights": [
     32
    ],
    "deepnote_to_be_reexecuted": false,
    "source_hash": "de8ed2e7",
    "execution_start": 1639740934955,
    "execution_millis": 75,
    "deepnote_cell_type": "code"
   },
   "source": "df_train[df_train.isnull().any(axis=1)]",
   "outputs": [
    {
     "output_type": "execute_result",
     "execution_count": 8,
     "data": {
      "application/vnd.deepnote.dataframe.v3+json": {
       "column_count": 12,
       "row_count": 0,
       "columns": [
        {
         "name": "Item_Identifier",
         "dtype": "object",
         "stats": {
          "unique_count": 0,
          "nan_count": 0,
          "categories": []
         }
        },
        {
         "name": "Item_Weight",
         "dtype": "float64",
         "stats": {
          "unique_count": 0,
          "nan_count": 0,
          "min": null,
          "max": null,
          "histogram": [
           {
            "bin_start": 0,
            "bin_end": 0.1,
            "count": 0
           },
           {
            "bin_start": 0.1,
            "bin_end": 0.2,
            "count": 0
           },
           {
            "bin_start": 0.2,
            "bin_end": 0.30000000000000004,
            "count": 0
           },
           {
            "bin_start": 0.30000000000000004,
            "bin_end": 0.4,
            "count": 0
           },
           {
            "bin_start": 0.4,
            "bin_end": 0.5,
            "count": 0
           },
           {
            "bin_start": 0.5,
            "bin_end": 0.6000000000000001,
            "count": 0
           },
           {
            "bin_start": 0.6000000000000001,
            "bin_end": 0.7000000000000001,
            "count": 0
           },
           {
            "bin_start": 0.7000000000000001,
            "bin_end": 0.8,
            "count": 0
           },
           {
            "bin_start": 0.8,
            "bin_end": 0.9,
            "count": 0
           },
           {
            "bin_start": 0.9,
            "bin_end": 1,
            "count": 0
           }
          ]
         }
        },
        {
         "name": "Item_Fat_Content",
         "dtype": "object",
         "stats": {
          "unique_count": 0,
          "nan_count": 0,
          "categories": []
         }
        },
        {
         "name": "Item_Visibility",
         "dtype": "float64",
         "stats": {
          "unique_count": 0,
          "nan_count": 0,
          "min": null,
          "max": null,
          "histogram": [
           {
            "bin_start": 0,
            "bin_end": 0.1,
            "count": 0
           },
           {
            "bin_start": 0.1,
            "bin_end": 0.2,
            "count": 0
           },
           {
            "bin_start": 0.2,
            "bin_end": 0.30000000000000004,
            "count": 0
           },
           {
            "bin_start": 0.30000000000000004,
            "bin_end": 0.4,
            "count": 0
           },
           {
            "bin_start": 0.4,
            "bin_end": 0.5,
            "count": 0
           },
           {
            "bin_start": 0.5,
            "bin_end": 0.6000000000000001,
            "count": 0
           },
           {
            "bin_start": 0.6000000000000001,
            "bin_end": 0.7000000000000001,
            "count": 0
           },
           {
            "bin_start": 0.7000000000000001,
            "bin_end": 0.8,
            "count": 0
           },
           {
            "bin_start": 0.8,
            "bin_end": 0.9,
            "count": 0
           },
           {
            "bin_start": 0.9,
            "bin_end": 1,
            "count": 0
           }
          ]
         }
        },
        {
         "name": "Item_Type",
         "dtype": "object",
         "stats": {
          "unique_count": 0,
          "nan_count": 0,
          "categories": []
         }
        },
        {
         "name": "Item_MRP",
         "dtype": "float64",
         "stats": {
          "unique_count": 0,
          "nan_count": 0,
          "min": null,
          "max": null,
          "histogram": [
           {
            "bin_start": 0,
            "bin_end": 0.1,
            "count": 0
           },
           {
            "bin_start": 0.1,
            "bin_end": 0.2,
            "count": 0
           },
           {
            "bin_start": 0.2,
            "bin_end": 0.30000000000000004,
            "count": 0
           },
           {
            "bin_start": 0.30000000000000004,
            "bin_end": 0.4,
            "count": 0
           },
           {
            "bin_start": 0.4,
            "bin_end": 0.5,
            "count": 0
           },
           {
            "bin_start": 0.5,
            "bin_end": 0.6000000000000001,
            "count": 0
           },
           {
            "bin_start": 0.6000000000000001,
            "bin_end": 0.7000000000000001,
            "count": 0
           },
           {
            "bin_start": 0.7000000000000001,
            "bin_end": 0.8,
            "count": 0
           },
           {
            "bin_start": 0.8,
            "bin_end": 0.9,
            "count": 0
           },
           {
            "bin_start": 0.9,
            "bin_end": 1,
            "count": 0
           }
          ]
         }
        },
        {
         "name": "Outlet_Identifier",
         "dtype": "object",
         "stats": {
          "unique_count": 0,
          "nan_count": 0,
          "categories": []
         }
        },
        {
         "name": "Outlet_Establishment_Year",
         "dtype": "int64",
         "stats": {
          "unique_count": 0,
          "nan_count": 0,
          "min": null,
          "max": null,
          "histogram": [
           {
            "bin_start": 0,
            "bin_end": 0.1,
            "count": 0
           },
           {
            "bin_start": 0.1,
            "bin_end": 0.2,
            "count": 0
           },
           {
            "bin_start": 0.2,
            "bin_end": 0.30000000000000004,
            "count": 0
           },
           {
            "bin_start": 0.30000000000000004,
            "bin_end": 0.4,
            "count": 0
           },
           {
            "bin_start": 0.4,
            "bin_end": 0.5,
            "count": 0
           },
           {
            "bin_start": 0.5,
            "bin_end": 0.6000000000000001,
            "count": 0
           },
           {
            "bin_start": 0.6000000000000001,
            "bin_end": 0.7000000000000001,
            "count": 0
           },
           {
            "bin_start": 0.7000000000000001,
            "bin_end": 0.8,
            "count": 0
           },
           {
            "bin_start": 0.8,
            "bin_end": 0.9,
            "count": 0
           },
           {
            "bin_start": 0.9,
            "bin_end": 1,
            "count": 0
           }
          ]
         }
        },
        {
         "name": "Outlet_Size",
         "dtype": "object",
         "stats": {
          "unique_count": 0,
          "nan_count": 0,
          "categories": []
         }
        },
        {
         "name": "Outlet_Location_Type",
         "dtype": "object",
         "stats": {
          "unique_count": 0,
          "nan_count": 0,
          "categories": []
         }
        },
        {
         "name": "Outlet_Type",
         "dtype": "object",
         "stats": {
          "unique_count": 0,
          "nan_count": 0,
          "categories": []
         }
        },
        {
         "name": "Item_Outlet_Sales",
         "dtype": "float64",
         "stats": {
          "unique_count": 0,
          "nan_count": 0,
          "min": null,
          "max": null,
          "histogram": [
           {
            "bin_start": 0,
            "bin_end": 0.1,
            "count": 0
           },
           {
            "bin_start": 0.1,
            "bin_end": 0.2,
            "count": 0
           },
           {
            "bin_start": 0.2,
            "bin_end": 0.30000000000000004,
            "count": 0
           },
           {
            "bin_start": 0.30000000000000004,
            "bin_end": 0.4,
            "count": 0
           },
           {
            "bin_start": 0.4,
            "bin_end": 0.5,
            "count": 0
           },
           {
            "bin_start": 0.5,
            "bin_end": 0.6000000000000001,
            "count": 0
           },
           {
            "bin_start": 0.6000000000000001,
            "bin_end": 0.7000000000000001,
            "count": 0
           },
           {
            "bin_start": 0.7000000000000001,
            "bin_end": 0.8,
            "count": 0
           },
           {
            "bin_start": 0.8,
            "bin_end": 0.9,
            "count": 0
           },
           {
            "bin_start": 0.9,
            "bin_end": 1,
            "count": 0
           }
          ]
         }
        },
        {
         "name": "_deepnote_index_column",
         "dtype": "int64"
        }
       ],
       "rows": []
      },
      "text/plain": "Empty DataFrame\nColumns: [Item_Identifier, Item_Weight, Item_Fat_Content, Item_Visibility, Item_Type, Item_MRP, Outlet_Identifier, Outlet_Establishment_Year, Outlet_Size, Outlet_Location_Type, Outlet_Type, Item_Outlet_Sales]\nIndex: []",
      "text/html": "<div>\n<style scoped>\n    .dataframe tbody tr th:only-of-type {\n        vertical-align: middle;\n    }\n\n    .dataframe tbody tr th {\n        vertical-align: top;\n    }\n\n    .dataframe thead th {\n        text-align: right;\n    }\n</style>\n<table border=\"1\" class=\"dataframe\">\n  <thead>\n    <tr style=\"text-align: right;\">\n      <th></th>\n      <th>Item_Identifier</th>\n      <th>Item_Weight</th>\n      <th>Item_Fat_Content</th>\n      <th>Item_Visibility</th>\n      <th>Item_Type</th>\n      <th>Item_MRP</th>\n      <th>Outlet_Identifier</th>\n      <th>Outlet_Establishment_Year</th>\n      <th>Outlet_Size</th>\n      <th>Outlet_Location_Type</th>\n      <th>Outlet_Type</th>\n      <th>Item_Outlet_Sales</th>\n    </tr>\n  </thead>\n  <tbody>\n  </tbody>\n</table>\n</div>"
     },
     "metadata": {}
    }
   ],
   "execution_count": null
  },
  {
   "cell_type": "code",
   "metadata": {
    "colab": {
     "base_uri": "https://localhost:8080/"
    },
    "id": "f0aO5j8lk8-j",
    "outputId": "8c48c118-79c5-4b1a-cfaf-b6151aa1df2c",
    "cell_id": "00047-6605d001-2dc9-4f0e-81bb-fa8fde7782b0",
    "deepnote_output_heights": [
     251.4375
    ],
    "deepnote_to_be_reexecuted": false,
    "source_hash": "500872b1",
    "execution_start": 1639740936089,
    "execution_millis": 25,
    "deepnote_cell_type": "code"
   },
   "source": "# Importerer test data for preprossesering.\nimport pandas as pd\ndf_test = pd.read_csv('Deep_Learning_task_test_dataset.csv')\ndf_test.dtypes",
   "outputs": [
    {
     "output_type": "execute_result",
     "execution_count": 9,
     "data": {
      "text/plain": "Item_Identifier               object\nItem_Weight                  float64\nItem_Fat_Content              object\nItem_Visibility              float64\nItem_Type                     object\nItem_MRP                     float64\nOutlet_Identifier             object\nOutlet_Establishment_Year      int64\nOutlet_Size                   object\nOutlet_Location_Type          object\nOutlet_Type                   object\nItem_Outlet_Sales            float64\ndtype: object"
     },
     "metadata": {}
    }
   ],
   "execution_count": null
  },
  {
   "cell_type": "code",
   "metadata": {
    "colab": {
     "base_uri": "https://localhost:8080/",
     "height": 617
    },
    "id": "E_BM9t50k8-k",
    "outputId": "1e7aa096-bec9-4400-a68b-de6418ac26c3",
    "cell_id": "00048-d5121067-9f1b-4910-b02b-e99c5cb71574",
    "deepnote_output_heights": [
     382.1875
    ],
    "deepnote_to_be_reexecuted": false,
    "source_hash": "a2fd8cb1",
    "execution_start": 1639740937903,
    "execution_millis": 177,
    "deepnote_cell_type": "code"
   },
   "source": "# Erstatter NAN verdier med de verdier som gjentar seg oftest.\ndf_test = df_test.fillna({\"Outlet_Size\": \"Medium\"}) \n\n# Erstatter NAN verdier med middelverdier.\ndf_test = df_test.fillna({\"Item_Weight\": df_train['Item_Weight'].mean()}) \ndf_test[df_test.isnull().any(axis=1)]",
   "outputs": [
    {
     "output_type": "execute_result",
     "execution_count": 10,
     "data": {
      "application/vnd.deepnote.dataframe.v3+json": {
       "column_count": 12,
       "row_count": 3523,
       "columns": [
        {
         "name": "Item_Identifier",
         "dtype": "object",
         "stats": {
          "unique_count": 1453,
          "nan_count": 0,
          "categories": [
           {
            "name": "FDV26",
            "count": 7
           },
           {
            "name": "NCK53",
            "count": 7
           },
           {
            "name": "1451 others",
            "count": 3509
           }
          ]
         }
        },
        {
         "name": "Item_Weight",
         "dtype": "float64",
         "stats": {
          "unique_count": 395,
          "nan_count": 0,
          "min": "4.555",
          "max": "21.35",
          "histogram": [
           {
            "bin_start": 4.555,
            "bin_end": 6.2345,
            "count": 207
           },
           {
            "bin_start": 6.2345,
            "bin_end": 7.914,
            "count": 349
           },
           {
            "bin_start": 7.914,
            "bin_end": 9.5935,
            "count": 381
           },
           {
            "bin_start": 9.5935,
            "bin_end": 11.273,
            "count": 275
           },
           {
            "bin_start": 11.273,
            "bin_end": 12.9525,
            "count": 325
           },
           {
            "bin_start": 12.9525,
            "bin_end": 14.632000000000001,
            "count": 902
           },
           {
            "bin_start": 14.632000000000001,
            "bin_end": 16.311500000000002,
            "count": 305
           },
           {
            "bin_start": 16.311500000000002,
            "bin_end": 17.991,
            "count": 292
           },
           {
            "bin_start": 17.991,
            "bin_end": 19.670500000000004,
            "count": 251
           },
           {
            "bin_start": 19.670500000000004,
            "bin_end": 21.35,
            "count": 236
           }
          ]
         }
        },
        {
         "name": "Item_Fat_Content",
         "dtype": "object",
         "stats": {
          "unique_count": 5,
          "nan_count": 0,
          "categories": [
           {
            "name": "Low Fat",
            "count": 2081
           },
           {
            "name": "Regular",
            "count": 1210
           },
           {
            "name": "3 others",
            "count": 232
           }
          ]
         }
        },
        {
         "name": "Item_Visibility",
         "dtype": "float64",
         "stats": {
          "unique_count": 3285,
          "nan_count": 0,
          "min": "0.0",
          "max": "0.311090379",
          "histogram": [
           {
            "bin_start": 0,
            "bin_end": 0.031109037899999997,
            "count": 1009
           },
           {
            "bin_start": 0.031109037899999997,
            "bin_end": 0.062218075799999994,
            "count": 959
           },
           {
            "bin_start": 0.062218075799999994,
            "bin_end": 0.09332711369999999,
            "count": 627
           },
           {
            "bin_start": 0.09332711369999999,
            "bin_end": 0.12443615159999999,
            "count": 427
           },
           {
            "bin_start": 0.12443615159999999,
            "bin_end": 0.1555451895,
            "count": 247
           },
           {
            "bin_start": 0.1555451895,
            "bin_end": 0.18665422739999998,
            "count": 176
           },
           {
            "bin_start": 0.18665422739999998,
            "bin_end": 0.21776326529999998,
            "count": 39
           },
           {
            "bin_start": 0.21776326529999998,
            "bin_end": 0.24887230319999998,
            "count": 15
           },
           {
            "bin_start": 0.24887230319999998,
            "bin_end": 0.27998134109999995,
            "count": 8
           },
           {
            "bin_start": 0.27998134109999995,
            "bin_end": 0.311090379,
            "count": 16
           }
          ]
         }
        },
        {
         "name": "Item_Type",
         "dtype": "object",
         "stats": {
          "unique_count": 16,
          "nan_count": 0,
          "categories": [
           {
            "name": "Fruits and Vegetables",
            "count": 499
           },
           {
            "name": "Snack Foods",
            "count": 498
           },
           {
            "name": "14 others",
            "count": 2526
           }
          ]
         }
        },
        {
         "name": "Item_MRP",
         "dtype": "float64",
         "stats": {
          "unique_count": 2999,
          "nan_count": 0,
          "min": "31.49",
          "max": "266.8884",
          "histogram": [
           {
            "bin_start": 31.49,
            "bin_end": 55.02983999999999,
            "count": 390
           },
           {
            "bin_start": 55.02983999999999,
            "bin_end": 78.56967999999999,
            "count": 226
           },
           {
            "bin_start": 78.56967999999999,
            "bin_end": 102.10951999999999,
            "count": 446
           },
           {
            "bin_start": 102.10951999999999,
            "bin_end": 125.64935999999999,
            "count": 524
           },
           {
            "bin_start": 125.64935999999999,
            "bin_end": 149.1892,
            "count": 332
           },
           {
            "bin_start": 149.1892,
            "bin_end": 172.72904,
            "count": 473
           },
           {
            "bin_start": 172.72904,
            "bin_end": 196.26888,
            "count": 480
           },
           {
            "bin_start": 196.26888,
            "bin_end": 219.80872,
            "count": 189
           },
           {
            "bin_start": 219.80872,
            "bin_end": 243.34856,
            "count": 212
           },
           {
            "bin_start": 243.34856,
            "bin_end": 266.8884,
            "count": 251
           }
          ]
         }
        },
        {
         "name": "Outlet_Identifier",
         "dtype": "object",
         "stats": {
          "unique_count": 10,
          "nan_count": 0,
          "categories": [
           {
            "name": "OUT018",
            "count": 402
           },
           {
            "name": "OUT027",
            "count": 397
           },
           {
            "name": "8 others",
            "count": 2724
           }
          ]
         }
        },
        {
         "name": "Outlet_Establishment_Year",
         "dtype": "int64",
         "stats": {
          "unique_count": 9,
          "nan_count": 0,
          "min": "1985",
          "max": "2009",
          "histogram": [
           {
            "bin_start": 1985,
            "bin_end": 1987.4,
            "count": 1019
           },
           {
            "bin_start": 1987.4,
            "bin_end": 1989.8,
            "count": 0
           },
           {
            "bin_start": 1989.8,
            "bin_end": 1992.2,
            "count": 0
           },
           {
            "bin_start": 1992.2,
            "bin_end": 1994.6,
            "count": 0
           },
           {
            "bin_start": 1994.6,
            "bin_end": 1997,
            "count": 0
           },
           {
            "bin_start": 1997,
            "bin_end": 1999.4,
            "count": 987
           },
           {
            "bin_start": 1999.4,
            "bin_end": 2001.8,
            "count": 0
           },
           {
            "bin_start": 2001.8,
            "bin_end": 2004.2,
            "count": 731
           },
           {
            "bin_start": 2004.2,
            "bin_end": 2006.6,
            "count": 0
           },
           {
            "bin_start": 2006.6,
            "bin_end": 2009,
            "count": 786
           }
          ]
         }
        },
        {
         "name": "Outlet_Size",
         "dtype": "object",
         "stats": {
          "unique_count": 3,
          "nan_count": 0,
          "categories": [
           {
            "name": "Medium",
            "count": 2159
           },
           {
            "name": "Small",
            "count": 990
           },
           {
            "name": "High",
            "count": 374
           }
          ]
         }
        },
        {
         "name": "Outlet_Location_Type",
         "dtype": "object",
         "stats": {
          "unique_count": 3,
          "nan_count": 0,
          "categories": [
           {
            "name": "Tier 3",
            "count": 1400
           },
           {
            "name": "Tier 2",
            "count": 1115
           },
           {
            "name": "Tier 1",
            "count": 1008
           }
          ]
         }
        },
        {
         "name": "Outlet_Type",
         "dtype": "object",
         "stats": {
          "unique_count": 4,
          "nan_count": 0,
          "categories": [
           {
            "name": "Supermarket Type1",
            "count": 2249
           },
           {
            "name": "Grocery Store",
            "count": 475
           },
           {
            "name": "2 others",
            "count": 799
           }
          ]
         }
        },
        {
         "name": "Item_Outlet_Sales",
         "dtype": "float64",
         "stats": {
          "unique_count": 0,
          "nan_count": 3523,
          "min": null,
          "max": null,
          "histogram": [
           {
            "bin_start": 0,
            "bin_end": 0.1,
            "count": 0
           },
           {
            "bin_start": 0.1,
            "bin_end": 0.2,
            "count": 0
           },
           {
            "bin_start": 0.2,
            "bin_end": 0.30000000000000004,
            "count": 0
           },
           {
            "bin_start": 0.30000000000000004,
            "bin_end": 0.4,
            "count": 0
           },
           {
            "bin_start": 0.4,
            "bin_end": 0.5,
            "count": 0
           },
           {
            "bin_start": 0.5,
            "bin_end": 0.6000000000000001,
            "count": 0
           },
           {
            "bin_start": 0.6000000000000001,
            "bin_end": 0.7000000000000001,
            "count": 0
           },
           {
            "bin_start": 0.7000000000000001,
            "bin_end": 0.8,
            "count": 0
           },
           {
            "bin_start": 0.8,
            "bin_end": 0.9,
            "count": 0
           },
           {
            "bin_start": 0.9,
            "bin_end": 1,
            "count": 0
           }
          ]
         }
        },
        {
         "name": "_deepnote_index_column",
         "dtype": "int64"
        }
       ],
       "rows": [
        {
         "Item_Identifier": "NCF31",
         "Item_Weight": 9.13,
         "Item_Fat_Content": "Low Fat",
         "Item_Visibility": 0.051928034,
         "Item_Type": "Household",
         "Item_MRP": 151.4024,
         "Outlet_Identifier": "OUT049",
         "Outlet_Establishment_Year": 1999,
         "Outlet_Size": "Medium",
         "Outlet_Location_Type": "Tier 1",
         "Outlet_Type": "Supermarket Type1",
         "Item_Outlet_Sales": "nan",
         "_deepnote_index_column": 0
        },
        {
         "Item_Identifier": "FDD59",
         "Item_Weight": 10.5,
         "Item_Fat_Content": "Regular",
         "Item_Visibility": 0,
         "Item_Type": "Starchy Foods",
         "Item_MRP": 78.296,
         "Outlet_Identifier": "OUT046",
         "Outlet_Establishment_Year": 1997,
         "Outlet_Size": "Small",
         "Outlet_Location_Type": "Tier 1",
         "Outlet_Type": "Supermarket Type1",
         "Item_Outlet_Sales": "nan",
         "_deepnote_index_column": 1
        },
        {
         "Item_Identifier": "FDQ52",
         "Item_Weight": 17,
         "Item_Fat_Content": "Low Fat",
         "Item_Visibility": 0.119570595,
         "Item_Type": "Frozen Foods",
         "Item_MRP": 249.7434,
         "Outlet_Identifier": "OUT049",
         "Outlet_Establishment_Year": 1999,
         "Outlet_Size": "Medium",
         "Outlet_Location_Type": "Tier 1",
         "Outlet_Type": "Supermarket Type1",
         "Item_Outlet_Sales": "nan",
         "_deepnote_index_column": 2
        },
        {
         "Item_Identifier": "FDP09",
         "Item_Weight": 12.959605451936872,
         "Item_Fat_Content": "Low Fat",
         "Item_Visibility": 0.033725743,
         "Item_Type": "Snack Foods",
         "Item_MRP": 211.6902,
         "Outlet_Identifier": "OUT027",
         "Outlet_Establishment_Year": 1985,
         "Outlet_Size": "Medium",
         "Outlet_Location_Type": "Tier 3",
         "Outlet_Type": "Supermarket Type3",
         "Item_Outlet_Sales": "nan",
         "_deepnote_index_column": 3
        },
        {
         "Item_Identifier": "FDK24",
         "Item_Weight": 9.195,
         "Item_Fat_Content": "Low Fat",
         "Item_Visibility": 0.101275792,
         "Item_Type": "Baking Goods",
         "Item_MRP": 46.4744,
         "Outlet_Identifier": "OUT035",
         "Outlet_Establishment_Year": 2004,
         "Outlet_Size": "Small",
         "Outlet_Location_Type": "Tier 2",
         "Outlet_Type": "Supermarket Type1",
         "Item_Outlet_Sales": "nan",
         "_deepnote_index_column": 4
        },
        {
         "Item_Identifier": "NCA18",
         "Item_Weight": 10.1,
         "Item_Fat_Content": "Low Fat",
         "Item_Visibility": 0.056077574,
         "Item_Type": "Household",
         "Item_MRP": 117.8492,
         "Outlet_Identifier": "OUT046",
         "Outlet_Establishment_Year": 1997,
         "Outlet_Size": "Small",
         "Outlet_Location_Type": "Tier 1",
         "Outlet_Type": "Supermarket Type1",
         "Item_Outlet_Sales": "nan",
         "_deepnote_index_column": 5
        },
        {
         "Item_Identifier": "NCE07",
         "Item_Weight": 8.18,
         "Item_Fat_Content": "Low Fat",
         "Item_Visibility": 0,
         "Item_Type": "Household",
         "Item_MRP": 140.5154,
         "Outlet_Identifier": "OUT045",
         "Outlet_Establishment_Year": 2002,
         "Outlet_Size": "Medium",
         "Outlet_Location_Type": "Tier 2",
         "Outlet_Type": "Supermarket Type1",
         "Item_Outlet_Sales": "nan",
         "_deepnote_index_column": 6
        },
        {
         "Item_Identifier": "FDM45",
         "Item_Weight": 8.655,
         "Item_Fat_Content": "Regular",
         "Item_Visibility": 0.088178053,
         "Item_Type": "Snack Foods",
         "Item_MRP": 122.6756,
         "Outlet_Identifier": "OUT035",
         "Outlet_Establishment_Year": 2004,
         "Outlet_Size": "Small",
         "Outlet_Location_Type": "Tier 2",
         "Outlet_Type": "Supermarket Type1",
         "Item_Outlet_Sales": "nan",
         "_deepnote_index_column": 7
        },
        {
         "Item_Identifier": "FDQ32",
         "Item_Weight": 17.85,
         "Item_Fat_Content": "Regular",
         "Item_Visibility": 0.046608497,
         "Item_Type": "Fruits and Vegetables",
         "Item_MRP": 122.9388,
         "Outlet_Identifier": "OUT046",
         "Outlet_Establishment_Year": 1997,
         "Outlet_Size": "Small",
         "Outlet_Location_Type": "Tier 1",
         "Outlet_Type": "Supermarket Type1",
         "Item_Outlet_Sales": "nan",
         "_deepnote_index_column": 8
        },
        {
         "Item_Identifier": "FDI34",
         "Item_Weight": 10.65,
         "Item_Fat_Content": "Regular",
         "Item_Visibility": 0.085119855,
         "Item_Type": "Snack Foods",
         "Item_MRP": 229.8668,
         "Outlet_Identifier": "OUT035",
         "Outlet_Establishment_Year": 2004,
         "Outlet_Size": "Small",
         "Outlet_Location_Type": "Tier 2",
         "Outlet_Type": "Supermarket Type1",
         "Item_Outlet_Sales": "nan",
         "_deepnote_index_column": 9
        }
       ]
      },
      "text/plain": "     Item_Identifier  Item_Weight Item_Fat_Content  Item_Visibility  \\\n0              NCF31     9.130000          Low Fat         0.051928   \n1              FDD59    10.500000          Regular         0.000000   \n2              FDQ52    17.000000          Low Fat         0.119571   \n3              FDP09    12.959605          Low Fat         0.033726   \n4              FDK24     9.195000          Low Fat         0.101276   \n...              ...          ...              ...              ...   \n3518           FDF22     6.865000          Low Fat         0.056783   \n3519           FDS36     8.380000          Regular         0.046982   \n3520           NCJ29    10.600000          Low Fat         0.035186   \n3521           FDN46     7.210000          Regular         0.145221   \n3522           DRG01    14.800000          Low Fat         0.044878   \n\n               Item_Type  Item_MRP Outlet_Identifier  \\\n0              Household  151.4024            OUT049   \n1          Starchy Foods   78.2960            OUT046   \n2           Frozen Foods  249.7434            OUT049   \n3            Snack Foods  211.6902            OUT027   \n4           Baking Goods   46.4744            OUT035   \n...                  ...       ...               ...   \n3518         Snack Foods  214.5218            OUT013   \n3519        Baking Goods  108.1570            OUT045   \n3520  Health and Hygiene   85.1224            OUT035   \n3521         Snack Foods  103.1332            OUT018   \n3522         Soft Drinks   75.4670            OUT046   \n\n      Outlet_Establishment_Year Outlet_Size Outlet_Location_Type  \\\n0                          1999      Medium               Tier 1   \n1                          1997       Small               Tier 1   \n2                          1999      Medium               Tier 1   \n3                          1985      Medium               Tier 3   \n4                          2004       Small               Tier 2   \n...                         ...         ...                  ...   \n3518                       1987        High               Tier 3   \n3519                       2002      Medium               Tier 2   \n3520                       2004       Small               Tier 2   \n3521                       2009      Medium               Tier 3   \n3522                       1997       Small               Tier 1   \n\n            Outlet_Type  Item_Outlet_Sales  \n0     Supermarket Type1                NaN  \n1     Supermarket Type1                NaN  \n2     Supermarket Type1                NaN  \n3     Supermarket Type3                NaN  \n4     Supermarket Type1                NaN  \n...                 ...                ...  \n3518  Supermarket Type1                NaN  \n3519  Supermarket Type1                NaN  \n3520  Supermarket Type1                NaN  \n3521  Supermarket Type2                NaN  \n3522  Supermarket Type1                NaN  \n\n[3523 rows x 12 columns]",
      "text/html": "<div>\n<style scoped>\n    .dataframe tbody tr th:only-of-type {\n        vertical-align: middle;\n    }\n\n    .dataframe tbody tr th {\n        vertical-align: top;\n    }\n\n    .dataframe thead th {\n        text-align: right;\n    }\n</style>\n<table border=\"1\" class=\"dataframe\">\n  <thead>\n    <tr style=\"text-align: right;\">\n      <th></th>\n      <th>Item_Identifier</th>\n      <th>Item_Weight</th>\n      <th>Item_Fat_Content</th>\n      <th>Item_Visibility</th>\n      <th>Item_Type</th>\n      <th>Item_MRP</th>\n      <th>Outlet_Identifier</th>\n      <th>Outlet_Establishment_Year</th>\n      <th>Outlet_Size</th>\n      <th>Outlet_Location_Type</th>\n      <th>Outlet_Type</th>\n      <th>Item_Outlet_Sales</th>\n    </tr>\n  </thead>\n  <tbody>\n    <tr>\n      <th>0</th>\n      <td>NCF31</td>\n      <td>9.130000</td>\n      <td>Low Fat</td>\n      <td>0.051928</td>\n      <td>Household</td>\n      <td>151.4024</td>\n      <td>OUT049</td>\n      <td>1999</td>\n      <td>Medium</td>\n      <td>Tier 1</td>\n      <td>Supermarket Type1</td>\n      <td>NaN</td>\n    </tr>\n    <tr>\n      <th>1</th>\n      <td>FDD59</td>\n      <td>10.500000</td>\n      <td>Regular</td>\n      <td>0.000000</td>\n      <td>Starchy Foods</td>\n      <td>78.2960</td>\n      <td>OUT046</td>\n      <td>1997</td>\n      <td>Small</td>\n      <td>Tier 1</td>\n      <td>Supermarket Type1</td>\n      <td>NaN</td>\n    </tr>\n    <tr>\n      <th>2</th>\n      <td>FDQ52</td>\n      <td>17.000000</td>\n      <td>Low Fat</td>\n      <td>0.119571</td>\n      <td>Frozen Foods</td>\n      <td>249.7434</td>\n      <td>OUT049</td>\n      <td>1999</td>\n      <td>Medium</td>\n      <td>Tier 1</td>\n      <td>Supermarket Type1</td>\n      <td>NaN</td>\n    </tr>\n    <tr>\n      <th>3</th>\n      <td>FDP09</td>\n      <td>12.959605</td>\n      <td>Low Fat</td>\n      <td>0.033726</td>\n      <td>Snack Foods</td>\n      <td>211.6902</td>\n      <td>OUT027</td>\n      <td>1985</td>\n      <td>Medium</td>\n      <td>Tier 3</td>\n      <td>Supermarket Type3</td>\n      <td>NaN</td>\n    </tr>\n    <tr>\n      <th>4</th>\n      <td>FDK24</td>\n      <td>9.195000</td>\n      <td>Low Fat</td>\n      <td>0.101276</td>\n      <td>Baking Goods</td>\n      <td>46.4744</td>\n      <td>OUT035</td>\n      <td>2004</td>\n      <td>Small</td>\n      <td>Tier 2</td>\n      <td>Supermarket Type1</td>\n      <td>NaN</td>\n    </tr>\n    <tr>\n      <th>...</th>\n      <td>...</td>\n      <td>...</td>\n      <td>...</td>\n      <td>...</td>\n      <td>...</td>\n      <td>...</td>\n      <td>...</td>\n      <td>...</td>\n      <td>...</td>\n      <td>...</td>\n      <td>...</td>\n      <td>...</td>\n    </tr>\n    <tr>\n      <th>3518</th>\n      <td>FDF22</td>\n      <td>6.865000</td>\n      <td>Low Fat</td>\n      <td>0.056783</td>\n      <td>Snack Foods</td>\n      <td>214.5218</td>\n      <td>OUT013</td>\n      <td>1987</td>\n      <td>High</td>\n      <td>Tier 3</td>\n      <td>Supermarket Type1</td>\n      <td>NaN</td>\n    </tr>\n    <tr>\n      <th>3519</th>\n      <td>FDS36</td>\n      <td>8.380000</td>\n      <td>Regular</td>\n      <td>0.046982</td>\n      <td>Baking Goods</td>\n      <td>108.1570</td>\n      <td>OUT045</td>\n      <td>2002</td>\n      <td>Medium</td>\n      <td>Tier 2</td>\n      <td>Supermarket Type1</td>\n      <td>NaN</td>\n    </tr>\n    <tr>\n      <th>3520</th>\n      <td>NCJ29</td>\n      <td>10.600000</td>\n      <td>Low Fat</td>\n      <td>0.035186</td>\n      <td>Health and Hygiene</td>\n      <td>85.1224</td>\n      <td>OUT035</td>\n      <td>2004</td>\n      <td>Small</td>\n      <td>Tier 2</td>\n      <td>Supermarket Type1</td>\n      <td>NaN</td>\n    </tr>\n    <tr>\n      <th>3521</th>\n      <td>FDN46</td>\n      <td>7.210000</td>\n      <td>Regular</td>\n      <td>0.145221</td>\n      <td>Snack Foods</td>\n      <td>103.1332</td>\n      <td>OUT018</td>\n      <td>2009</td>\n      <td>Medium</td>\n      <td>Tier 3</td>\n      <td>Supermarket Type2</td>\n      <td>NaN</td>\n    </tr>\n    <tr>\n      <th>3522</th>\n      <td>DRG01</td>\n      <td>14.800000</td>\n      <td>Low Fat</td>\n      <td>0.044878</td>\n      <td>Soft Drinks</td>\n      <td>75.4670</td>\n      <td>OUT046</td>\n      <td>1997</td>\n      <td>Small</td>\n      <td>Tier 1</td>\n      <td>Supermarket Type1</td>\n      <td>NaN</td>\n    </tr>\n  </tbody>\n</table>\n<p>3523 rows × 12 columns</p>\n</div>"
     },
     "metadata": {}
    }
   ],
   "execution_count": null
  },
  {
   "cell_type": "code",
   "metadata": {
    "id": "TbaYL_qlk8-k",
    "cell_id": "00049-843e0200-5e5d-444b-8d2b-0b8e4cd28b1c",
    "deepnote_to_be_reexecuted": false,
    "source_hash": "77d84bd4",
    "execution_start": 1639740941601,
    "execution_millis": 526,
    "deepnote_cell_type": "code"
   },
   "source": "from sklearn.preprocessing import OrdinalEncoder\nord_enc = OrdinalEncoder()\nfor i in df_train.select_dtypes(include=['object']).columns:\n    if i not in ['Item_Identifier', 'Outlet_Identifier']:\n        df_train[ i + \"code\"] = ord_enc.fit_transform(df_train[[i]])\n        df_test[ i + \"code\"] = ord_enc.transform(df_test[[i]])\n        df_train.drop([i], axis=1, inplace = True)\n        df_test.drop([i], axis=1, inplace = True)\n",
   "outputs": [],
   "execution_count": null
  },
  {
   "cell_type": "code",
   "metadata": {
    "colab": {
     "base_uri": "https://localhost:8080/",
     "height": 226
    },
    "id": "XQQMqZ5Sk8-l",
    "outputId": "30d829be-8b40-4ca6-cfca-b67b00aba914",
    "cell_id": "00050-ff8ae7cb-9861-4274-91da-624ab36b5ae5",
    "deepnote_output_heights": [
     177
    ],
    "deepnote_to_be_reexecuted": false,
    "source_hash": "f6325a18",
    "execution_start": 1639740944866,
    "execution_millis": 19,
    "deepnote_cell_type": "code"
   },
   "source": "df_test.head()",
   "outputs": [
    {
     "output_type": "execute_result",
     "execution_count": 12,
     "data": {
      "application/vnd.deepnote.dataframe.v3+json": {
       "column_count": 12,
       "row_count": 5,
       "columns": [
        {
         "name": "Item_Identifier",
         "dtype": "object",
         "stats": {
          "unique_count": 5,
          "nan_count": 0,
          "categories": [
           {
            "name": "NCF31",
            "count": 1
           },
           {
            "name": "FDD59",
            "count": 1
           },
           {
            "name": "3 others",
            "count": 3
           }
          ]
         }
        },
        {
         "name": "Item_Weight",
         "dtype": "float64",
         "stats": {
          "unique_count": 5,
          "nan_count": 0,
          "min": "9.13",
          "max": "17.0",
          "histogram": [
           {
            "bin_start": 9.13,
            "bin_end": 9.917000000000002,
            "count": 2
           },
           {
            "bin_start": 9.917000000000002,
            "bin_end": 10.704,
            "count": 1
           },
           {
            "bin_start": 10.704,
            "bin_end": 11.491,
            "count": 0
           },
           {
            "bin_start": 11.491,
            "bin_end": 12.278,
            "count": 0
           },
           {
            "bin_start": 12.278,
            "bin_end": 13.065000000000001,
            "count": 1
           },
           {
            "bin_start": 13.065000000000001,
            "bin_end": 13.852,
            "count": 0
           },
           {
            "bin_start": 13.852,
            "bin_end": 14.639,
            "count": 0
           },
           {
            "bin_start": 14.639,
            "bin_end": 15.426,
            "count": 0
           },
           {
            "bin_start": 15.426,
            "bin_end": 16.213,
            "count": 0
           },
           {
            "bin_start": 16.213,
            "bin_end": 17,
            "count": 1
           }
          ]
         }
        },
        {
         "name": "Item_Visibility",
         "dtype": "float64",
         "stats": {
          "unique_count": 5,
          "nan_count": 0,
          "min": "0.0",
          "max": "0.119570595",
          "histogram": [
           {
            "bin_start": 0,
            "bin_end": 0.0119570595,
            "count": 1
           },
           {
            "bin_start": 0.0119570595,
            "bin_end": 0.023914119,
            "count": 0
           },
           {
            "bin_start": 0.023914119,
            "bin_end": 0.0358711785,
            "count": 1
           },
           {
            "bin_start": 0.0358711785,
            "bin_end": 0.047828238,
            "count": 0
           },
           {
            "bin_start": 0.047828238,
            "bin_end": 0.0597852975,
            "count": 1
           },
           {
            "bin_start": 0.0597852975,
            "bin_end": 0.071742357,
            "count": 0
           },
           {
            "bin_start": 0.071742357,
            "bin_end": 0.0836994165,
            "count": 0
           },
           {
            "bin_start": 0.0836994165,
            "bin_end": 0.095656476,
            "count": 0
           },
           {
            "bin_start": 0.095656476,
            "bin_end": 0.10761353550000001,
            "count": 1
           },
           {
            "bin_start": 0.10761353550000001,
            "bin_end": 0.119570595,
            "count": 1
           }
          ]
         }
        },
        {
         "name": "Item_MRP",
         "dtype": "float64",
         "stats": {
          "unique_count": 5,
          "nan_count": 0,
          "min": "46.4744",
          "max": "249.7434",
          "histogram": [
           {
            "bin_start": 46.4744,
            "bin_end": 66.8013,
            "count": 1
           },
           {
            "bin_start": 66.8013,
            "bin_end": 87.1282,
            "count": 1
           },
           {
            "bin_start": 87.1282,
            "bin_end": 107.45510000000002,
            "count": 0
           },
           {
            "bin_start": 107.45510000000002,
            "bin_end": 127.78200000000001,
            "count": 0
           },
           {
            "bin_start": 127.78200000000001,
            "bin_end": 148.1089,
            "count": 0
           },
           {
            "bin_start": 148.1089,
            "bin_end": 168.43580000000003,
            "count": 1
           },
           {
            "bin_start": 168.43580000000003,
            "bin_end": 188.76270000000002,
            "count": 0
           },
           {
            "bin_start": 188.76270000000002,
            "bin_end": 209.08960000000002,
            "count": 0
           },
           {
            "bin_start": 209.08960000000002,
            "bin_end": 229.4165,
            "count": 1
           },
           {
            "bin_start": 229.4165,
            "bin_end": 249.7434,
            "count": 1
           }
          ]
         }
        },
        {
         "name": "Outlet_Identifier",
         "dtype": "object",
         "stats": {
          "unique_count": 4,
          "nan_count": 0,
          "categories": [
           {
            "name": "OUT049",
            "count": 2
           },
           {
            "name": "OUT046",
            "count": 1
           },
           {
            "name": "2 others",
            "count": 2
           }
          ]
         }
        },
        {
         "name": "Outlet_Establishment_Year",
         "dtype": "int64",
         "stats": {
          "unique_count": 4,
          "nan_count": 0,
          "min": "1985",
          "max": "2004",
          "histogram": [
           {
            "bin_start": 1985,
            "bin_end": 1986.9,
            "count": 1
           },
           {
            "bin_start": 1986.9,
            "bin_end": 1988.8,
            "count": 0
           },
           {
            "bin_start": 1988.8,
            "bin_end": 1990.7,
            "count": 0
           },
           {
            "bin_start": 1990.7,
            "bin_end": 1992.6,
            "count": 0
           },
           {
            "bin_start": 1992.6,
            "bin_end": 1994.5,
            "count": 0
           },
           {
            "bin_start": 1994.5,
            "bin_end": 1996.4,
            "count": 0
           },
           {
            "bin_start": 1996.4,
            "bin_end": 1998.3,
            "count": 1
           },
           {
            "bin_start": 1998.3,
            "bin_end": 2000.2,
            "count": 2
           },
           {
            "bin_start": 2000.2,
            "bin_end": 2002.1,
            "count": 0
           },
           {
            "bin_start": 2002.1,
            "bin_end": 2004,
            "count": 1
           }
          ]
         }
        },
        {
         "name": "Item_Outlet_Sales",
         "dtype": "float64",
         "stats": {
          "unique_count": 0,
          "nan_count": 5,
          "min": null,
          "max": null,
          "histogram": [
           {
            "bin_start": 0,
            "bin_end": 0.1,
            "count": 0
           },
           {
            "bin_start": 0.1,
            "bin_end": 0.2,
            "count": 0
           },
           {
            "bin_start": 0.2,
            "bin_end": 0.30000000000000004,
            "count": 0
           },
           {
            "bin_start": 0.30000000000000004,
            "bin_end": 0.4,
            "count": 0
           },
           {
            "bin_start": 0.4,
            "bin_end": 0.5,
            "count": 0
           },
           {
            "bin_start": 0.5,
            "bin_end": 0.6000000000000001,
            "count": 0
           },
           {
            "bin_start": 0.6000000000000001,
            "bin_end": 0.7000000000000001,
            "count": 0
           },
           {
            "bin_start": 0.7000000000000001,
            "bin_end": 0.8,
            "count": 0
           },
           {
            "bin_start": 0.8,
            "bin_end": 0.9,
            "count": 0
           },
           {
            "bin_start": 0.9,
            "bin_end": 1,
            "count": 0
           }
          ]
         }
        },
        {
         "name": "Item_Fat_Contentcode",
         "dtype": "float64",
         "stats": {
          "unique_count": 2,
          "nan_count": 0,
          "min": "1.0",
          "max": "2.0",
          "histogram": [
           {
            "bin_start": 1,
            "bin_end": 1.1,
            "count": 4
           },
           {
            "bin_start": 1.1,
            "bin_end": 1.2,
            "count": 0
           },
           {
            "bin_start": 1.2,
            "bin_end": 1.3,
            "count": 0
           },
           {
            "bin_start": 1.3,
            "bin_end": 1.4,
            "count": 0
           },
           {
            "bin_start": 1.4,
            "bin_end": 1.5,
            "count": 0
           },
           {
            "bin_start": 1.5,
            "bin_end": 1.6,
            "count": 0
           },
           {
            "bin_start": 1.6,
            "bin_end": 1.7000000000000002,
            "count": 0
           },
           {
            "bin_start": 1.7000000000000002,
            "bin_end": 1.8,
            "count": 0
           },
           {
            "bin_start": 1.8,
            "bin_end": 1.9,
            "count": 0
           },
           {
            "bin_start": 1.9,
            "bin_end": 2,
            "count": 1
           }
          ]
         }
        },
        {
         "name": "Item_Typecode",
         "dtype": "float64",
         "stats": {
          "unique_count": 5,
          "nan_count": 0,
          "min": "0.0",
          "max": "15.0",
          "histogram": [
           {
            "bin_start": 0,
            "bin_end": 1.5,
            "count": 1
           },
           {
            "bin_start": 1.5,
            "bin_end": 3,
            "count": 0
           },
           {
            "bin_start": 3,
            "bin_end": 4.5,
            "count": 0
           },
           {
            "bin_start": 4.5,
            "bin_end": 6,
            "count": 1
           },
           {
            "bin_start": 6,
            "bin_end": 7.5,
            "count": 0
           },
           {
            "bin_start": 7.5,
            "bin_end": 9,
            "count": 0
           },
           {
            "bin_start": 9,
            "bin_end": 10.5,
            "count": 1
           },
           {
            "bin_start": 10.5,
            "bin_end": 12,
            "count": 0
           },
           {
            "bin_start": 12,
            "bin_end": 13.5,
            "count": 1
           },
           {
            "bin_start": 13.5,
            "bin_end": 15,
            "count": 1
           }
          ]
         }
        },
        {
         "name": "Outlet_Sizecode",
         "dtype": "float64",
         "stats": {
          "unique_count": 2,
          "nan_count": 0,
          "min": "1.0",
          "max": "2.0",
          "histogram": [
           {
            "bin_start": 1,
            "bin_end": 1.1,
            "count": 3
           },
           {
            "bin_start": 1.1,
            "bin_end": 1.2,
            "count": 0
           },
           {
            "bin_start": 1.2,
            "bin_end": 1.3,
            "count": 0
           },
           {
            "bin_start": 1.3,
            "bin_end": 1.4,
            "count": 0
           },
           {
            "bin_start": 1.4,
            "bin_end": 1.5,
            "count": 0
           },
           {
            "bin_start": 1.5,
            "bin_end": 1.6,
            "count": 0
           },
           {
            "bin_start": 1.6,
            "bin_end": 1.7000000000000002,
            "count": 0
           },
           {
            "bin_start": 1.7000000000000002,
            "bin_end": 1.8,
            "count": 0
           },
           {
            "bin_start": 1.8,
            "bin_end": 1.9,
            "count": 0
           },
           {
            "bin_start": 1.9,
            "bin_end": 2,
            "count": 2
           }
          ]
         }
        },
        {
         "name": "Outlet_Location_Typecode",
         "dtype": "float64",
         "stats": {
          "unique_count": 3,
          "nan_count": 0,
          "min": "0.0",
          "max": "2.0",
          "histogram": [
           {
            "bin_start": 0,
            "bin_end": 0.2,
            "count": 3
           },
           {
            "bin_start": 0.2,
            "bin_end": 0.4,
            "count": 0
           },
           {
            "bin_start": 0.4,
            "bin_end": 0.6000000000000001,
            "count": 0
           },
           {
            "bin_start": 0.6000000000000001,
            "bin_end": 0.8,
            "count": 0
           },
           {
            "bin_start": 0.8,
            "bin_end": 1,
            "count": 0
           },
           {
            "bin_start": 1,
            "bin_end": 1.2000000000000002,
            "count": 1
           },
           {
            "bin_start": 1.2000000000000002,
            "bin_end": 1.4000000000000001,
            "count": 0
           },
           {
            "bin_start": 1.4000000000000001,
            "bin_end": 1.6,
            "count": 0
           },
           {
            "bin_start": 1.6,
            "bin_end": 1.8,
            "count": 0
           },
           {
            "bin_start": 1.8,
            "bin_end": 2,
            "count": 1
           }
          ]
         }
        },
        {
         "name": "Outlet_Typecode",
         "dtype": "float64",
         "stats": {
          "unique_count": 2,
          "nan_count": 0,
          "min": "1.0",
          "max": "3.0",
          "histogram": [
           {
            "bin_start": 1,
            "bin_end": 1.2,
            "count": 4
           },
           {
            "bin_start": 1.2,
            "bin_end": 1.4,
            "count": 0
           },
           {
            "bin_start": 1.4,
            "bin_end": 1.6,
            "count": 0
           },
           {
            "bin_start": 1.6,
            "bin_end": 1.8,
            "count": 0
           },
           {
            "bin_start": 1.8,
            "bin_end": 2,
            "count": 0
           },
           {
            "bin_start": 2,
            "bin_end": 2.2,
            "count": 0
           },
           {
            "bin_start": 2.2,
            "bin_end": 2.4000000000000004,
            "count": 0
           },
           {
            "bin_start": 2.4000000000000004,
            "bin_end": 2.6,
            "count": 0
           },
           {
            "bin_start": 2.6,
            "bin_end": 2.8,
            "count": 0
           },
           {
            "bin_start": 2.8,
            "bin_end": 3,
            "count": 1
           }
          ]
         }
        },
        {
         "name": "_deepnote_index_column",
         "dtype": "int64"
        }
       ],
       "rows": [
        {
         "Item_Identifier": "NCF31",
         "Item_Weight": 9.13,
         "Item_Visibility": 0.051928034,
         "Item_MRP": 151.4024,
         "Outlet_Identifier": "OUT049",
         "Outlet_Establishment_Year": 1999,
         "Item_Outlet_Sales": "nan",
         "Item_Fat_Contentcode": 1,
         "Item_Typecode": 9,
         "Outlet_Sizecode": 1,
         "Outlet_Location_Typecode": 0,
         "Outlet_Typecode": 1,
         "_deepnote_index_column": 0
        },
        {
         "Item_Identifier": "FDD59",
         "Item_Weight": 10.5,
         "Item_Visibility": 0,
         "Item_MRP": 78.296,
         "Outlet_Identifier": "OUT046",
         "Outlet_Establishment_Year": 1997,
         "Item_Outlet_Sales": "nan",
         "Item_Fat_Contentcode": 2,
         "Item_Typecode": 15,
         "Outlet_Sizecode": 2,
         "Outlet_Location_Typecode": 0,
         "Outlet_Typecode": 1,
         "_deepnote_index_column": 1
        },
        {
         "Item_Identifier": "FDQ52",
         "Item_Weight": 17,
         "Item_Visibility": 0.119570595,
         "Item_MRP": 249.7434,
         "Outlet_Identifier": "OUT049",
         "Outlet_Establishment_Year": 1999,
         "Item_Outlet_Sales": "nan",
         "Item_Fat_Contentcode": 1,
         "Item_Typecode": 5,
         "Outlet_Sizecode": 1,
         "Outlet_Location_Typecode": 0,
         "Outlet_Typecode": 1,
         "_deepnote_index_column": 2
        },
        {
         "Item_Identifier": "FDP09",
         "Item_Weight": 12.959605451936872,
         "Item_Visibility": 0.033725743,
         "Item_MRP": 211.6902,
         "Outlet_Identifier": "OUT027",
         "Outlet_Establishment_Year": 1985,
         "Item_Outlet_Sales": "nan",
         "Item_Fat_Contentcode": 1,
         "Item_Typecode": 13,
         "Outlet_Sizecode": 1,
         "Outlet_Location_Typecode": 2,
         "Outlet_Typecode": 3,
         "_deepnote_index_column": 3
        },
        {
         "Item_Identifier": "FDK24",
         "Item_Weight": 9.195,
         "Item_Visibility": 0.101275792,
         "Item_MRP": 46.4744,
         "Outlet_Identifier": "OUT035",
         "Outlet_Establishment_Year": 2004,
         "Item_Outlet_Sales": "nan",
         "Item_Fat_Contentcode": 1,
         "Item_Typecode": 0,
         "Outlet_Sizecode": 2,
         "Outlet_Location_Typecode": 1,
         "Outlet_Typecode": 1,
         "_deepnote_index_column": 4
        }
       ]
      },
      "text/plain": "  Item_Identifier  Item_Weight  Item_Visibility  Item_MRP Outlet_Identifier  \\\n0           NCF31     9.130000         0.051928  151.4024            OUT049   \n1           FDD59    10.500000         0.000000   78.2960            OUT046   \n2           FDQ52    17.000000         0.119571  249.7434            OUT049   \n3           FDP09    12.959605         0.033726  211.6902            OUT027   \n4           FDK24     9.195000         0.101276   46.4744            OUT035   \n\n   Outlet_Establishment_Year  Item_Outlet_Sales  Item_Fat_Contentcode  \\\n0                       1999                NaN                   1.0   \n1                       1997                NaN                   2.0   \n2                       1999                NaN                   1.0   \n3                       1985                NaN                   1.0   \n4                       2004                NaN                   1.0   \n\n   Item_Typecode  Outlet_Sizecode  Outlet_Location_Typecode  Outlet_Typecode  \n0            9.0              1.0                       0.0              1.0  \n1           15.0              2.0                       0.0              1.0  \n2            5.0              1.0                       0.0              1.0  \n3           13.0              1.0                       2.0              3.0  \n4            0.0              2.0                       1.0              1.0  ",
      "text/html": "<div>\n<style scoped>\n    .dataframe tbody tr th:only-of-type {\n        vertical-align: middle;\n    }\n\n    .dataframe tbody tr th {\n        vertical-align: top;\n    }\n\n    .dataframe thead th {\n        text-align: right;\n    }\n</style>\n<table border=\"1\" class=\"dataframe\">\n  <thead>\n    <tr style=\"text-align: right;\">\n      <th></th>\n      <th>Item_Identifier</th>\n      <th>Item_Weight</th>\n      <th>Item_Visibility</th>\n      <th>Item_MRP</th>\n      <th>Outlet_Identifier</th>\n      <th>Outlet_Establishment_Year</th>\n      <th>Item_Outlet_Sales</th>\n      <th>Item_Fat_Contentcode</th>\n      <th>Item_Typecode</th>\n      <th>Outlet_Sizecode</th>\n      <th>Outlet_Location_Typecode</th>\n      <th>Outlet_Typecode</th>\n    </tr>\n  </thead>\n  <tbody>\n    <tr>\n      <th>0</th>\n      <td>NCF31</td>\n      <td>9.130000</td>\n      <td>0.051928</td>\n      <td>151.4024</td>\n      <td>OUT049</td>\n      <td>1999</td>\n      <td>NaN</td>\n      <td>1.0</td>\n      <td>9.0</td>\n      <td>1.0</td>\n      <td>0.0</td>\n      <td>1.0</td>\n    </tr>\n    <tr>\n      <th>1</th>\n      <td>FDD59</td>\n      <td>10.500000</td>\n      <td>0.000000</td>\n      <td>78.2960</td>\n      <td>OUT046</td>\n      <td>1997</td>\n      <td>NaN</td>\n      <td>2.0</td>\n      <td>15.0</td>\n      <td>2.0</td>\n      <td>0.0</td>\n      <td>1.0</td>\n    </tr>\n    <tr>\n      <th>2</th>\n      <td>FDQ52</td>\n      <td>17.000000</td>\n      <td>0.119571</td>\n      <td>249.7434</td>\n      <td>OUT049</td>\n      <td>1999</td>\n      <td>NaN</td>\n      <td>1.0</td>\n      <td>5.0</td>\n      <td>1.0</td>\n      <td>0.0</td>\n      <td>1.0</td>\n    </tr>\n    <tr>\n      <th>3</th>\n      <td>FDP09</td>\n      <td>12.959605</td>\n      <td>0.033726</td>\n      <td>211.6902</td>\n      <td>OUT027</td>\n      <td>1985</td>\n      <td>NaN</td>\n      <td>1.0</td>\n      <td>13.0</td>\n      <td>1.0</td>\n      <td>2.0</td>\n      <td>3.0</td>\n    </tr>\n    <tr>\n      <th>4</th>\n      <td>FDK24</td>\n      <td>9.195000</td>\n      <td>0.101276</td>\n      <td>46.4744</td>\n      <td>OUT035</td>\n      <td>2004</td>\n      <td>NaN</td>\n      <td>1.0</td>\n      <td>0.0</td>\n      <td>2.0</td>\n      <td>1.0</td>\n      <td>1.0</td>\n    </tr>\n  </tbody>\n</table>\n</div>"
     },
     "metadata": {}
    }
   ],
   "execution_count": null
  },
  {
   "cell_type": "code",
   "metadata": {
    "colab": {
     "base_uri": "https://localhost:8080/",
     "height": 226
    },
    "id": "Yz_9QVHHk8-m",
    "outputId": "4700d103-dbde-46b5-a9d7-647251bae1f2",
    "cell_id": "00051-919eac78-8c7a-45de-9265-3da097ca2033",
    "deepnote_output_heights": [
     177
    ],
    "deepnote_to_be_reexecuted": false,
    "source_hash": "5e2a9c26",
    "execution_start": 1639740945913,
    "execution_millis": 225,
    "deepnote_cell_type": "code"
   },
   "source": "df_train.head()",
   "outputs": [
    {
     "output_type": "execute_result",
     "execution_count": 13,
     "data": {
      "application/vnd.deepnote.dataframe.v3+json": {
       "column_count": 12,
       "row_count": 5,
       "columns": [
        {
         "name": "Item_Identifier",
         "dtype": "object",
         "stats": {
          "unique_count": 5,
          "nan_count": 0,
          "categories": [
           {
            "name": "FDA15",
            "count": 1
           },
           {
            "name": "DRC01",
            "count": 1
           },
           {
            "name": "3 others",
            "count": 3
           }
          ]
         }
        },
        {
         "name": "Item_Weight",
         "dtype": "float64",
         "stats": {
          "unique_count": 5,
          "nan_count": 0,
          "min": "5.92",
          "max": "19.2",
          "histogram": [
           {
            "bin_start": 5.92,
            "bin_end": 7.247999999999999,
            "count": 1
           },
           {
            "bin_start": 7.247999999999999,
            "bin_end": 8.576,
            "count": 0
           },
           {
            "bin_start": 8.576,
            "bin_end": 9.904,
            "count": 2
           },
           {
            "bin_start": 9.904,
            "bin_end": 11.232,
            "count": 0
           },
           {
            "bin_start": 11.232,
            "bin_end": 12.559999999999999,
            "count": 0
           },
           {
            "bin_start": 12.559999999999999,
            "bin_end": 13.887999999999998,
            "count": 0
           },
           {
            "bin_start": 13.887999999999998,
            "bin_end": 15.216,
            "count": 0
           },
           {
            "bin_start": 15.216,
            "bin_end": 16.543999999999997,
            "count": 0
           },
           {
            "bin_start": 16.543999999999997,
            "bin_end": 17.872,
            "count": 1
           },
           {
            "bin_start": 17.872,
            "bin_end": 19.2,
            "count": 1
           }
          ]
         }
        },
        {
         "name": "Item_Visibility",
         "dtype": "float64",
         "stats": {
          "unique_count": 4,
          "nan_count": 0,
          "min": "0.0",
          "max": "0.019278216",
          "histogram": [
           {
            "bin_start": 0,
            "bin_end": 0.0019278216000000001,
            "count": 2
           },
           {
            "bin_start": 0.0019278216000000001,
            "bin_end": 0.0038556432000000002,
            "count": 0
           },
           {
            "bin_start": 0.0038556432000000002,
            "bin_end": 0.005783464800000001,
            "count": 0
           },
           {
            "bin_start": 0.005783464800000001,
            "bin_end": 0.0077112864000000005,
            "count": 0
           },
           {
            "bin_start": 0.0077112864000000005,
            "bin_end": 0.009639108,
            "count": 0
           },
           {
            "bin_start": 0.009639108,
            "bin_end": 0.011566929600000001,
            "count": 0
           },
           {
            "bin_start": 0.011566929600000001,
            "bin_end": 0.0134947512,
            "count": 0
           },
           {
            "bin_start": 0.0134947512,
            "bin_end": 0.015422572800000001,
            "count": 0
           },
           {
            "bin_start": 0.015422572800000001,
            "bin_end": 0.0173503944,
            "count": 2
           },
           {
            "bin_start": 0.0173503944,
            "bin_end": 0.019278216,
            "count": 1
           }
          ]
         }
        },
        {
         "name": "Item_MRP",
         "dtype": "float64",
         "stats": {
          "unique_count": 5,
          "nan_count": 0,
          "min": "48.2692",
          "max": "249.8092",
          "histogram": [
           {
            "bin_start": 48.2692,
            "bin_end": 68.42320000000001,
            "count": 2
           },
           {
            "bin_start": 68.42320000000001,
            "bin_end": 88.5772,
            "count": 0
           },
           {
            "bin_start": 88.5772,
            "bin_end": 108.7312,
            "count": 0
           },
           {
            "bin_start": 108.7312,
            "bin_end": 128.8852,
            "count": 0
           },
           {
            "bin_start": 128.8852,
            "bin_end": 149.0392,
            "count": 1
           },
           {
            "bin_start": 149.0392,
            "bin_end": 169.19320000000002,
            "count": 0
           },
           {
            "bin_start": 169.19320000000002,
            "bin_end": 189.34720000000004,
            "count": 1
           },
           {
            "bin_start": 189.34720000000004,
            "bin_end": 209.50120000000004,
            "count": 0
           },
           {
            "bin_start": 209.50120000000004,
            "bin_end": 229.65520000000004,
            "count": 0
           },
           {
            "bin_start": 229.65520000000004,
            "bin_end": 249.8092,
            "count": 1
           }
          ]
         }
        },
        {
         "name": "Outlet_Identifier",
         "dtype": "object",
         "stats": {
          "unique_count": 4,
          "nan_count": 0,
          "categories": [
           {
            "name": "OUT049",
            "count": 2
           },
           {
            "name": "OUT018",
            "count": 1
           },
           {
            "name": "2 others",
            "count": 2
           }
          ]
         }
        },
        {
         "name": "Outlet_Establishment_Year",
         "dtype": "int64",
         "stats": {
          "unique_count": 4,
          "nan_count": 0,
          "min": "1987",
          "max": "2009",
          "histogram": [
           {
            "bin_start": 1987,
            "bin_end": 1989.2,
            "count": 1
           },
           {
            "bin_start": 1989.2,
            "bin_end": 1991.4,
            "count": 0
           },
           {
            "bin_start": 1991.4,
            "bin_end": 1993.6,
            "count": 0
           },
           {
            "bin_start": 1993.6,
            "bin_end": 1995.8,
            "count": 0
           },
           {
            "bin_start": 1995.8,
            "bin_end": 1998,
            "count": 0
           },
           {
            "bin_start": 1998,
            "bin_end": 2000.2,
            "count": 3
           },
           {
            "bin_start": 2000.2,
            "bin_end": 2002.4,
            "count": 0
           },
           {
            "bin_start": 2002.4,
            "bin_end": 2004.6,
            "count": 0
           },
           {
            "bin_start": 2004.6,
            "bin_end": 2006.8,
            "count": 0
           },
           {
            "bin_start": 2006.8,
            "bin_end": 2009,
            "count": 1
           }
          ]
         }
        },
        {
         "name": "Item_Outlet_Sales",
         "dtype": "float64",
         "stats": {
          "unique_count": 5,
          "nan_count": 0,
          "min": "443.4228",
          "max": "3735.138",
          "histogram": [
           {
            "bin_start": 443.4228,
            "bin_end": 772.5943199999999,
            "count": 2
           },
           {
            "bin_start": 772.5943199999999,
            "bin_end": 1101.76584,
            "count": 1
           },
           {
            "bin_start": 1101.76584,
            "bin_end": 1430.93736,
            "count": 0
           },
           {
            "bin_start": 1430.93736,
            "bin_end": 1760.10888,
            "count": 0
           },
           {
            "bin_start": 1760.10888,
            "bin_end": 2089.2803999999996,
            "count": 0
           },
           {
            "bin_start": 2089.2803999999996,
            "bin_end": 2418.45192,
            "count": 1
           },
           {
            "bin_start": 2418.45192,
            "bin_end": 2747.62344,
            "count": 0
           },
           {
            "bin_start": 2747.62344,
            "bin_end": 3076.7949599999997,
            "count": 0
           },
           {
            "bin_start": 3076.7949599999997,
            "bin_end": 3405.9664799999996,
            "count": 0
           },
           {
            "bin_start": 3405.9664799999996,
            "bin_end": 3735.138,
            "count": 1
           }
          ]
         }
        },
        {
         "name": "Item_Fat_Contentcode",
         "dtype": "float64",
         "stats": {
          "unique_count": 2,
          "nan_count": 0,
          "min": "1.0",
          "max": "2.0",
          "histogram": [
           {
            "bin_start": 1,
            "bin_end": 1.1,
            "count": 3
           },
           {
            "bin_start": 1.1,
            "bin_end": 1.2,
            "count": 0
           },
           {
            "bin_start": 1.2,
            "bin_end": 1.3,
            "count": 0
           },
           {
            "bin_start": 1.3,
            "bin_end": 1.4,
            "count": 0
           },
           {
            "bin_start": 1.4,
            "bin_end": 1.5,
            "count": 0
           },
           {
            "bin_start": 1.5,
            "bin_end": 1.6,
            "count": 0
           },
           {
            "bin_start": 1.6,
            "bin_end": 1.7000000000000002,
            "count": 0
           },
           {
            "bin_start": 1.7000000000000002,
            "bin_end": 1.8,
            "count": 0
           },
           {
            "bin_start": 1.8,
            "bin_end": 1.9,
            "count": 0
           },
           {
            "bin_start": 1.9,
            "bin_end": 2,
            "count": 2
           }
          ]
         }
        },
        {
         "name": "Item_Typecode",
         "dtype": "float64",
         "stats": {
          "unique_count": 5,
          "nan_count": 0,
          "min": "4.0",
          "max": "14.0",
          "histogram": [
           {
            "bin_start": 4,
            "bin_end": 5,
            "count": 1
           },
           {
            "bin_start": 5,
            "bin_end": 6,
            "count": 0
           },
           {
            "bin_start": 6,
            "bin_end": 7,
            "count": 1
           },
           {
            "bin_start": 7,
            "bin_end": 8,
            "count": 0
           },
           {
            "bin_start": 8,
            "bin_end": 9,
            "count": 0
           },
           {
            "bin_start": 9,
            "bin_end": 10,
            "count": 1
           },
           {
            "bin_start": 10,
            "bin_end": 11,
            "count": 1
           },
           {
            "bin_start": 11,
            "bin_end": 12,
            "count": 0
           },
           {
            "bin_start": 12,
            "bin_end": 13,
            "count": 0
           },
           {
            "bin_start": 13,
            "bin_end": 14,
            "count": 1
           }
          ]
         }
        },
        {
         "name": "Outlet_Sizecode",
         "dtype": "float64",
         "stats": {
          "unique_count": 2,
          "nan_count": 0,
          "min": "0.0",
          "max": "1.0",
          "histogram": [
           {
            "bin_start": 0,
            "bin_end": 0.1,
            "count": 1
           },
           {
            "bin_start": 0.1,
            "bin_end": 0.2,
            "count": 0
           },
           {
            "bin_start": 0.2,
            "bin_end": 0.30000000000000004,
            "count": 0
           },
           {
            "bin_start": 0.30000000000000004,
            "bin_end": 0.4,
            "count": 0
           },
           {
            "bin_start": 0.4,
            "bin_end": 0.5,
            "count": 0
           },
           {
            "bin_start": 0.5,
            "bin_end": 0.6000000000000001,
            "count": 0
           },
           {
            "bin_start": 0.6000000000000001,
            "bin_end": 0.7000000000000001,
            "count": 0
           },
           {
            "bin_start": 0.7000000000000001,
            "bin_end": 0.8,
            "count": 0
           },
           {
            "bin_start": 0.8,
            "bin_end": 0.9,
            "count": 0
           },
           {
            "bin_start": 0.9,
            "bin_end": 1,
            "count": 4
           }
          ]
         }
        },
        {
         "name": "Outlet_Location_Typecode",
         "dtype": "float64",
         "stats": {
          "unique_count": 2,
          "nan_count": 0,
          "min": "0.0",
          "max": "2.0",
          "histogram": [
           {
            "bin_start": 0,
            "bin_end": 0.2,
            "count": 2
           },
           {
            "bin_start": 0.2,
            "bin_end": 0.4,
            "count": 0
           },
           {
            "bin_start": 0.4,
            "bin_end": 0.6000000000000001,
            "count": 0
           },
           {
            "bin_start": 0.6000000000000001,
            "bin_end": 0.8,
            "count": 0
           },
           {
            "bin_start": 0.8,
            "bin_end": 1,
            "count": 0
           },
           {
            "bin_start": 1,
            "bin_end": 1.2000000000000002,
            "count": 0
           },
           {
            "bin_start": 1.2000000000000002,
            "bin_end": 1.4000000000000001,
            "count": 0
           },
           {
            "bin_start": 1.4000000000000001,
            "bin_end": 1.6,
            "count": 0
           },
           {
            "bin_start": 1.6,
            "bin_end": 1.8,
            "count": 0
           },
           {
            "bin_start": 1.8,
            "bin_end": 2,
            "count": 3
           }
          ]
         }
        },
        {
         "name": "Outlet_Typecode",
         "dtype": "float64",
         "stats": {
          "unique_count": 3,
          "nan_count": 0,
          "min": "0.0",
          "max": "2.0",
          "histogram": [
           {
            "bin_start": 0,
            "bin_end": 0.2,
            "count": 1
           },
           {
            "bin_start": 0.2,
            "bin_end": 0.4,
            "count": 0
           },
           {
            "bin_start": 0.4,
            "bin_end": 0.6000000000000001,
            "count": 0
           },
           {
            "bin_start": 0.6000000000000001,
            "bin_end": 0.8,
            "count": 0
           },
           {
            "bin_start": 0.8,
            "bin_end": 1,
            "count": 0
           },
           {
            "bin_start": 1,
            "bin_end": 1.2000000000000002,
            "count": 3
           },
           {
            "bin_start": 1.2000000000000002,
            "bin_end": 1.4000000000000001,
            "count": 0
           },
           {
            "bin_start": 1.4000000000000001,
            "bin_end": 1.6,
            "count": 0
           },
           {
            "bin_start": 1.6,
            "bin_end": 1.8,
            "count": 0
           },
           {
            "bin_start": 1.8,
            "bin_end": 2,
            "count": 1
           }
          ]
         }
        },
        {
         "name": "_deepnote_index_column",
         "dtype": "int64"
        }
       ],
       "rows": [
        {
         "Item_Identifier": "FDA15",
         "Item_Weight": 9.3,
         "Item_Visibility": 0.016047301,
         "Item_MRP": 249.8092,
         "Outlet_Identifier": "OUT049",
         "Outlet_Establishment_Year": 1999,
         "Item_Outlet_Sales": 3735.138,
         "Item_Fat_Contentcode": 1,
         "Item_Typecode": 4,
         "Outlet_Sizecode": 1,
         "Outlet_Location_Typecode": 0,
         "Outlet_Typecode": 1,
         "_deepnote_index_column": 0
        },
        {
         "Item_Identifier": "DRC01",
         "Item_Weight": 5.92,
         "Item_Visibility": 0.019278216,
         "Item_MRP": 48.2692,
         "Outlet_Identifier": "OUT018",
         "Outlet_Establishment_Year": 2009,
         "Item_Outlet_Sales": 443.4228,
         "Item_Fat_Contentcode": 2,
         "Item_Typecode": 14,
         "Outlet_Sizecode": 1,
         "Outlet_Location_Typecode": 2,
         "Outlet_Typecode": 2,
         "_deepnote_index_column": 1
        },
        {
         "Item_Identifier": "FDN15",
         "Item_Weight": 17.5,
         "Item_Visibility": 0.016760075,
         "Item_MRP": 141.618,
         "Outlet_Identifier": "OUT049",
         "Outlet_Establishment_Year": 1999,
         "Item_Outlet_Sales": 2097.27,
         "Item_Fat_Contentcode": 1,
         "Item_Typecode": 10,
         "Outlet_Sizecode": 1,
         "Outlet_Location_Typecode": 0,
         "Outlet_Typecode": 1,
         "_deepnote_index_column": 2
        },
        {
         "Item_Identifier": "FDX07",
         "Item_Weight": 19.2,
         "Item_Visibility": 0,
         "Item_MRP": 182.095,
         "Outlet_Identifier": "OUT010",
         "Outlet_Establishment_Year": 1998,
         "Item_Outlet_Sales": 732.38,
         "Item_Fat_Contentcode": 2,
         "Item_Typecode": 6,
         "Outlet_Sizecode": 1,
         "Outlet_Location_Typecode": 2,
         "Outlet_Typecode": 0,
         "_deepnote_index_column": 3
        },
        {
         "Item_Identifier": "NCD19",
         "Item_Weight": 8.93,
         "Item_Visibility": 0,
         "Item_MRP": 53.8614,
         "Outlet_Identifier": "OUT013",
         "Outlet_Establishment_Year": 1987,
         "Item_Outlet_Sales": 994.7052,
         "Item_Fat_Contentcode": 1,
         "Item_Typecode": 9,
         "Outlet_Sizecode": 0,
         "Outlet_Location_Typecode": 2,
         "Outlet_Typecode": 1,
         "_deepnote_index_column": 4
        }
       ]
      },
      "text/plain": "  Item_Identifier  Item_Weight  Item_Visibility  Item_MRP Outlet_Identifier  \\\n0           FDA15         9.30         0.016047  249.8092            OUT049   \n1           DRC01         5.92         0.019278   48.2692            OUT018   \n2           FDN15        17.50         0.016760  141.6180            OUT049   \n3           FDX07        19.20         0.000000  182.0950            OUT010   \n4           NCD19         8.93         0.000000   53.8614            OUT013   \n\n   Outlet_Establishment_Year  Item_Outlet_Sales  Item_Fat_Contentcode  \\\n0                       1999          3735.1380                   1.0   \n1                       2009           443.4228                   2.0   \n2                       1999          2097.2700                   1.0   \n3                       1998           732.3800                   2.0   \n4                       1987           994.7052                   1.0   \n\n   Item_Typecode  Outlet_Sizecode  Outlet_Location_Typecode  Outlet_Typecode  \n0            4.0              1.0                       0.0              1.0  \n1           14.0              1.0                       2.0              2.0  \n2           10.0              1.0                       0.0              1.0  \n3            6.0              1.0                       2.0              0.0  \n4            9.0              0.0                       2.0              1.0  ",
      "text/html": "<div>\n<style scoped>\n    .dataframe tbody tr th:only-of-type {\n        vertical-align: middle;\n    }\n\n    .dataframe tbody tr th {\n        vertical-align: top;\n    }\n\n    .dataframe thead th {\n        text-align: right;\n    }\n</style>\n<table border=\"1\" class=\"dataframe\">\n  <thead>\n    <tr style=\"text-align: right;\">\n      <th></th>\n      <th>Item_Identifier</th>\n      <th>Item_Weight</th>\n      <th>Item_Visibility</th>\n      <th>Item_MRP</th>\n      <th>Outlet_Identifier</th>\n      <th>Outlet_Establishment_Year</th>\n      <th>Item_Outlet_Sales</th>\n      <th>Item_Fat_Contentcode</th>\n      <th>Item_Typecode</th>\n      <th>Outlet_Sizecode</th>\n      <th>Outlet_Location_Typecode</th>\n      <th>Outlet_Typecode</th>\n    </tr>\n  </thead>\n  <tbody>\n    <tr>\n      <th>0</th>\n      <td>FDA15</td>\n      <td>9.30</td>\n      <td>0.016047</td>\n      <td>249.8092</td>\n      <td>OUT049</td>\n      <td>1999</td>\n      <td>3735.1380</td>\n      <td>1.0</td>\n      <td>4.0</td>\n      <td>1.0</td>\n      <td>0.0</td>\n      <td>1.0</td>\n    </tr>\n    <tr>\n      <th>1</th>\n      <td>DRC01</td>\n      <td>5.92</td>\n      <td>0.019278</td>\n      <td>48.2692</td>\n      <td>OUT018</td>\n      <td>2009</td>\n      <td>443.4228</td>\n      <td>2.0</td>\n      <td>14.0</td>\n      <td>1.0</td>\n      <td>2.0</td>\n      <td>2.0</td>\n    </tr>\n    <tr>\n      <th>2</th>\n      <td>FDN15</td>\n      <td>17.50</td>\n      <td>0.016760</td>\n      <td>141.6180</td>\n      <td>OUT049</td>\n      <td>1999</td>\n      <td>2097.2700</td>\n      <td>1.0</td>\n      <td>10.0</td>\n      <td>1.0</td>\n      <td>0.0</td>\n      <td>1.0</td>\n    </tr>\n    <tr>\n      <th>3</th>\n      <td>FDX07</td>\n      <td>19.20</td>\n      <td>0.000000</td>\n      <td>182.0950</td>\n      <td>OUT010</td>\n      <td>1998</td>\n      <td>732.3800</td>\n      <td>2.0</td>\n      <td>6.0</td>\n      <td>1.0</td>\n      <td>2.0</td>\n      <td>0.0</td>\n    </tr>\n    <tr>\n      <th>4</th>\n      <td>NCD19</td>\n      <td>8.93</td>\n      <td>0.000000</td>\n      <td>53.8614</td>\n      <td>OUT013</td>\n      <td>1987</td>\n      <td>994.7052</td>\n      <td>1.0</td>\n      <td>9.0</td>\n      <td>0.0</td>\n      <td>2.0</td>\n      <td>1.0</td>\n    </tr>\n  </tbody>\n</table>\n</div>"
     },
     "metadata": {}
    }
   ],
   "execution_count": null
  },
  {
   "cell_type": "code",
   "metadata": {
    "colab": {
     "base_uri": "https://localhost:8080/",
     "height": 363
    },
    "id": "gzmypsJek8-m",
    "outputId": "84763aa6-7dae-41b7-992c-fd8170e46b57",
    "cell_id": "00052-e3171c15-483a-4c36-9e27-ae77a9e63229",
    "deepnote_output_heights": [
     322
    ],
    "deepnote_to_be_reexecuted": false,
    "source_hash": "163c6981",
    "execution_start": 1639740949451,
    "execution_millis": 67,
    "deepnote_cell_type": "code"
   },
   "source": "df_train.describe().transpose()[['mean', 'std']]",
   "outputs": [
    {
     "output_type": "execute_result",
     "execution_count": 14,
     "data": {
      "application/vnd.deepnote.dataframe.v3+json": {
       "column_count": 2,
       "row_count": 10,
       "columns": [
        {
         "name": "mean",
         "dtype": "float64",
         "stats": {
          "unique_count": 10,
          "nan_count": 0,
          "min": "0.0656711603552",
          "max": "2188.38166732",
          "histogram": [
           {
            "bin_start": 0.0656711603552,
            "bin_end": 218.8972707763197,
            "count": 8
           },
           {
            "bin_start": 218.8972707763197,
            "bin_end": 437.72887039228414,
            "count": 0
           },
           {
            "bin_start": 437.72887039228414,
            "bin_end": 656.5604700082487,
            "count": 0
           },
           {
            "bin_start": 656.5604700082487,
            "bin_end": 875.3920696242131,
            "count": 0
           },
           {
            "bin_start": 875.3920696242131,
            "bin_end": 1094.2236692401775,
            "count": 0
           },
           {
            "bin_start": 1094.2236692401775,
            "bin_end": 1313.055268856142,
            "count": 0
           },
           {
            "bin_start": 1313.055268856142,
            "bin_end": 1531.8868684721065,
            "count": 0
           },
           {
            "bin_start": 1531.8868684721065,
            "bin_end": 1750.718468088071,
            "count": 0
           },
           {
            "bin_start": 1750.718468088071,
            "bin_end": 1969.5500677040354,
            "count": 0
           },
           {
            "bin_start": 1969.5500677040354,
            "bin_end": 2188.38166732,
            "count": 2
           }
          ]
         }
        },
        {
         "name": "std",
         "dtype": "float64",
         "stats": {
          "unique_count": 10,
          "nan_count": 0,
          "min": "0.05120632682376758",
          "max": "1703.1311871799173",
          "histogram": [
           {
            "bin_start": 0.05120632682376758,
            "bin_end": 170.35920441213312,
            "count": 9
           },
           {
            "bin_start": 170.35920441213312,
            "bin_end": 340.6672024974425,
            "count": 0
           },
           {
            "bin_start": 340.6672024974425,
            "bin_end": 510.9752005827518,
            "count": 0
           },
           {
            "bin_start": 510.9752005827518,
            "bin_end": 681.2831986680611,
            "count": 0
           },
           {
            "bin_start": 681.2831986680611,
            "bin_end": 851.5911967533705,
            "count": 0
           },
           {
            "bin_start": 851.5911967533705,
            "bin_end": 1021.8991948386798,
            "count": 0
           },
           {
            "bin_start": 1021.8991948386798,
            "bin_end": 1192.2071929239892,
            "count": 0
           },
           {
            "bin_start": 1192.2071929239892,
            "bin_end": 1362.5151910092986,
            "count": 0
           },
           {
            "bin_start": 1362.5151910092986,
            "bin_end": 1532.823189094608,
            "count": 0
           },
           {
            "bin_start": 1532.823189094608,
            "bin_end": 1703.1311871799173,
            "count": 1
           }
          ]
         }
        },
        {
         "name": "_deepnote_index_column",
         "dtype": "object"
        }
       ],
       "rows": [
        {
         "mean": 12.959605451936872,
         "std": 4.263273597853318,
         "_deepnote_index_column": "Item_Weight"
        },
        {
         "mean": 0.0656711603552,
         "std": 0.05120632682376758,
         "_deepnote_index_column": "Item_Visibility"
        },
        {
         "mean": 141.34451976,
         "std": 62.401513871741564,
         "_deepnote_index_column": "Item_MRP"
        },
        {
         "mean": 1997.9008,
         "std": 8.290422521266104,
         "_deepnote_index_column": "Outlet_Establishment_Year"
        },
        {
         "mean": 2188.38166732,
         "std": 1703.1311871799173,
         "_deepnote_index_column": "Item_Outlet_Sales"
        },
        {
         "mean": 1.3648,
         "std": 0.6414072346396864,
         "_deepnote_index_column": "Item_Fat_Contentcode"
        },
        {
         "mean": 7.213,
         "std": 4.2104128675586034,
         "_deepnote_index_column": "Item_Typecode"
        },
        {
         "mean": 1.168,
         "std": 0.602535152270757,
         "_deepnote_index_column": "Outlet_Sizecode"
        },
        {
         "mean": 1.114,
         "std": 0.8081674498056606,
         "_deepnote_index_column": "Outlet_Location_Typecode"
        },
        {
         "mean": 1.1988,
         "std": 0.7860038933899023,
         "_deepnote_index_column": "Outlet_Typecode"
        }
       ]
      },
      "text/plain": "                                  mean          std\nItem_Weight                  12.959605     4.263274\nItem_Visibility               0.065671     0.051206\nItem_MRP                    141.344520    62.401514\nOutlet_Establishment_Year  1997.900800     8.290423\nItem_Outlet_Sales          2188.381667  1703.131187\nItem_Fat_Contentcode          1.364800     0.641407\nItem_Typecode                 7.213000     4.210413\nOutlet_Sizecode               1.168000     0.602535\nOutlet_Location_Typecode      1.114000     0.808167\nOutlet_Typecode               1.198800     0.786004",
      "text/html": "<div>\n<style scoped>\n    .dataframe tbody tr th:only-of-type {\n        vertical-align: middle;\n    }\n\n    .dataframe tbody tr th {\n        vertical-align: top;\n    }\n\n    .dataframe thead th {\n        text-align: right;\n    }\n</style>\n<table border=\"1\" class=\"dataframe\">\n  <thead>\n    <tr style=\"text-align: right;\">\n      <th></th>\n      <th>mean</th>\n      <th>std</th>\n    </tr>\n  </thead>\n  <tbody>\n    <tr>\n      <th>Item_Weight</th>\n      <td>12.959605</td>\n      <td>4.263274</td>\n    </tr>\n    <tr>\n      <th>Item_Visibility</th>\n      <td>0.065671</td>\n      <td>0.051206</td>\n    </tr>\n    <tr>\n      <th>Item_MRP</th>\n      <td>141.344520</td>\n      <td>62.401514</td>\n    </tr>\n    <tr>\n      <th>Outlet_Establishment_Year</th>\n      <td>1997.900800</td>\n      <td>8.290423</td>\n    </tr>\n    <tr>\n      <th>Item_Outlet_Sales</th>\n      <td>2188.381667</td>\n      <td>1703.131187</td>\n    </tr>\n    <tr>\n      <th>Item_Fat_Contentcode</th>\n      <td>1.364800</td>\n      <td>0.641407</td>\n    </tr>\n    <tr>\n      <th>Item_Typecode</th>\n      <td>7.213000</td>\n      <td>4.210413</td>\n    </tr>\n    <tr>\n      <th>Outlet_Sizecode</th>\n      <td>1.168000</td>\n      <td>0.602535</td>\n    </tr>\n    <tr>\n      <th>Outlet_Location_Typecode</th>\n      <td>1.114000</td>\n      <td>0.808167</td>\n    </tr>\n    <tr>\n      <th>Outlet_Typecode</th>\n      <td>1.198800</td>\n      <td>0.786004</td>\n    </tr>\n  </tbody>\n</table>\n</div>"
     },
     "metadata": {}
    }
   ],
   "execution_count": null
  },
  {
   "cell_type": "markdown",
   "source": "#### Task 2: Define the architecture of your Deep Learning Model",
   "metadata": {
    "id": "XxXQEmAKk8-n",
    "cell_id": "00053-89b9d7ba-13b0-4fac-becd-f07293e1c278",
    "deepnote_cell_type": "markdown"
   }
  },
  {
   "cell_type": "code",
   "metadata": {
    "id": "Qtm_5LfSk8-n",
    "cell_id": "00054-f03b133c-0244-4a87-b8ce-6af9f548eaef",
    "deepnote_to_be_reexecuted": false,
    "source_hash": "c6ae786f",
    "execution_start": 1639740952578,
    "execution_millis": 2013,
    "deepnote_cell_type": "code"
   },
   "source": "from tensorflow.keras import backend as K\nfrom tensorflow.keras import regularizers\nfrom tensorflow.keras.models import Sequential\nfrom tensorflow.keras.layers import Dense\nimport numpy as np",
   "outputs": [],
   "execution_count": null
  },
  {
   "cell_type": "code",
   "metadata": {
    "id": "XjQOZHGZk8-o",
    "cell_id": "00055-40811294-4844-420e-9e01-0a4f1204ae8a",
    "deepnote_to_be_reexecuted": false,
    "source_hash": "b57684c8",
    "execution_start": 1639740955900,
    "execution_millis": 1,
    "deepnote_cell_type": "code"
   },
   "source": "X = df_train.drop(['Item_Identifier', 'Outlet_Identifier', 'Item_Outlet_Sales'], axis = 1)\ny = df_train['Item_Outlet_Sales']",
   "outputs": [],
   "execution_count": null
  },
  {
   "cell_type": "code",
   "metadata": {
    "colab": {
     "base_uri": "https://localhost:8080/"
    },
    "id": "shZRXCc2k8-p",
    "outputId": "8ec51346-54a2-4583-8502-136bb8167e94",
    "cell_id": "00056-cd11ee88-0abc-4ab3-9aba-1ba3f935c00d",
    "deepnote_output_heights": [
     193.875
    ],
    "deepnote_to_be_reexecuted": false,
    "source_hash": "f74b69d1",
    "execution_start": 1639740958314,
    "execution_millis": 6,
    "deepnote_cell_type": "code"
   },
   "source": "X.dtypes",
   "outputs": [
    {
     "output_type": "execute_result",
     "execution_count": 17,
     "data": {
      "text/plain": "Item_Weight                  float64\nItem_Visibility              float64\nItem_MRP                     float64\nOutlet_Establishment_Year      int64\nItem_Fat_Contentcode         float64\nItem_Typecode                float64\nOutlet_Sizecode              float64\nOutlet_Location_Typecode     float64\nOutlet_Typecode              float64\ndtype: object"
     },
     "metadata": {}
    }
   ],
   "execution_count": null
  },
  {
   "cell_type": "code",
   "metadata": {
    "id": "ecbLabxzk8-q",
    "cell_id": "00057-bec7d0b1-12d2-4803-824b-bc64fcfc06a8",
    "deepnote_to_be_reexecuted": false,
    "source_hash": "b5aed78b",
    "execution_start": 1639740962359,
    "execution_millis": 4,
    "deepnote_cell_type": "code"
   },
   "source": "import os\nos.environ['KERAS_BACKEND']='tensorflow'",
   "outputs": [],
   "execution_count": null
  },
  {
   "cell_type": "markdown",
   "source": "##### Arkitektur konklusjon:",
   "metadata": {
    "id": "nvdng113k8-r",
    "cell_id": "00058-3f30cdde-c66b-410a-98df-abf4bb366ed5",
    "deepnote_cell_type": "markdown"
   }
  },
  {
   "cell_type": "markdown",
   "source": "Arkitekturen av modellen er delt opp i 5 layers, der hvert lag har [1024, 512, 256, 64, 1] neurons. Det siste layer har \"Relu\" aktivering siden output verdien er forventet og være \"non-negative rational number\" \n\nRegularizers er implementert i hver layer for å forhindre overfitting.",
   "metadata": {
    "id": "wMZa_zVek8-s",
    "cell_id": "00059-13a54eab-6efb-4074-a92b-22e293c54a40",
    "deepnote_cell_type": "markdown"
   }
  },
  {
   "cell_type": "code",
   "metadata": {
    "colab": {
     "base_uri": "https://localhost:8080/"
    },
    "id": "rJsUxk5ek8-s",
    "outputId": "98082ab3-839e-4312-a833-b1150532badd",
    "cell_id": "00060-faabb6e0-3a1f-4e1e-aad0-1427b1a582ee",
    "deepnote_to_be_reexecuted": false,
    "source_hash": "8520ec00",
    "execution_start": 1639740966206,
    "execution_millis": 151,
    "deepnote_output_heights": [
     611
    ],
    "deepnote_cell_type": "code"
   },
   "source": "class arguments(object):        \n    def __init__(self):\n        self.batch_size = 100\n        self.num_epochs = 15000 # Beste modellen vil lagres før den når denne verdien.\n        # 3000 0.6 r2 score 1time 24min\n        # 9000 0.77 r2 score 4time 11min\n        # 15 000 0.78 r2 score 6time 8min\n        self.learning_rate = 0.00001\nargs = arguments()\n\n# Hele modellen.\nmodel = Sequential()\nmodel.add(Dense(1024, input_dim=np.array(X).shape[1],kernel_initializer=\"uniform\", activation='selu'))\nmodel.add(Dense(512 , activation='selu', kernel_initializer=\"uniform\",kernel_regularizer=regularizers.l1(0.001)))\nmodel.add(Dense(256, activation='selu', kernel_initializer=\"uniform\",kernel_regularizer=regularizers.l1(0.001)))\nmodel.add(Dense(64, activation='selu', kernel_initializer=\"uniform\",kernel_regularizer=regularizers.l1(0.001)))\n\nmodel.add(Dense(1, activation='relu'))\n\n# Kompilerer modellen.\nmodel.compile(optimizer='adam',loss='mean_absolute_error')\nmodel.summary()",
   "outputs": [
    {
     "name": "stdout",
     "text": "Model: \"sequential\"\n_________________________________________________________________\nLayer (type)                 Output Shape              Param #   \n=================================================================\ndense (Dense)                (None, 1024)              10240     \n_________________________________________________________________\ndense_1 (Dense)              (None, 512)               524800    \n_________________________________________________________________\ndense_2 (Dense)              (None, 256)               131328    \n_________________________________________________________________\ndense_3 (Dense)              (None, 64)                16448     \n_________________________________________________________________\ndense_4 (Dense)              (None, 1)                 65        \n=================================================================\nTotal params: 682,881\nTrainable params: 682,881\nNon-trainable params: 0\n_________________________________________________________________\n",
     "output_type": "stream",
     "data": {}
    }
   ],
   "execution_count": null
  },
  {
   "cell_type": "markdown",
   "source": "#### Task 3: Model Training",
   "metadata": {
    "id": "nbY9tAftk8-t",
    "cell_id": "00061-2f5958f0-cac0-472a-ae92-6c67d555ed0b",
    "deepnote_cell_type": "markdown"
   }
  },
  {
   "cell_type": "code",
   "metadata": {
    "colab": {
     "base_uri": "https://localhost:8080/"
    },
    "id": "0x4SGWOJk8-t",
    "outputId": "f51b1cd1-481d-472a-a401-b3a996243526",
    "cell_id": "00062-c5f69b67-9bf1-4c9f-be78-080f20722158",
    "deepnote_to_be_reexecuted": false,
    "source_hash": "d54a6201",
    "execution_start": 1639740974471,
    "execution_millis": 22111968,
    "deepnote_cell_type": "code"
   },
   "source": "%%time\nhistory = model.fit(\n    X,\n    y,\n    epochs=args.num_epochs,\n    batch_size = args.batch_size,\n    # Suppress logging.\n    verbose=2,\n    # Kalkulerer validering resultat på 20% av training data.\n    validation_split = 0.2)",
   "outputs": [
    {
     "name": "stdout",
     "text": "Epoch 4280/15000\n40/40 - 1s - loss: 731.7789 - val_loss: 790.1292\nEpoch 4281/15000\n40/40 - 1s - loss: 734.5853 - val_loss: 784.9976\nEpoch 4282/15000\n40/40 - 1s - loss: 730.9911 - val_loss: 785.9800\nEpoch 4283/15000\n40/40 - 1s - loss: 727.0416 - val_loss: 791.0931\nEpoch 4284/15000\n40/40 - 1s - loss: 732.9346 - val_loss: 786.1095\nEpoch 4285/15000\n40/40 - 1s - loss: 730.0713 - val_loss: 793.4301\nEpoch 4286/15000\n40/40 - 1s - loss: 731.5674 - val_loss: 792.4281\nEpoch 4287/15000\n40/40 - 1s - loss: 731.6615 - val_loss: 788.2510\nEpoch 4288/15000\n40/40 - 1s - loss: 732.6925 - val_loss: 794.4264\nEpoch 4289/15000\n40/40 - 1s - loss: 730.5823 - val_loss: 784.4363\nEpoch 4290/15000\n40/40 - 1s - loss: 731.1652 - val_loss: 785.6804\nEpoch 4291/15000\n40/40 - 1s - loss: 731.3486 - val_loss: 785.3792\nEpoch 4292/15000\n40/40 - 1s - loss: 727.3815 - val_loss: 783.7342\nEpoch 4293/15000\n40/40 - 1s - loss: 727.5156 - val_loss: 784.6672\nEpoch 4294/15000\n40/40 - 1s - loss: 726.1413 - val_loss: 786.3295\nEpoch 4295/15000\n40/40 - 1s - loss: 731.0849 - val_loss: 786.5319\nEpoch 4296/15000\n40/40 - 1s - loss: 723.0363 - val_loss: 787.6250\nEpoch 4297/15000\n40/40 - 1s - loss: 730.7900 - val_loss: 788.4314\nEpoch 4298/15000\n40/40 - 1s - loss: 730.1998 - val_loss: 796.1801\nEpoch 4299/15000\n40/40 - 2s - loss: 727.5919 - val_loss: 808.4626\nEpoch 4300/15000\n40/40 - 1s - loss: 743.3971 - val_loss: 786.8863\nEpoch 4301/15000\n40/40 - 1s - loss: 729.3630 - val_loss: 802.2698\nEpoch 4302/15000\n40/40 - 1s - loss: 733.0588 - val_loss: 787.3387\nEpoch 4303/15000\n40/40 - 1s - loss: 729.9805 - val_loss: 791.0422\nEpoch 4304/15000\n40/40 - 1s - loss: 730.5759 - val_loss: 789.4939\nEpoch 4305/15000\n40/40 - 1s - loss: 730.8812 - val_loss: 789.1403\nEpoch 4306/15000\n40/40 - 1s - loss: 730.9598 - val_loss: 785.5043\nEpoch 4307/15000\n40/40 - 1s - loss: 722.2302 - val_loss: 783.5861\nEpoch 4308/15000\n40/40 - 1s - loss: 727.8846 - val_loss: 783.2007\nEpoch 4309/15000\n40/40 - 1s - loss: 733.6900 - val_loss: 790.4111\nEpoch 4310/15000\n40/40 - 1s - loss: 729.1780 - val_loss: 793.8636\nEpoch 4311/15000\n40/40 - 1s - loss: 728.9624 - val_loss: 792.7323\nEpoch 4312/15000\n40/40 - 1s - loss: 726.8198 - val_loss: 796.1910\nEpoch 4313/15000\n40/40 - 1s - loss: 727.2410 - val_loss: 794.7602\nEpoch 4314/15000\n40/40 - 1s - loss: 733.5876 - val_loss: 785.0725\nEpoch 4315/15000\n40/40 - 1s - loss: 725.4596 - val_loss: 788.5110\nEpoch 4316/15000\n40/40 - 1s - loss: 731.7554 - val_loss: 791.6886\nEpoch 4317/15000\n40/40 - 1s - loss: 728.8774 - val_loss: 790.6869\nEpoch 4318/15000\n40/40 - 1s - loss: 728.8483 - val_loss: 796.6172\nEpoch 4319/15000\n40/40 - 1s - loss: 730.4797 - val_loss: 800.7674\nEpoch 4320/15000\n40/40 - 1s - loss: 730.0525 - val_loss: 786.1008\nEpoch 4321/15000\n40/40 - 1s - loss: 726.2983 - val_loss: 793.3351\nEpoch 4322/15000\n40/40 - 1s - loss: 730.8232 - val_loss: 785.0773\nEpoch 4323/15000\n40/40 - 1s - loss: 725.0978 - val_loss: 791.1536\nEpoch 4324/15000\n40/40 - 1s - loss: 727.4766 - val_loss: 797.9139\nEpoch 4325/15000\n40/40 - 1s - loss: 731.5024 - val_loss: 791.7964\nEpoch 4326/15000\n40/40 - 1s - loss: 725.6790 - val_loss: 789.3873\nEpoch 4327/15000\n40/40 - 1s - loss: 722.6821 - val_loss: 785.8262\nEpoch 4328/15000\n40/40 - 1s - loss: 729.3387 - val_loss: 790.1883\nEpoch 4329/15000\n40/40 - 1s - loss: 734.6909 - val_loss: 786.5795\nEpoch 4330/15000\n40/40 - 1s - loss: 730.6328 - val_loss: 780.3319\nEpoch 4331/15000\n40/40 - 1s - loss: 729.0522 - val_loss: 793.2973\nEpoch 4332/15000\n40/40 - 1s - loss: 731.8837 - val_loss: 793.7091\nEpoch 4333/15000\n40/40 - 1s - loss: 726.7731 - val_loss: 786.2319\nEpoch 4334/15000\n40/40 - 1s - loss: 726.1358 - val_loss: 783.3145\nEpoch 4335/15000\n40/40 - 1s - loss: 725.7831 - val_loss: 790.7953\nEpoch 4336/15000\n40/40 - 1s - loss: 724.1670 - val_loss: 785.7716\nEpoch 4337/15000\n40/40 - 1s - loss: 731.4234 - val_loss: 790.4395\nEpoch 4338/15000\n40/40 - 1s - loss: 724.7315 - val_loss: 792.2282\nEpoch 4339/15000\n40/40 - 1s - loss: 724.3665 - val_loss: 789.4306\nEpoch 4340/15000\n40/40 - 1s - loss: 728.0991 - val_loss: 782.1090\nEpoch 4341/15000\n40/40 - 1s - loss: 729.2617 - val_loss: 791.2078\nEpoch 4342/15000\n40/40 - 1s - loss: 728.2559 - val_loss: 790.8831\nEpoch 4343/15000\n40/40 - 1s - loss: 738.5814 - val_loss: 787.2185\nEpoch 4344/15000\n40/40 - 1s - loss: 726.4215 - val_loss: 792.0345\nEpoch 4345/15000\n40/40 - 1s - loss: 725.5325 - val_loss: 785.7276\nEpoch 4346/15000\n40/40 - 1s - loss: 729.3270 - val_loss: 797.8870\nEpoch 4347/15000\n40/40 - 1s - loss: 731.7838 - val_loss: 798.8784\nEpoch 4348/15000\n40/40 - 1s - loss: 731.2205 - val_loss: 791.6729\nEpoch 4349/15000\n40/40 - 2s - loss: 727.6929 - val_loss: 785.4327\nEpoch 4350/15000\n40/40 - 1s - loss: 730.0043 - val_loss: 809.1888\nEpoch 4351/15000\n40/40 - 1s - loss: 729.4337 - val_loss: 792.5786\nEpoch 4352/15000\n40/40 - 1s - loss: 726.7418 - val_loss: 788.9409\nEpoch 4353/15000\n40/40 - 1s - loss: 730.4212 - val_loss: 790.8390\nEpoch 4354/15000\n40/40 - 1s - loss: 730.1938 - val_loss: 784.3749\nEpoch 4355/15000\n40/40 - 1s - loss: 729.9543 - val_loss: 789.0981\nEpoch 4356/15000\n40/40 - 1s - loss: 725.6476 - val_loss: 797.2686\nEpoch 4357/15000\n40/40 - 1s - loss: 729.1111 - val_loss: 791.1673\nEpoch 4358/15000\n40/40 - 1s - loss: 725.9193 - val_loss: 791.0274\nEpoch 4359/15000\n40/40 - 1s - loss: 724.2181 - val_loss: 784.7448\nEpoch 4360/15000\n40/40 - 1s - loss: 728.5162 - val_loss: 790.2024\nEpoch 4361/15000\n40/40 - 1s - loss: 728.6247 - val_loss: 789.9608\nEpoch 4362/15000\n40/40 - 1s - loss: 728.4817 - val_loss: 788.4988\nEpoch 4363/15000\n40/40 - 1s - loss: 732.8521 - val_loss: 787.9981\nEpoch 4364/15000\n40/40 - 1s - loss: 726.3586 - val_loss: 789.0622\nEpoch 4365/15000\n40/40 - 1s - loss: 725.3070 - val_loss: 793.4709\nEpoch 4366/15000\n40/40 - 1s - loss: 729.7572 - val_loss: 788.3686\nEpoch 4367/15000\n40/40 - 1s - loss: 735.4959 - val_loss: 791.4482\nEpoch 4368/15000\n40/40 - 1s - loss: 723.6067 - val_loss: 794.1332\nEpoch 4369/15000\n40/40 - 1s - loss: 755.8126 - val_loss: 801.7046\nEpoch 4370/15000\n40/40 - 1s - loss: 728.8672 - val_loss: 790.8452\nEpoch 4371/15000\n40/40 - 1s - loss: 726.9276 - val_loss: 788.3455\nEpoch 4372/15000\n40/40 - 1s - loss: 724.7877 - val_loss: 790.6049\nEpoch 4373/15000\n40/40 - 1s - loss: 724.2507 - val_loss: 789.4033\nEpoch 4374/15000\n40/40 - 1s - loss: 723.2792 - val_loss: 790.3123\nEpoch 4375/15000\n40/40 - 1s - loss: 728.8570 - val_loss: 789.0034\nEpoch 4376/15000\n40/40 - 1s - loss: 720.9854 - val_loss: 793.7562\nEpoch 4377/15000\n40/40 - 1s - loss: 726.6201 - val_loss: 791.3767\nEpoch 4378/15000\n40/40 - 1s - loss: 726.2305 - val_loss: 798.5809\nEpoch 4379/15000\n40/40 - 1s - loss: 724.0319 - val_loss: 786.3429\nEpoch 4380/15000\n40/40 - 1s - loss: 722.8011 - val_loss: 790.0774\nEpoch 4381/15000\n40/40 - 1s - loss: 724.4866 - val_loss: 783.8000\nEpoch 4382/15000\n40/40 - 1s - loss: 724.2659 - val_loss: 787.6555\nEpoch 4383/15000\n40/40 - 1s - loss: 721.2476 - val_loss: 790.9381\nEpoch 4384/15000\n40/40 - 1s - loss: 719.3033 - val_loss: 786.9086\nEpoch 4385/15000\n40/40 - 1s - loss: 732.4677 - val_loss: 793.3084\nEpoch 4386/15000\n40/40 - 1s - loss: 720.3788 - val_loss: 801.0781\nEpoch 4387/15000\n40/40 - 1s - loss: 721.8662 - val_loss: 793.4734\nEpoch 4388/15000\n40/40 - 1s - loss: 730.1583 - val_loss: 790.7165\nEpoch 4389/15000\n40/40 - 1s - loss: 725.5005 - val_loss: 790.8313\nEpoch 4390/15000\n40/40 - 1s - loss: 722.2349 - val_loss: 787.2045\nEpoch 4391/15000\n40/40 - 1s - loss: 723.3944 - val_loss: 793.7784\nEpoch 4392/15000\n40/40 - 1s - loss: 725.4911 - val_loss: 789.5969\nEpoch 4393/15000\n40/40 - 2s - loss: 723.2369 - val_loss: 798.2806\nEpoch 4394/15000\n40/40 - 2s - loss: 724.3341 - val_loss: 794.1277\nEpoch 4395/15000\n40/40 - 1s - loss: 726.5070 - val_loss: 786.9793\nEpoch 4396/15000\n40/40 - 1s - loss: 725.2792 - val_loss: 791.9857\nEpoch 4397/15000\n40/40 - 1s - loss: 723.3083 - val_loss: 801.8660\nEpoch 4398/15000\n40/40 - 1s - loss: 721.0294 - val_loss: 789.5205\nEpoch 4399/15000\n40/40 - 1s - loss: 721.3795 - val_loss: 792.4568\nEpoch 4400/15000\n40/40 - 1s - loss: 722.5667 - val_loss: 788.2457\nEpoch 4401/15000\n40/40 - 1s - loss: 727.6051 - val_loss: 799.9186\nEpoch 4402/15000\n40/40 - 1s - loss: 724.0710 - val_loss: 795.7803\nEpoch 4403/15000\n40/40 - 1s - loss: 724.0798 - val_loss: 793.3907\nEpoch 4404/15000\n40/40 - 1s - loss: 733.5680 - val_loss: 789.1001\nEpoch 4405/15000\n40/40 - 1s - loss: 726.8505 - val_loss: 795.2775\nEpoch 4406/15000\n40/40 - 1s - loss: 724.9059 - val_loss: 798.2543\nEpoch 4407/15000\n40/40 - 1s - loss: 725.7733 - val_loss: 794.1819\nEpoch 4408/15000\n40/40 - 1s - loss: 723.0752 - val_loss: 790.6155\nEpoch 4409/15000\n40/40 - 1s - loss: 720.8914 - val_loss: 790.7427\nEpoch 4410/15000\n40/40 - 1s - loss: 721.3778 - val_loss: 786.8436\nEpoch 4411/15000\n40/40 - 1s - loss: 720.6251 - val_loss: 794.1179\nEpoch 4412/15000\n40/40 - 1s - loss: 724.1930 - val_loss: 789.5164\nEpoch 4413/15000\n40/40 - 1s - loss: 720.6674 - val_loss: 791.6752\nEpoch 4414/15000\n40/40 - 1s - loss: 725.4436 - val_loss: 797.7759\nEpoch 4415/15000\n40/40 - 1s - loss: 727.3203 - val_loss: 792.2023\nEpoch 4416/15000\n40/40 - 1s - loss: 722.6324 - val_loss: 802.2518\nEpoch 4417/15000\n40/40 - 1s - loss: 727.7259 - val_loss: 796.7718\nEpoch 4418/15000\n40/40 - 1s - loss: 727.1591 - val_loss: 796.5242\nEpoch 4419/15000\n40/40 - 1s - loss: 723.8381 - val_loss: 791.8517\nEpoch 4420/15000\n40/40 - 1s - loss: 725.9924 - val_loss: 792.7968\nEpoch 4421/15000\n40/40 - 1s - loss: 718.2642 - val_loss: 795.8809\nEpoch 4422/15000\n40/40 - 1s - loss: 730.5194 - val_loss: 793.2637\nEpoch 4423/15000\n40/40 - 1s - loss: 722.6970 - val_loss: 796.5373\nEpoch 4424/15000\n40/40 - 1s - loss: 729.9177 - val_loss: 791.9032\nEpoch 4425/15000\n40/40 - 1s - loss: 726.0947 - val_loss: 790.3290\nEpoch 4426/15000\n40/40 - 1s - loss: 722.4485 - val_loss: 807.8452\nEpoch 4427/15000\n40/40 - 1s - loss: 725.4775 - val_loss: 797.4157\nEpoch 4428/15000\n40/40 - 1s - loss: 733.1113 - val_loss: 807.8351\nEpoch 4429/15000\n40/40 - 1s - loss: 737.0501 - val_loss: 790.1371\nEpoch 4430/15000\n40/40 - 1s - loss: 727.9409 - val_loss: 800.3639\nEpoch 4431/15000\n40/40 - 1s - loss: 721.2234 - val_loss: 798.4224\nEpoch 4432/15000\n40/40 - 1s - loss: 724.8355 - val_loss: 805.3058\nEpoch 4433/15000\n40/40 - 1s - loss: 721.1456 - val_loss: 794.8876\nEpoch 4434/15000\n40/40 - 1s - loss: 727.8707 - val_loss: 799.5334\nEpoch 4435/15000\n40/40 - 1s - loss: 725.8235 - val_loss: 789.8286\nEpoch 4436/15000\n40/40 - 1s - loss: 721.1913 - val_loss: 800.5672\nEpoch 4437/15000\n40/40 - 1s - loss: 720.5595 - val_loss: 793.9996\nEpoch 4438/15000\n40/40 - 1s - loss: 727.3038 - val_loss: 800.0134\nEpoch 4439/15000\n40/40 - 1s - loss: 724.7052 - val_loss: 794.1025\nEpoch 4440/15000\n40/40 - 1s - loss: 727.7855 - val_loss: 795.4245\nEpoch 4441/15000\n40/40 - 1s - loss: 724.7980 - val_loss: 807.3351\nEpoch 4442/15000\n40/40 - 1s - loss: 727.7468 - val_loss: 790.5377\nEpoch 4443/15000\n40/40 - 1s - loss: 728.0698 - val_loss: 791.7032\nEpoch 4444/15000\n40/40 - 1s - loss: 719.9800 - val_loss: 793.2753\nEpoch 4445/15000\n40/40 - 1s - loss: 719.7988 - val_loss: 791.2100\nEpoch 4446/15000\n40/40 - 1s - loss: 717.0076 - val_loss: 798.8922\nEpoch 4447/15000\n40/40 - 1s - loss: 721.7139 - val_loss: 795.1649\nEpoch 4448/15000\n40/40 - 2s - loss: 724.4021 - val_loss: 795.4539\nEpoch 4449/15000\n40/40 - 1s - loss: 731.3757 - val_loss: 798.6539\nEpoch 4450/15000\n40/40 - 1s - loss: 724.5880 - val_loss: 791.6467\nEpoch 4451/15000\n40/40 - 1s - loss: 721.2385 - val_loss: 788.7049\nEpoch 4452/15000\n40/40 - 1s - loss: 724.4987 - val_loss: 781.7365\nEpoch 4453/15000\n40/40 - 1s - loss: 724.3205 - val_loss: 801.5570\nEpoch 4454/15000\n40/40 - 1s - loss: 728.4970 - val_loss: 788.0380\nEpoch 4455/15000\n40/40 - 1s - loss: 723.0298 - val_loss: 794.6355\nEpoch 4456/15000\n40/40 - 1s - loss: 720.2531 - val_loss: 795.1403\nEpoch 4457/15000\n40/40 - 1s - loss: 726.3667 - val_loss: 793.3644\nEpoch 4458/15000\n40/40 - 1s - loss: 721.5229 - val_loss: 793.5163\nEpoch 4459/15000\n40/40 - 1s - loss: 725.6610 - val_loss: 797.0627\nEpoch 4460/15000\n40/40 - 1s - loss: 720.2971 - val_loss: 794.5368\nEpoch 4461/15000\n40/40 - 1s - loss: 717.9742 - val_loss: 803.9703\nEpoch 4462/15000\n40/40 - 1s - loss: 723.7035 - val_loss: 792.8399\nEpoch 4463/15000\n40/40 - 1s - loss: 723.1365 - val_loss: 796.5506\nEpoch 4464/15000\n40/40 - 1s - loss: 723.9254 - val_loss: 790.4001\nEpoch 4465/15000\n40/40 - 1s - loss: 721.1086 - val_loss: 789.6475\nEpoch 4466/15000\n40/40 - 1s - loss: 719.5688 - val_loss: 788.1138\nEpoch 4467/15000\n40/40 - 1s - loss: 723.1558 - val_loss: 796.8444\nEpoch 4468/15000\n40/40 - 1s - loss: 723.0868 - val_loss: 793.8446\nEpoch 4469/15000\n40/40 - 1s - loss: 727.4050 - val_loss: 791.0611\nEpoch 4470/15000\n40/40 - 1s - loss: 720.9910 - val_loss: 793.7520\nEpoch 4471/15000\n40/40 - 1s - loss: 723.2352 - val_loss: 790.6537\nEpoch 4472/15000\n40/40 - 1s - loss: 724.1825 - val_loss: 797.9373\nEpoch 4473/15000\n40/40 - 1s - loss: 723.9553 - val_loss: 797.8983\nEpoch 4474/15000\n40/40 - 1s - loss: 719.7276 - val_loss: 796.4196\nEpoch 4475/15000\n40/40 - 1s - loss: 714.0552 - val_loss: 789.7519\nEpoch 4476/15000\n40/40 - 1s - loss: 719.7239 - val_loss: 797.1437\nEpoch 4477/15000\n40/40 - 1s - loss: 721.0081 - val_loss: 794.7487\nEpoch 4478/15000\n40/40 - 1s - loss: 720.9357 - val_loss: 795.0667\nEpoch 4479/15000\n40/40 - 1s - loss: 721.2625 - val_loss: 795.9312\nEpoch 4480/15000\n40/40 - 1s - loss: 720.2181 - val_loss: 790.2538\nEpoch 4481/15000\n40/40 - 1s - loss: 717.5624 - val_loss: 791.3965\nEpoch 4482/15000\n40/40 - 1s - loss: 722.1968 - val_loss: 793.1398\nEpoch 4483/15000\n40/40 - 1s - loss: 732.2471 - val_loss: 800.1312\nEpoch 4484/15000\n40/40 - 1s - loss: 716.0406 - val_loss: 800.1427\nEpoch 4485/15000\n40/40 - 1s - loss: 724.9366 - val_loss: 798.2693\nEpoch 4486/15000\n40/40 - 1s - loss: 717.9577 - val_loss: 796.3370\nEpoch 4487/15000\n40/40 - 1s - loss: 720.1827 - val_loss: 797.6015\nEpoch 4488/15000\n40/40 - 1s - loss: 727.4319 - val_loss: 797.2952\nEpoch 4489/15000\n40/40 - 1s - loss: 720.3805 - val_loss: 793.7530\nEpoch 4490/15000\n40/40 - 1s - loss: 718.5676 - val_loss: 792.8875\nEpoch 4491/15000\n40/40 - 1s - loss: 721.4185 - val_loss: 799.5558\nEpoch 4492/15000\n40/40 - 1s - loss: 723.0302 - val_loss: 800.6591\nEpoch 4493/15000\n40/40 - 1s - loss: 725.2317 - val_loss: 792.1940\nEpoch 4494/15000\n40/40 - 1s - loss: 719.4557 - val_loss: 797.9997\nEpoch 4495/15000\n40/40 - 1s - loss: 719.2162 - val_loss: 803.8344\nEpoch 4496/15000\n40/40 - 1s - loss: 726.9209 - val_loss: 794.6024\nEpoch 4497/15000\n40/40 - 1s - loss: 717.4651 - val_loss: 793.9152\nEpoch 4498/15000\n40/40 - 2s - loss: 721.6753 - val_loss: 788.0069\nEpoch 4499/15000\n40/40 - 1s - loss: 720.5884 - val_loss: 803.2570\nEpoch 4500/15000\n40/40 - 1s - loss: 727.7953 - val_loss: 796.9057\nEpoch 4501/15000\n40/40 - 1s - loss: 720.3885 - val_loss: 794.4493\nEpoch 4502/15000\n40/40 - 1s - loss: 722.7641 - val_loss: 791.1519\nEpoch 4503/15000\n40/40 - 1s - loss: 728.8437 - val_loss: 796.7769\nEpoch 4504/15000\n40/40 - 2s - loss: 721.6258 - val_loss: 793.6077\nEpoch 4505/15000\n40/40 - 1s - loss: 722.5268 - val_loss: 795.1421\nEpoch 4506/15000\n40/40 - 1s - loss: 727.0284 - val_loss: 795.2234\nEpoch 4507/15000\n40/40 - 1s - loss: 723.2114 - val_loss: 796.9571\nEpoch 4508/15000\n40/40 - 1s - loss: 723.2798 - val_loss: 798.3743\nEpoch 4509/15000\n40/40 - 1s - loss: 725.0617 - val_loss: 794.7698\nEpoch 4510/15000\n40/40 - 1s - loss: 721.8796 - val_loss: 800.0996\nEpoch 4511/15000\n40/40 - 1s - loss: 718.1851 - val_loss: 805.1532\nEpoch 4512/15000\n40/40 - 1s - loss: 721.6534 - val_loss: 793.9033\nEpoch 4513/15000\n40/40 - 1s - loss: 729.1972 - val_loss: 797.4091\nEpoch 4514/15000\n40/40 - 1s - loss: 721.7049 - val_loss: 795.2029\nEpoch 4515/15000\n40/40 - 1s - loss: 715.4752 - val_loss: 799.7201\nEpoch 4516/15000\n40/40 - 1s - loss: 721.6141 - val_loss: 799.6043\nEpoch 4517/15000\n40/40 - 1s - loss: 729.1416 - val_loss: 820.0984\nEpoch 4518/15000\n40/40 - 1s - loss: 729.1356 - val_loss: 798.8130\nEpoch 4519/15000\n40/40 - 1s - loss: 722.1911 - val_loss: 799.0069\nEpoch 4520/15000\n40/40 - 1s - loss: 723.4235 - val_loss: 795.6847\nEpoch 4521/15000\n40/40 - 1s - loss: 720.2712 - val_loss: 794.2063\nEpoch 4522/15000\n40/40 - 1s - loss: 715.6442 - val_loss: 791.7730\nEpoch 4523/15000\n40/40 - 1s - loss: 717.2679 - val_loss: 795.3015\nEpoch 4524/15000\n40/40 - 1s - loss: 718.3803 - val_loss: 795.4629\nEpoch 4525/15000\n40/40 - 1s - loss: 716.4852 - val_loss: 797.4156\nEpoch 4526/15000\n40/40 - 1s - loss: 719.0569 - val_loss: 799.3426\nEpoch 4527/15000\n40/40 - 1s - loss: 724.0266 - val_loss: 798.3083\nEpoch 4528/15000\n40/40 - 1s - loss: 717.6794 - val_loss: 799.2159\nEpoch 4529/15000\n40/40 - 1s - loss: 720.3210 - val_loss: 791.8502\nEpoch 4530/15000\n40/40 - 1s - loss: 731.5493 - val_loss: 813.6281\nEpoch 4531/15000\n40/40 - 1s - loss: 717.2272 - val_loss: 801.7075\nEpoch 4532/15000\n40/40 - 1s - loss: 724.9034 - val_loss: 799.9539\nEpoch 4533/15000\n40/40 - 1s - loss: 718.9890 - val_loss: 793.4711\nEpoch 4534/15000\n40/40 - 1s - loss: 715.4824 - val_loss: 788.9576\nEpoch 4535/15000\n40/40 - 1s - loss: 718.8549 - val_loss: 803.6998\nEpoch 4536/15000\n40/40 - 1s - loss: 719.5782 - val_loss: 798.9503\nEpoch 4537/15000\n40/40 - 1s - loss: 724.2400 - val_loss: 806.0364\nEpoch 4538/15000\n40/40 - 1s - loss: 717.3707 - val_loss: 799.5448\nEpoch 4539/15000\n40/40 - 1s - loss: 723.8566 - val_loss: 798.0328\nEpoch 4540/15000\n40/40 - 1s - loss: 723.2179 - val_loss: 790.6101\nEpoch 4541/15000\n40/40 - 1s - loss: 721.3155 - val_loss: 805.8533\nEpoch 4542/15000\n40/40 - 1s - loss: 718.4646 - val_loss: 797.2953\nEpoch 4543/15000\n40/40 - 1s - loss: 713.3102 - val_loss: 795.5267\nEpoch 4544/15000\n40/40 - 1s - loss: 715.3708 - val_loss: 804.5908\nEpoch 4545/15000\n40/40 - 1s - loss: 728.2710 - val_loss: 798.0057\nEpoch 4546/15000\n40/40 - 1s - loss: 716.5657 - val_loss: 795.2090\nEpoch 4547/15000\n40/40 - 1s - loss: 725.0617 - val_loss: 795.8718\nEpoch 4548/15000\n40/40 - 1s - loss: 717.0502 - val_loss: 808.9763\nEpoch 4549/15000\n40/40 - 1s - loss: 719.0178 - val_loss: 802.8429\nEpoch 4550/15000\n40/40 - 1s - loss: 717.7827 - val_loss: 795.3551\nEpoch 4551/15000\n40/40 - 1s - loss: 719.6382 - val_loss: 796.6852\nEpoch 4552/15000\n40/40 - 1s - loss: 718.4800 - val_loss: 799.2879\nEpoch 4553/15000\n40/40 - 1s - loss: 715.2619 - val_loss: 800.3248\nEpoch 4554/15000\n40/40 - 1s - loss: 715.3408 - val_loss: 799.2657\nEpoch 4555/15000\n40/40 - 1s - loss: 715.1546 - val_loss: 814.7372\nEpoch 4556/15000\n40/40 - 1s - loss: 727.8967 - val_loss: 803.7381\nEpoch 4557/15000\n40/40 - 1s - loss: 714.8817 - val_loss: 799.4172\nEpoch 4558/15000\n40/40 - 1s - loss: 717.4670 - val_loss: 804.5521\nEpoch 4559/15000\n40/40 - 1s - loss: 714.9821 - val_loss: 800.1899\nEpoch 4560/15000\n40/40 - 1s - loss: 725.0062 - val_loss: 806.9934\nEpoch 4561/15000\n40/40 - 1s - loss: 725.6900 - val_loss: 797.2298\nEpoch 4562/15000\n40/40 - 1s - loss: 721.8122 - val_loss: 796.1965\nEpoch 4563/15000\n40/40 - 1s - loss: 720.2549 - val_loss: 793.6804\nEpoch 4564/15000\n40/40 - 1s - loss: 722.1531 - val_loss: 795.7095\nEpoch 4565/15000\n40/40 - 1s - loss: 718.5298 - val_loss: 790.7885\nEpoch 4566/15000\n40/40 - 1s - loss: 720.5867 - val_loss: 798.9673\nEpoch 4567/15000\n40/40 - 1s - loss: 711.1199 - val_loss: 791.4005\nEpoch 4568/15000\n40/40 - 1s - loss: 721.0141 - val_loss: 789.6883\nEpoch 4569/15000\n40/40 - 1s - loss: 725.9373 - val_loss: 805.4712\nEpoch 4570/15000\n40/40 - 1s - loss: 736.4513 - val_loss: 800.4769\nEpoch 4571/15000\n40/40 - 1s - loss: 719.3612 - val_loss: 796.7962\nEpoch 4572/15000\n40/40 - 1s - loss: 717.0537 - val_loss: 806.3527\nEpoch 4573/15000\n40/40 - 1s - loss: 719.2759 - val_loss: 798.9187\nEpoch 4574/15000\n40/40 - 1s - loss: 715.9985 - val_loss: 808.3021\nEpoch 4575/15000\n40/40 - 1s - loss: 721.2971 - val_loss: 805.4610\nEpoch 4576/15000\n40/40 - 1s - loss: 719.3924 - val_loss: 795.8818\nEpoch 4577/15000\n40/40 - 1s - loss: 723.6505 - val_loss: 796.4553\nEpoch 4578/15000\n40/40 - 1s - loss: 727.4834 - val_loss: 810.3301\nEpoch 4579/15000\n40/40 - 1s - loss: 725.5720 - val_loss: 813.0087\nEpoch 4580/15000\n40/40 - 1s - loss: 719.2097 - val_loss: 795.3394\nEpoch 4581/15000\n40/40 - 1s - loss: 715.8187 - val_loss: 792.3773\nEpoch 4582/15000\n40/40 - 1s - loss: 720.4960 - val_loss: 797.1531\nEpoch 4583/15000\n40/40 - 1s - loss: 714.8666 - val_loss: 801.0494\nEpoch 4584/15000\n40/40 - 1s - loss: 717.6685 - val_loss: 798.5020\nEpoch 4585/15000\n40/40 - 1s - loss: 719.0696 - val_loss: 805.9383\nEpoch 4586/15000\n40/40 - 1s - loss: 720.7057 - val_loss: 798.3735\nEpoch 4587/15000\n40/40 - 1s - loss: 718.5824 - val_loss: 792.7949\nEpoch 4588/15000\n40/40 - 1s - loss: 723.6518 - val_loss: 790.3669\nEpoch 4589/15000\n40/40 - 1s - loss: 722.1804 - val_loss: 796.3498\nEpoch 4590/15000\n40/40 - 1s - loss: 718.4851 - val_loss: 802.1000\nEpoch 4591/15000\n40/40 - 1s - loss: 720.2718 - val_loss: 792.2860\nEpoch 4592/15000\n40/40 - 1s - loss: 716.1761 - val_loss: 807.7863\nEpoch 4593/15000\n40/40 - 1s - loss: 717.2050 - val_loss: 805.3128\nEpoch 4594/15000\n40/40 - 1s - loss: 714.0111 - val_loss: 800.2062\nEpoch 4595/15000\n40/40 - 1s - loss: 712.1682 - val_loss: 799.0659\nEpoch 4596/15000\n40/40 - 1s - loss: 714.0997 - val_loss: 793.7372\nEpoch 4597/15000\n40/40 - 1s - loss: 726.3019 - val_loss: 791.9671\nEpoch 4598/15000\n40/40 - 1s - loss: 719.7938 - val_loss: 802.3364\nEpoch 4599/15000\n40/40 - 2s - loss: 719.2150 - val_loss: 795.3182\nEpoch 4600/15000\n40/40 - 1s - loss: 716.5282 - val_loss: 800.2160\nEpoch 4601/15000\n40/40 - 1s - loss: 722.5196 - val_loss: 790.0746\nEpoch 4602/15000\n40/40 - 1s - loss: 716.0402 - val_loss: 801.7179\nEpoch 4603/15000\n40/40 - 1s - loss: 718.2250 - val_loss: 800.7896\nEpoch 4604/15000\n40/40 - 1s - loss: 716.3788 - val_loss: 797.2778\nEpoch 4605/15000\n40/40 - 1s - loss: 720.4677 - val_loss: 800.8416\nEpoch 4606/15000\n40/40 - 1s - loss: 716.7498 - val_loss: 803.4016\nEpoch 4607/15000\n40/40 - 1s - loss: 714.9328 - val_loss: 805.1689\nEpoch 4608/15000\n40/40 - 1s - loss: 714.4885 - val_loss: 799.1343\nEpoch 4609/15000\n40/40 - 1s - loss: 710.9620 - val_loss: 795.7905\nEpoch 4610/15000\n40/40 - 1s - loss: 715.1010 - val_loss: 795.0593\nEpoch 4611/15000\n40/40 - 1s - loss: 715.8781 - val_loss: 793.2443\nEpoch 4612/15000\n40/40 - 1s - loss: 716.7662 - val_loss: 800.4539\nEpoch 4613/15000\n40/40 - 1s - loss: 715.8286 - val_loss: 792.0154\nEpoch 4614/15000\n40/40 - 1s - loss: 713.1699 - val_loss: 797.3278\nEpoch 4615/15000\n40/40 - 1s - loss: 714.7955 - val_loss: 802.5167\nEpoch 4616/15000\n40/40 - 1s - loss: 720.8246 - val_loss: 794.9763\nEpoch 4617/15000\n40/40 - 1s - loss: 711.8891 - val_loss: 800.4113\nEpoch 4618/15000\n40/40 - 1s - loss: 713.6221 - val_loss: 803.7939\nEpoch 4619/15000\n40/40 - 1s - loss: 715.0415 - val_loss: 797.7119\nEpoch 4620/15000\n40/40 - 1s - loss: 713.5205 - val_loss: 796.2890\nEpoch 4621/15000\n40/40 - 1s - loss: 715.2588 - val_loss: 805.3619\nEpoch 4622/15000\n40/40 - 1s - loss: 718.3792 - val_loss: 796.6053\nEpoch 4623/15000\n40/40 - 1s - loss: 718.3590 - val_loss: 809.6691\nEpoch 4624/15000\n40/40 - 1s - loss: 719.5558 - val_loss: 805.5511\nEpoch 4625/15000\n40/40 - 1s - loss: 716.9583 - val_loss: 799.8334\nEpoch 4626/15000\n40/40 - 1s - loss: 720.1371 - val_loss: 794.9235\nEpoch 4627/15000\n40/40 - 1s - loss: 718.1987 - val_loss: 810.4207\nEpoch 4628/15000\n40/40 - 1s - loss: 716.4941 - val_loss: 807.6821\nEpoch 4629/15000\n40/40 - 1s - loss: 713.1090 - val_loss: 804.4523\nEpoch 4630/15000\n40/40 - 1s - loss: 716.1306 - val_loss: 801.0613\nEpoch 4631/15000\n40/40 - 1s - loss: 711.9286 - val_loss: 799.6048\nEpoch 4632/15000\n40/40 - 1s - loss: 714.0131 - val_loss: 808.3065\nEpoch 4633/15000\n40/40 - 1s - loss: 716.4840 - val_loss: 802.3866\nEpoch 4634/15000\n40/40 - 1s - loss: 710.6234 - val_loss: 811.7549\nEpoch 4635/15000\n40/40 - 1s - loss: 710.0701 - val_loss: 800.1831\nEpoch 4636/15000\n40/40 - 1s - loss: 713.8517 - val_loss: 799.0503\nEpoch 4637/15000\n40/40 - 1s - loss: 714.4991 - val_loss: 798.3566\nEpoch 4638/15000\n40/40 - 1s - loss: 712.8470 - val_loss: 800.8665\nEpoch 4639/15000\n40/40 - 1s - loss: 713.4373 - val_loss: 794.5222\nEpoch 4640/15000\n40/40 - 1s - loss: 711.6304 - val_loss: 802.4042\nEpoch 4641/15000\n40/40 - 1s - loss: 711.2642 - val_loss: 799.2560\nEpoch 4642/15000\n40/40 - 1s - loss: 720.9918 - val_loss: 791.6927\nEpoch 4643/15000\n40/40 - 1s - loss: 707.9260 - val_loss: 800.9371\nEpoch 4644/15000\n40/40 - 1s - loss: 709.2503 - val_loss: 796.7818\nEpoch 4645/15000\n40/40 - 1s - loss: 713.0515 - val_loss: 809.7726\nEpoch 4646/15000\n40/40 - 1s - loss: 714.5575 - val_loss: 806.6091\nEpoch 4647/15000\n40/40 - 1s - loss: 712.1883 - val_loss: 801.4308\nEpoch 4648/15000\n40/40 - 1s - loss: 708.5844 - val_loss: 804.7603\nEpoch 4649/15000\n40/40 - 2s - loss: 718.3933 - val_loss: 795.0231\nEpoch 4650/15000\n40/40 - 1s - loss: 720.0112 - val_loss: 802.6709\nEpoch 4651/15000\n40/40 - 1s - loss: 712.6932 - val_loss: 805.1099\nEpoch 4652/15000\n40/40 - 1s - loss: 718.5089 - val_loss: 797.0750\nEpoch 4653/15000\n40/40 - 1s - loss: 718.5536 - val_loss: 800.3146\nEpoch 4654/15000\n40/40 - 1s - loss: 712.9338 - val_loss: 808.5275\nEpoch 4655/15000\n40/40 - 1s - loss: 712.7125 - val_loss: 808.5693\nEpoch 4656/15000\n40/40 - 1s - loss: 720.5180 - val_loss: 799.9971\nEpoch 4657/15000\n40/40 - 1s - loss: 711.0089 - val_loss: 805.4249\nEpoch 4658/15000\n40/40 - 1s - loss: 711.4774 - val_loss: 804.9923\nEpoch 4659/15000\n40/40 - 1s - loss: 722.2270 - val_loss: 820.9133\nEpoch 4660/15000\n40/40 - 1s - loss: 715.6320 - val_loss: 826.0208\nEpoch 4661/15000\n40/40 - 1s - loss: 720.0307 - val_loss: 809.9242\nEpoch 4662/15000\n40/40 - 1s - loss: 713.7287 - val_loss: 803.6752\nEpoch 4663/15000\n40/40 - 1s - loss: 709.4691 - val_loss: 801.5353\nEpoch 4664/15000\n40/40 - 1s - loss: 714.2445 - val_loss: 817.7691\nEpoch 4665/15000\n40/40 - 1s - loss: 712.3930 - val_loss: 809.7059\nEpoch 4666/15000\n40/40 - 1s - loss: 714.0778 - val_loss: 800.2987\nEpoch 4667/15000\n40/40 - 1s - loss: 715.1321 - val_loss: 791.5032\nEpoch 4668/15000\n40/40 - 1s - loss: 710.6392 - val_loss: 798.0126\nEpoch 4669/15000\n40/40 - 1s - loss: 713.7091 - val_loss: 801.5784\nEpoch 4670/15000\n40/40 - 1s - loss: 717.3163 - val_loss: 803.7912\nEpoch 4671/15000\n40/40 - 1s - loss: 716.2455 - val_loss: 798.4851\nEpoch 4672/15000\n40/40 - 1s - loss: 718.2624 - val_loss: 800.0780\nEpoch 4673/15000\n40/40 - 1s - loss: 715.7767 - val_loss: 805.3438\nEpoch 4674/15000\n40/40 - 1s - loss: 718.5085 - val_loss: 806.1219\nEpoch 4675/15000\n40/40 - 1s - loss: 723.8811 - val_loss: 811.1948\nEpoch 4676/15000\n40/40 - 1s - loss: 712.8175 - val_loss: 808.3687\nEpoch 4677/15000\n40/40 - 1s - loss: 716.0334 - val_loss: 813.0657\nEpoch 4678/15000\n40/40 - 1s - loss: 715.8549 - val_loss: 796.1160\nEpoch 4679/15000\n40/40 - 1s - loss: 708.8705 - val_loss: 815.8091\nEpoch 4680/15000\n40/40 - 1s - loss: 714.6110 - val_loss: 812.3271\nEpoch 4681/15000\n40/40 - 1s - loss: 713.1663 - val_loss: 802.8004\nEpoch 4682/15000\n40/40 - 1s - loss: 715.1861 - val_loss: 798.1480\nEpoch 4683/15000\n40/40 - 1s - loss: 710.0005 - val_loss: 809.5460\nEpoch 4684/15000\n40/40 - 1s - loss: 719.2483 - val_loss: 811.7581\nEpoch 4685/15000\n40/40 - 1s - loss: 707.8390 - val_loss: 800.8168\nEpoch 4686/15000\n40/40 - 1s - loss: 712.4482 - val_loss: 806.1917\nEpoch 4687/15000\n40/40 - 1s - loss: 714.6890 - val_loss: 802.3088\nEpoch 4688/15000\n40/40 - 1s - loss: 712.2391 - val_loss: 803.9120\nEpoch 4689/15000\n40/40 - 1s - loss: 713.6652 - val_loss: 794.0511\nEpoch 4690/15000\n40/40 - 1s - loss: 716.3767 - val_loss: 799.8732\nEpoch 4691/15000\n40/40 - 1s - loss: 706.7098 - val_loss: 807.3641\nEpoch 4692/15000\n40/40 - 1s - loss: 709.6124 - val_loss: 802.5667\nEpoch 4693/15000\n40/40 - 1s - loss: 708.5317 - val_loss: 822.4136\nEpoch 4694/15000\n40/40 - 1s - loss: 709.5018 - val_loss: 805.3593\nEpoch 4695/15000\n40/40 - 1s - loss: 716.0840 - val_loss: 808.1183\nEpoch 4696/15000\n40/40 - 1s - loss: 716.0815 - val_loss: 795.3769\nEpoch 4697/15000\n40/40 - 1s - loss: 709.6397 - val_loss: 811.5305\nEpoch 4698/15000\n40/40 - 1s - loss: 711.2906 - val_loss: 804.8001\nEpoch 4699/15000\n40/40 - 2s - loss: 706.4421 - val_loss: 801.1536\nEpoch 4700/15000\n40/40 - 1s - loss: 713.6063 - val_loss: 803.0766\nEpoch 4701/15000\n40/40 - 1s - loss: 705.9318 - val_loss: 817.9294\nEpoch 4702/15000\n40/40 - 1s - loss: 716.7789 - val_loss: 809.1098\nEpoch 4703/15000\n40/40 - 1s - loss: 706.6267 - val_loss: 812.6686\nEpoch 4704/15000\n40/40 - 1s - loss: 706.6451 - val_loss: 805.6655\nEpoch 4705/15000\n40/40 - 1s - loss: 710.3650 - val_loss: 804.4874\nEpoch 4706/15000\n40/40 - 1s - loss: 711.2945 - val_loss: 798.3522\nEpoch 4707/15000\n40/40 - 1s - loss: 716.2951 - val_loss: 804.1320\nEpoch 4708/15000\n40/40 - 1s - loss: 706.6953 - val_loss: 795.0204\nEpoch 4709/15000\n40/40 - 1s - loss: 723.2944 - val_loss: 803.1689\nEpoch 4710/15000\n40/40 - 1s - loss: 706.4277 - val_loss: 810.9308\nEpoch 4711/15000\n40/40 - 1s - loss: 705.0146 - val_loss: 802.3910\nEpoch 4712/15000\n40/40 - 1s - loss: 705.8443 - val_loss: 811.8971\nEpoch 4713/15000\n40/40 - 1s - loss: 707.6349 - val_loss: 805.8185\nEpoch 4714/15000\n40/40 - 1s - loss: 704.6827 - val_loss: 800.8915\nEpoch 4715/15000\n40/40 - 1s - loss: 703.5633 - val_loss: 812.8907\nEpoch 4716/15000\n40/40 - 1s - loss: 708.2202 - val_loss: 815.6424\nEpoch 4717/15000\n40/40 - 1s - loss: 709.2639 - val_loss: 807.5655\nEpoch 4718/15000\n40/40 - 1s - loss: 712.4186 - val_loss: 802.4584\nEpoch 4719/15000\n40/40 - 1s - loss: 719.4134 - val_loss: 801.3829\nEpoch 4720/15000\n40/40 - 1s - loss: 721.6057 - val_loss: 801.0417\nEpoch 4721/15000\n40/40 - 1s - loss: 714.6319 - val_loss: 805.1003\nEpoch 4722/15000\n40/40 - 1s - loss: 713.8145 - val_loss: 806.5129\nEpoch 4723/15000\n40/40 - 1s - loss: 712.4914 - val_loss: 804.2389\nEpoch 4724/15000\n40/40 - 1s - loss: 711.3570 - val_loss: 812.0040\nEpoch 4725/15000\n40/40 - 1s - loss: 711.6685 - val_loss: 809.5698\nEpoch 4726/15000\n40/40 - 1s - loss: 710.0241 - val_loss: 806.9773\nEpoch 4727/15000\n40/40 - 1s - loss: 703.1939 - val_loss: 809.6241\nEpoch 4728/15000\n40/40 - 1s - loss: 708.0270 - val_loss: 810.6036\nEpoch 4729/15000\n40/40 - 1s - loss: 706.5862 - val_loss: 835.5845\nEpoch 4730/15000\n40/40 - 1s - loss: 710.5585 - val_loss: 810.6183\nEpoch 4731/15000\n40/40 - 1s - loss: 703.1440 - val_loss: 814.6593\nEpoch 4732/15000\n40/40 - 1s - loss: 718.3369 - val_loss: 807.1921\nEpoch 4733/15000\n40/40 - 1s - loss: 708.6849 - val_loss: 812.3333\nEpoch 4734/15000\n40/40 - 1s - loss: 710.2754 - val_loss: 806.3978\nEpoch 4735/15000\n40/40 - 1s - loss: 706.9842 - val_loss: 807.6876\nEpoch 4736/15000\n40/40 - 1s - loss: 710.0558 - val_loss: 806.3065\nEpoch 4737/15000\n40/40 - 1s - loss: 708.6656 - val_loss: 815.2435\nEpoch 4738/15000\n40/40 - 1s - loss: 708.8609 - val_loss: 805.3483\nEpoch 4739/15000\n40/40 - 1s - loss: 708.5782 - val_loss: 815.0679\nEpoch 4740/15000\n40/40 - 1s - loss: 702.5381 - val_loss: 806.3021\nEpoch 4741/15000\n40/40 - 1s - loss: 706.0130 - val_loss: 808.8174\nEpoch 4742/15000\n40/40 - 1s - loss: 710.4338 - val_loss: 825.9462\nEpoch 4743/15000\n40/40 - 1s - loss: 711.8457 - val_loss: 804.0830\nEpoch 4744/15000\n40/40 - 1s - loss: 708.5150 - val_loss: 811.1579\nEpoch 4745/15000\n40/40 - 1s - loss: 715.7902 - val_loss: 807.2495\nEpoch 4746/15000\n40/40 - 1s - loss: 700.8631 - val_loss: 819.6884\nEpoch 4747/15000\n40/40 - 1s - loss: 705.5455 - val_loss: 814.5971\nEpoch 4748/15000\n40/40 - 1s - loss: 706.2476 - val_loss: 826.3882\nEpoch 4749/15000\n40/40 - 2s - loss: 714.5899 - val_loss: 801.7428\nEpoch 4750/15000\n40/40 - 1s - loss: 716.4691 - val_loss: 798.7159\nEpoch 4751/15000\n40/40 - 1s - loss: 710.9844 - val_loss: 804.5684\nEpoch 4752/15000\n40/40 - 1s - loss: 704.3760 - val_loss: 806.4681\nEpoch 4753/15000\n40/40 - 1s - loss: 710.3893 - val_loss: 803.0618\nEpoch 4754/15000\n40/40 - 1s - loss: 712.4567 - val_loss: 809.7059\nEpoch 4755/15000\n40/40 - 1s - loss: 705.9615 - val_loss: 803.0887\nEpoch 4756/15000\n40/40 - 1s - loss: 702.8654 - val_loss: 808.1934\nEpoch 4757/15000\n40/40 - 1s - loss: 712.5547 - val_loss: 807.1155\nEpoch 4758/15000\n40/40 - 1s - loss: 717.4816 - val_loss: 818.5941\nEpoch 4759/15000\n40/40 - 1s - loss: 706.1042 - val_loss: 808.8614\nEpoch 4760/15000\n40/40 - 1s - loss: 704.9340 - val_loss: 819.8259\nEpoch 4761/15000\n40/40 - 1s - loss: 705.0784 - val_loss: 808.0516\nEpoch 4762/15000\n40/40 - 1s - loss: 706.0972 - val_loss: 808.8740\nEpoch 4763/15000\n40/40 - 1s - loss: 705.2341 - val_loss: 801.9855\nEpoch 4764/15000\n40/40 - 1s - loss: 707.1417 - val_loss: 817.1591\nEpoch 4765/15000\n40/40 - 1s - loss: 701.9561 - val_loss: 817.2841\nEpoch 4766/15000\n40/40 - 1s - loss: 703.1255 - val_loss: 804.2348\nEpoch 4767/15000\n40/40 - 1s - loss: 707.3124 - val_loss: 809.1768\nEpoch 4768/15000\n40/40 - 1s - loss: 710.9631 - val_loss: 803.2180\nEpoch 4769/15000\n40/40 - 1s - loss: 702.3726 - val_loss: 805.0348\nEpoch 4770/15000\n40/40 - 1s - loss: 702.1509 - val_loss: 805.2749\nEpoch 4771/15000\n40/40 - 1s - loss: 703.4296 - val_loss: 806.6288\nEpoch 4772/15000\n40/40 - 1s - loss: 699.8897 - val_loss: 818.4954\nEpoch 4773/15000\n40/40 - 1s - loss: 703.6613 - val_loss: 813.8250\nEpoch 4774/15000\n40/40 - 1s - loss: 701.0733 - val_loss: 809.2059\nEpoch 4775/15000\n40/40 - 1s - loss: 711.3074 - val_loss: 800.5526\nEpoch 4776/15000\n40/40 - 1s - loss: 704.1639 - val_loss: 822.0475\nEpoch 4777/15000\n40/40 - 1s - loss: 701.5509 - val_loss: 820.8069\nEpoch 4778/15000\n40/40 - 1s - loss: 710.2841 - val_loss: 821.8879\nEpoch 4779/15000\n",
     "output_type": "stream",
     "data": {}
    },
    {
     "name": "stdout",
     "text": "40/40 - 2s - loss: 398.0682 - val_loss: 988.3718\nEpoch 8079/15000\n40/40 - 2s - loss: 415.8298 - val_loss: 966.1806\nEpoch 8080/15000\n40/40 - 2s - loss: 391.0381 - val_loss: 972.9728\nEpoch 8081/15000\n40/40 - 2s - loss: 404.9000 - val_loss: 964.6006\nEpoch 8082/15000\n40/40 - 2s - loss: 397.9978 - val_loss: 967.2459\nEpoch 8083/15000\n40/40 - 2s - loss: 413.7528 - val_loss: 967.8547\nEpoch 8084/15000\n40/40 - 2s - loss: 406.8218 - val_loss: 959.0557\nEpoch 8085/15000\n40/40 - 2s - loss: 419.4133 - val_loss: 952.0476\nEpoch 8086/15000\n40/40 - 2s - loss: 412.1259 - val_loss: 1002.1694\nEpoch 8087/15000\n40/40 - 2s - loss: 414.9412 - val_loss: 971.3881\nEpoch 8088/15000\n40/40 - 2s - loss: 415.6730 - val_loss: 963.6499\nEpoch 8089/15000\n40/40 - 2s - loss: 402.9960 - val_loss: 972.9897\nEpoch 8090/15000\n40/40 - 2s - loss: 389.5109 - val_loss: 958.7627\nEpoch 8091/15000\n40/40 - 2s - loss: 392.3709 - val_loss: 955.0626\nEpoch 8092/15000\n40/40 - 2s - loss: 416.5315 - val_loss: 977.4545\nEpoch 8093/15000\n40/40 - 2s - loss: 406.0394 - val_loss: 963.3716\nEpoch 8094/15000\n40/40 - 1s - loss: 402.2456 - val_loss: 962.2875\nEpoch 8095/15000\n40/40 - 1s - loss: 414.1298 - val_loss: 949.7007\nEpoch 8096/15000\n40/40 - 2s - loss: 408.6624 - val_loss: 962.1846\nEpoch 8097/15000\n40/40 - 2s - loss: 400.1404 - val_loss: 974.0961\nEpoch 8098/15000\n40/40 - 2s - loss: 412.3294 - val_loss: 951.4927\nEpoch 8099/15000\n40/40 - 2s - loss: 397.5756 - val_loss: 979.3132\nEpoch 8100/15000\n40/40 - 2s - loss: 406.9992 - val_loss: 969.3495\nEpoch 8101/15000\n40/40 - 2s - loss: 393.3887 - val_loss: 1006.0835\nEpoch 8102/15000\n40/40 - 2s - loss: 407.3188 - val_loss: 955.6949\nEpoch 8103/15000\n40/40 - 2s - loss: 394.4243 - val_loss: 970.2410\nEpoch 8104/15000\n40/40 - 2s - loss: 411.5442 - val_loss: 969.7519\nEpoch 8105/15000\n40/40 - 2s - loss: 399.8472 - val_loss: 957.9504\nEpoch 8106/15000\n40/40 - 2s - loss: 401.6178 - val_loss: 984.9913\nEpoch 8107/15000\n40/40 - 2s - loss: 408.1643 - val_loss: 958.7595\nEpoch 8108/15000\n40/40 - 2s - loss: 392.7047 - val_loss: 964.0571\nEpoch 8109/15000\n40/40 - 2s - loss: 394.6999 - val_loss: 973.4836\nEpoch 8110/15000\n40/40 - 2s - loss: 393.8672 - val_loss: 962.8536\nEpoch 8111/15000\n40/40 - 2s - loss: 401.6773 - val_loss: 982.3132\nEpoch 8112/15000\n40/40 - 2s - loss: 412.6327 - val_loss: 965.3037\nEpoch 8113/15000\n40/40 - 2s - loss: 400.5344 - val_loss: 972.4861\nEpoch 8114/15000\n40/40 - 2s - loss: 423.5349 - val_loss: 989.2844\nEpoch 8115/15000\n40/40 - 2s - loss: 403.8279 - val_loss: 973.8674\nEpoch 8116/15000\n40/40 - 2s - loss: 396.2103 - val_loss: 963.7402\nEpoch 8117/15000\n40/40 - 2s - loss: 404.0267 - val_loss: 967.0999\nEpoch 8118/15000\n40/40 - 2s - loss: 384.4610 - val_loss: 969.0874\nEpoch 8119/15000\n40/40 - 2s - loss: 386.1039 - val_loss: 965.5536\nEpoch 8120/15000\n40/40 - 2s - loss: 399.2614 - val_loss: 967.5388\nEpoch 8121/15000\n40/40 - 2s - loss: 421.4900 - val_loss: 959.4247\nEpoch 8122/15000\n40/40 - 2s - loss: 431.6552 - val_loss: 978.0538\nEpoch 8123/15000\n40/40 - 2s - loss: 428.2847 - val_loss: 960.9188\nEpoch 8124/15000\n40/40 - 2s - loss: 410.6704 - val_loss: 969.8201\nEpoch 8125/15000\n40/40 - 2s - loss: 404.7964 - val_loss: 971.9082\nEpoch 8126/15000\n40/40 - 2s - loss: 396.0468 - val_loss: 978.6619\nEpoch 8127/15000\n40/40 - 2s - loss: 403.8407 - val_loss: 976.3558\nEpoch 8128/15000\n40/40 - 2s - loss: 394.2410 - val_loss: 975.7613\nEpoch 8129/15000\n40/40 - 2s - loss: 405.2981 - val_loss: 961.7106\nEpoch 8130/15000\n40/40 - 2s - loss: 396.7211 - val_loss: 967.3657\nEpoch 8131/15000\n40/40 - 2s - loss: 414.1955 - val_loss: 963.9566\nEpoch 8132/15000\n40/40 - 2s - loss: 401.1504 - val_loss: 969.4172\nEpoch 8133/15000\n40/40 - 2s - loss: 406.9547 - val_loss: 968.5649\nEpoch 8134/15000\n40/40 - 2s - loss: 399.7471 - val_loss: 964.2403\nEpoch 8135/15000\n40/40 - 2s - loss: 397.2698 - val_loss: 973.0814\nEpoch 8136/15000\n40/40 - 2s - loss: 396.7297 - val_loss: 961.6588\nEpoch 8137/15000\n40/40 - 2s - loss: 402.6025 - val_loss: 965.9809\nEpoch 8138/15000\n40/40 - 1s - loss: 404.5427 - val_loss: 970.2686\nEpoch 8139/15000\n40/40 - 2s - loss: 411.9828 - val_loss: 963.6186\nEpoch 8140/15000\n40/40 - 2s - loss: 408.7145 - val_loss: 953.4173\nEpoch 8141/15000\n40/40 - 2s - loss: 407.4814 - val_loss: 975.6777\nEpoch 8142/15000\n40/40 - 2s - loss: 383.9035 - val_loss: 983.7849\nEpoch 8143/15000\n40/40 - 2s - loss: 411.6212 - val_loss: 978.9664\nEpoch 8144/15000\n40/40 - 2s - loss: 399.5935 - val_loss: 962.4729\nEpoch 8145/15000\n40/40 - 2s - loss: 393.5402 - val_loss: 961.4093\nEpoch 8146/15000\n40/40 - 2s - loss: 411.0117 - val_loss: 994.0002\nEpoch 8147/15000\n40/40 - 2s - loss: 410.6609 - val_loss: 948.1326\nEpoch 8148/15000\n40/40 - 2s - loss: 405.6341 - val_loss: 957.1593\nEpoch 8149/15000\n40/40 - 2s - loss: 396.3672 - val_loss: 959.9368\nEpoch 8150/15000\n40/40 - 1s - loss: 405.7478 - val_loss: 967.2379\nEpoch 8151/15000\n40/40 - 2s - loss: 391.0585 - val_loss: 967.7519\nEpoch 8152/15000\n40/40 - 2s - loss: 390.2306 - val_loss: 954.6183\nEpoch 8153/15000\n40/40 - 2s - loss: 400.3571 - val_loss: 986.7111\nEpoch 8154/15000\n40/40 - 1s - loss: 400.3575 - val_loss: 1002.2742\nEpoch 8155/15000\n40/40 - 2s - loss: 416.8901 - val_loss: 959.4574\nEpoch 8156/15000\n40/40 - 1s - loss: 403.4626 - val_loss: 985.9462\nEpoch 8157/15000\n40/40 - 2s - loss: 431.5201 - val_loss: 988.6381\nEpoch 8158/15000\n40/40 - 2s - loss: 446.7292 - val_loss: 977.7812\nEpoch 8159/15000\n40/40 - 2s - loss: 398.0087 - val_loss: 986.4354\nEpoch 8160/15000\n40/40 - 2s - loss: 409.9402 - val_loss: 971.1356\nEpoch 8161/15000\n40/40 - 2s - loss: 390.8766 - val_loss: 980.7498\nEpoch 8162/15000\n40/40 - 2s - loss: 401.7016 - val_loss: 969.3775\nEpoch 8163/15000\n40/40 - 2s - loss: 390.4047 - val_loss: 968.6307\nEpoch 8164/15000\n40/40 - 1s - loss: 396.8065 - val_loss: 968.9052\nEpoch 8165/15000\n40/40 - 2s - loss: 403.1104 - val_loss: 968.0284\nEpoch 8166/15000\n40/40 - 2s - loss: 405.3709 - val_loss: 974.9741\nEpoch 8167/15000\n40/40 - 2s - loss: 408.3606 - val_loss: 969.3895\nEpoch 8168/15000\n40/40 - 2s - loss: 404.4120 - val_loss: 966.2184\nEpoch 8169/15000\n40/40 - 2s - loss: 415.7753 - val_loss: 965.9733\nEpoch 8170/15000\n40/40 - 2s - loss: 405.3651 - val_loss: 972.4188\nEpoch 8171/15000\n40/40 - 2s - loss: 401.4775 - val_loss: 976.0052\nEpoch 8172/15000\n40/40 - 2s - loss: 398.6858 - val_loss: 957.1124\nEpoch 8173/15000\n40/40 - 2s - loss: 391.5122 - val_loss: 966.6592\nEpoch 8174/15000\n40/40 - 1s - loss: 404.6806 - val_loss: 986.9210\nEpoch 8175/15000\n40/40 - 2s - loss: 382.3920 - val_loss: 974.0818\nEpoch 8176/15000\n40/40 - 2s - loss: 394.1182 - val_loss: 988.5566\nEpoch 8177/15000\n40/40 - 2s - loss: 411.0288 - val_loss: 983.6887\nEpoch 8178/15000\n40/40 - 2s - loss: 431.4622 - val_loss: 972.2770\nEpoch 8179/15000\n40/40 - 2s - loss: 409.9810 - val_loss: 980.1813\nEpoch 8180/15000\n40/40 - 2s - loss: 412.9065 - val_loss: 980.4015\nEpoch 8181/15000\n40/40 - 1s - loss: 418.5703 - val_loss: 958.4949\nEpoch 8182/15000\n40/40 - 1s - loss: 404.8011 - val_loss: 974.6886\nEpoch 8183/15000\n40/40 - 2s - loss: 398.7484 - val_loss: 986.8912\nEpoch 8184/15000\n40/40 - 2s - loss: 408.6418 - val_loss: 971.0428\nEpoch 8185/15000\n40/40 - 2s - loss: 404.4682 - val_loss: 963.5810\nEpoch 8186/15000\n40/40 - 2s - loss: 393.4875 - val_loss: 994.6791\nEpoch 8187/15000\n40/40 - 2s - loss: 409.4407 - val_loss: 965.9636\nEpoch 8188/15000\n40/40 - 2s - loss: 398.8213 - val_loss: 999.1834\nEpoch 8189/15000\n40/40 - 1s - loss: 409.5959 - val_loss: 961.9803\nEpoch 8190/15000\n40/40 - 2s - loss: 394.2164 - val_loss: 958.9326\nEpoch 8191/15000\n40/40 - 2s - loss: 400.0155 - val_loss: 980.5483\nEpoch 8192/15000\n40/40 - 1s - loss: 406.6217 - val_loss: 976.4144\nEpoch 8193/15000\n40/40 - 2s - loss: 408.5510 - val_loss: 983.3513\nEpoch 8194/15000\n40/40 - 1s - loss: 399.6216 - val_loss: 963.1006\nEpoch 8195/15000\n40/40 - 2s - loss: 405.6241 - val_loss: 970.3226\nEpoch 8196/15000\n40/40 - 2s - loss: 408.3901 - val_loss: 972.2853\nEpoch 8197/15000\n40/40 - 2s - loss: 396.2777 - val_loss: 981.4485\nEpoch 8198/15000\n40/40 - 2s - loss: 401.0435 - val_loss: 973.2432\nEpoch 8199/15000\n40/40 - 1s - loss: 399.8654 - val_loss: 989.0921\nEpoch 8200/15000\n40/40 - 1s - loss: 401.6794 - val_loss: 971.7569\nEpoch 8201/15000\n40/40 - 2s - loss: 399.4471 - val_loss: 981.5439\nEpoch 8202/15000\n40/40 - 2s - loss: 407.2039 - val_loss: 995.7581\nEpoch 8203/15000\n40/40 - 2s - loss: 393.1874 - val_loss: 956.8857\nEpoch 8204/15000\n40/40 - 2s - loss: 409.5686 - val_loss: 978.6367\nEpoch 8205/15000\n40/40 - 2s - loss: 396.4973 - val_loss: 990.4324\nEpoch 8206/15000\n40/40 - 2s - loss: 422.6349 - val_loss: 954.6661\nEpoch 8207/15000\n40/40 - 2s - loss: 405.1500 - val_loss: 954.9114\nEpoch 8208/15000\n40/40 - 2s - loss: 403.3886 - val_loss: 987.1459\nEpoch 8209/15000\n40/40 - 2s - loss: 405.4611 - val_loss: 972.1422\nEpoch 8210/15000\n40/40 - 2s - loss: 420.1442 - val_loss: 994.9840\nEpoch 8211/15000\n40/40 - 2s - loss: 431.2533 - val_loss: 964.7274\nEpoch 8212/15000\n40/40 - 2s - loss: 399.4937 - val_loss: 966.4930\nEpoch 8213/15000\n40/40 - 2s - loss: 405.1941 - val_loss: 963.7095\nEpoch 8214/15000\n40/40 - 2s - loss: 399.5859 - val_loss: 989.7762\nEpoch 8215/15000\n40/40 - 2s - loss: 395.6347 - val_loss: 981.6039\nEpoch 8216/15000\n40/40 - 2s - loss: 394.6265 - val_loss: 975.6108\nEpoch 8217/15000\n40/40 - 2s - loss: 405.8788 - val_loss: 988.1013\nEpoch 8218/15000\n40/40 - 1s - loss: 399.9174 - val_loss: 972.2370\nEpoch 8219/15000\n40/40 - 2s - loss: 420.1815 - val_loss: 974.7922\nEpoch 8220/15000\n40/40 - 2s - loss: 420.8377 - val_loss: 985.8170\nEpoch 8221/15000\n40/40 - 2s - loss: 399.0354 - val_loss: 969.6473\nEpoch 8222/15000\n40/40 - 2s - loss: 400.9708 - val_loss: 967.5924\nEpoch 8223/15000\n40/40 - 2s - loss: 390.9474 - val_loss: 983.3090\nEpoch 8224/15000\n40/40 - 2s - loss: 396.7313 - val_loss: 966.1130\nEpoch 8225/15000\n40/40 - 2s - loss: 396.3500 - val_loss: 971.1268\nEpoch 8226/15000\n40/40 - 2s - loss: 406.2596 - val_loss: 971.1451\nEpoch 8227/15000\n40/40 - 2s - loss: 393.3277 - val_loss: 987.6265\nEpoch 8228/15000\n40/40 - 2s - loss: 404.0829 - val_loss: 962.8864\nEpoch 8229/15000\n40/40 - 2s - loss: 397.1102 - val_loss: 972.1722\nEpoch 8230/15000\n40/40 - 2s - loss: 395.4290 - val_loss: 962.6985\nEpoch 8231/15000\n40/40 - 2s - loss: 382.6788 - val_loss: 981.2760\nEpoch 8232/15000\n40/40 - 2s - loss: 386.1969 - val_loss: 974.6613\nEpoch 8233/15000\n40/40 - 2s - loss: 398.4380 - val_loss: 987.1068\nEpoch 8234/15000\n40/40 - 2s - loss: 384.5059 - val_loss: 988.9003\nEpoch 8235/15000\n40/40 - 2s - loss: 390.9954 - val_loss: 964.1481\nEpoch 8236/15000\n40/40 - 2s - loss: 398.9569 - val_loss: 964.3414\nEpoch 8237/15000\n40/40 - 2s - loss: 391.4911 - val_loss: 971.3894\nEpoch 8238/15000\n40/40 - 2s - loss: 404.2960 - val_loss: 972.3483\nEpoch 8239/15000\n40/40 - 2s - loss: 413.6211 - val_loss: 981.8409\nEpoch 8240/15000\n40/40 - 2s - loss: 386.5214 - val_loss: 970.0867\nEpoch 8241/15000\n40/40 - 2s - loss: 392.3134 - val_loss: 962.7646\nEpoch 8242/15000\n40/40 - 2s - loss: 398.2156 - val_loss: 983.8895\nEpoch 8243/15000\n40/40 - 2s - loss: 395.3001 - val_loss: 975.2111\nEpoch 8244/15000\n40/40 - 2s - loss: 404.3052 - val_loss: 984.5903\nEpoch 8245/15000\n40/40 - 2s - loss: 399.4057 - val_loss: 970.9118\nEpoch 8246/15000\n40/40 - 2s - loss: 386.8074 - val_loss: 977.3625\nEpoch 8247/15000\n40/40 - 1s - loss: 406.1287 - val_loss: 976.4271\nEpoch 8248/15000\n40/40 - 2s - loss: 398.0130 - val_loss: 976.2042\nEpoch 8249/15000\n40/40 - 2s - loss: 396.5049 - val_loss: 972.4225\nEpoch 8250/15000\n40/40 - 2s - loss: 386.6219 - val_loss: 968.2552\nEpoch 8251/15000\n40/40 - 2s - loss: 382.7082 - val_loss: 985.8272\nEpoch 8252/15000\n40/40 - 2s - loss: 397.4457 - val_loss: 976.8398\nEpoch 8253/15000\n40/40 - 2s - loss: 439.1533 - val_loss: 977.9585\nEpoch 8254/15000\n40/40 - 2s - loss: 407.8394 - val_loss: 978.0951\nEpoch 8255/15000\n40/40 - 1s - loss: 398.6933 - val_loss: 979.5088\nEpoch 8256/15000\n40/40 - 1s - loss: 415.4445 - val_loss: 978.5270\nEpoch 8257/15000\n40/40 - 2s - loss: 415.0334 - val_loss: 952.6345\nEpoch 8258/15000\n40/40 - 2s - loss: 415.5739 - val_loss: 966.5828\nEpoch 8259/15000\n40/40 - 2s - loss: 403.5462 - val_loss: 976.1498\nEpoch 8260/15000\n40/40 - 2s - loss: 407.0614 - val_loss: 977.2346\nEpoch 8261/15000\n40/40 - 2s - loss: 389.2527 - val_loss: 978.9516\nEpoch 8262/15000\n40/40 - 2s - loss: 400.5822 - val_loss: 971.8651\nEpoch 8263/15000\n40/40 - 2s - loss: 393.4951 - val_loss: 981.6180\nEpoch 8264/15000\n40/40 - 2s - loss: 390.9714 - val_loss: 966.2083\nEpoch 8265/15000\n40/40 - 2s - loss: 387.8278 - val_loss: 965.5648\nEpoch 8266/15000\n40/40 - 2s - loss: 399.9127 - val_loss: 977.3267\nEpoch 8267/15000\n40/40 - 1s - loss: 390.7006 - val_loss: 998.8669\nEpoch 8268/15000\n40/40 - 2s - loss: 396.5288 - val_loss: 967.1039\nEpoch 8269/15000\n40/40 - 2s - loss: 388.9217 - val_loss: 979.7728\nEpoch 8270/15000\n40/40 - 2s - loss: 378.7541 - val_loss: 976.8584\nEpoch 8271/15000\n40/40 - 2s - loss: 396.9419 - val_loss: 971.6622\nEpoch 8272/15000\n40/40 - 2s - loss: 397.4732 - val_loss: 978.8274\nEpoch 8273/15000\n40/40 - 2s - loss: 386.5748 - val_loss: 971.6610\nEpoch 8274/15000\n40/40 - 2s - loss: 400.3283 - val_loss: 961.5389\nEpoch 8275/15000\n40/40 - 2s - loss: 391.5071 - val_loss: 976.3178\nEpoch 8276/15000\n40/40 - 2s - loss: 395.0462 - val_loss: 974.0839\nEpoch 8277/15000\n40/40 - 2s - loss: 408.9810 - val_loss: 978.2830\nEpoch 8278/15000\n40/40 - 2s - loss: 397.0110 - val_loss: 971.7180\nEpoch 8279/15000\n40/40 - 2s - loss: 378.7792 - val_loss: 967.0575\nEpoch 8280/15000\n40/40 - 2s - loss: 412.2469 - val_loss: 969.0641\nEpoch 8281/15000\n40/40 - 2s - loss: 410.1508 - val_loss: 959.0237\nEpoch 8282/15000\n40/40 - 2s - loss: 401.4409 - val_loss: 979.4734\nEpoch 8283/15000\n40/40 - 2s - loss: 395.6878 - val_loss: 986.1034\nEpoch 8284/15000\n40/40 - 1s - loss: 392.9072 - val_loss: 970.5046\nEpoch 8285/15000\n40/40 - 1s - loss: 387.5932 - val_loss: 979.6518\nEpoch 8286/15000\n40/40 - 2s - loss: 417.0361 - val_loss: 955.3730\nEpoch 8287/15000\n40/40 - 2s - loss: 403.3708 - val_loss: 974.5858\nEpoch 8288/15000\n40/40 - 2s - loss: 395.6127 - val_loss: 967.2236\nEpoch 8289/15000\n40/40 - 2s - loss: 390.2660 - val_loss: 971.9526\nEpoch 8290/15000\n40/40 - 2s - loss: 431.5884 - val_loss: 975.8857\nEpoch 8291/15000\n40/40 - 2s - loss: 387.8550 - val_loss: 987.4178\nEpoch 8292/15000\n40/40 - 2s - loss: 394.3480 - val_loss: 1000.0800\nEpoch 8293/15000\n40/40 - 2s - loss: 392.3853 - val_loss: 977.1196\nEpoch 8294/15000\n40/40 - 2s - loss: 394.4555 - val_loss: 989.9423\nEpoch 8295/15000\n40/40 - 2s - loss: 396.5854 - val_loss: 969.1257\nEpoch 8296/15000\n40/40 - 2s - loss: 429.8407 - val_loss: 951.5577\nEpoch 8297/15000\n40/40 - 2s - loss: 403.4214 - val_loss: 987.3879\nEpoch 8298/15000\n40/40 - 1s - loss: 396.7260 - val_loss: 963.9453\nEpoch 8299/15000\n40/40 - 2s - loss: 405.5125 - val_loss: 985.1873\nEpoch 8300/15000\n40/40 - 2s - loss: 390.7235 - val_loss: 976.3270\nEpoch 8301/15000\n40/40 - 2s - loss: 394.3195 - val_loss: 986.2234\nEpoch 8302/15000\n40/40 - 2s - loss: 386.5826 - val_loss: 979.3633\nEpoch 8303/15000\n40/40 - 2s - loss: 388.9754 - val_loss: 974.9133\nEpoch 8304/15000\n40/40 - 1s - loss: 383.6147 - val_loss: 981.3474\nEpoch 8305/15000\n40/40 - 2s - loss: 382.3447 - val_loss: 976.6328\nEpoch 8306/15000\n40/40 - 2s - loss: 395.5772 - val_loss: 969.1414\nEpoch 8307/15000\n40/40 - 2s - loss: 409.1524 - val_loss: 994.8104\nEpoch 8308/15000\n40/40 - 2s - loss: 385.1638 - val_loss: 985.8221\nEpoch 8309/15000\n40/40 - 2s - loss: 394.2823 - val_loss: 954.3808\nEpoch 8310/15000\n40/40 - 2s - loss: 397.4432 - val_loss: 979.3026\nEpoch 8311/15000\n40/40 - 2s - loss: 385.9132 - val_loss: 948.6927\nEpoch 8312/15000\n40/40 - 2s - loss: 400.5034 - val_loss: 959.8421\nEpoch 8313/15000\n40/40 - 2s - loss: 410.9279 - val_loss: 972.1140\nEpoch 8314/15000\n40/40 - 2s - loss: 398.4094 - val_loss: 950.7876\nEpoch 8315/15000\n40/40 - 2s - loss: 397.4027 - val_loss: 983.8428\nEpoch 8316/15000\n40/40 - 1s - loss: 408.7347 - val_loss: 993.1882\nEpoch 8317/15000\n40/40 - 1s - loss: 402.5928 - val_loss: 973.0806\nEpoch 8318/15000\n40/40 - 2s - loss: 405.3258 - val_loss: 966.1331\nEpoch 8319/15000\n40/40 - 2s - loss: 398.3251 - val_loss: 982.7307\nEpoch 8320/15000\n40/40 - 2s - loss: 386.5603 - val_loss: 964.2778\nEpoch 8321/15000\n40/40 - 1s - loss: 387.2459 - val_loss: 978.0779\nEpoch 8322/15000\n40/40 - 2s - loss: 400.4873 - val_loss: 965.1987\nEpoch 8323/15000\n40/40 - 2s - loss: 396.3922 - val_loss: 969.0395\nEpoch 8324/15000\n40/40 - 2s - loss: 397.2000 - val_loss: 992.6602\nEpoch 8325/15000\n40/40 - 2s - loss: 384.8400 - val_loss: 997.4323\nEpoch 8326/15000\n40/40 - 2s - loss: 387.0826 - val_loss: 974.2549\nEpoch 8327/15000\n40/40 - 2s - loss: 390.6799 - val_loss: 976.0856\nEpoch 8328/15000\n40/40 - 2s - loss: 395.0643 - val_loss: 963.1616\nEpoch 8329/15000\n40/40 - 2s - loss: 388.5557 - val_loss: 978.7567\nEpoch 8330/15000\n40/40 - 2s - loss: 401.8580 - val_loss: 974.8817\nEpoch 8331/15000\n40/40 - 2s - loss: 384.9078 - val_loss: 969.8225\nEpoch 8332/15000\n40/40 - 2s - loss: 400.6462 - val_loss: 971.0410\nEpoch 8333/15000\n40/40 - 2s - loss: 409.2332 - val_loss: 979.8655\nEpoch 8334/15000\n40/40 - 2s - loss: 428.1093 - val_loss: 989.7764\nEpoch 8335/15000\n40/40 - 1s - loss: 393.9375 - val_loss: 979.0118\nEpoch 8336/15000\n40/40 - 1s - loss: 393.8074 - val_loss: 976.5461\nEpoch 8337/15000\n40/40 - 2s - loss: 387.6266 - val_loss: 994.5469\nEpoch 8338/15000\n40/40 - 2s - loss: 400.9571 - val_loss: 985.8239\nEpoch 8339/15000\n40/40 - 2s - loss: 422.1606 - val_loss: 972.9493\nEpoch 8340/15000\n40/40 - 2s - loss: 395.6690 - val_loss: 976.2298\nEpoch 8341/15000\n40/40 - 1s - loss: 387.2817 - val_loss: 976.5244\nEpoch 8342/15000\n40/40 - 2s - loss: 381.0862 - val_loss: 984.2523\nEpoch 8343/15000\n40/40 - 2s - loss: 387.6848 - val_loss: 966.6511\nEpoch 8344/15000\n40/40 - 2s - loss: 408.1531 - val_loss: 979.1846\nEpoch 8345/15000\n40/40 - 2s - loss: 396.9545 - val_loss: 980.6952\nEpoch 8346/15000\n40/40 - 2s - loss: 399.4247 - val_loss: 970.9246\nEpoch 8347/15000\n40/40 - 2s - loss: 397.4413 - val_loss: 967.2000\nEpoch 8348/15000\n40/40 - 2s - loss: 405.4197 - val_loss: 990.3105\nEpoch 8349/15000\n40/40 - 2s - loss: 404.5954 - val_loss: 985.4504\nEpoch 8350/15000\n40/40 - 2s - loss: 392.7460 - val_loss: 988.1641\nEpoch 8351/15000\n40/40 - 2s - loss: 382.9339 - val_loss: 988.8246\nEpoch 8352/15000\n40/40 - 2s - loss: 380.2295 - val_loss: 969.8289\nEpoch 8353/15000\n40/40 - 2s - loss: 393.6129 - val_loss: 965.1260\nEpoch 8354/15000\n40/40 - 2s - loss: 393.1998 - val_loss: 957.7568\nEpoch 8355/15000\n40/40 - 2s - loss: 408.1165 - val_loss: 957.7432\nEpoch 8356/15000\n40/40 - 2s - loss: 396.3321 - val_loss: 985.4563\nEpoch 8357/15000\n40/40 - 2s - loss: 412.6616 - val_loss: 972.0936\nEpoch 8358/15000\n40/40 - 2s - loss: 398.1577 - val_loss: 979.8845\nEpoch 8359/15000\n40/40 - 2s - loss: 410.2146 - val_loss: 986.7839\nEpoch 8360/15000\n40/40 - 2s - loss: 397.3602 - val_loss: 956.0758\nEpoch 8361/15000\n40/40 - 2s - loss: 407.4502 - val_loss: 989.0150\nEpoch 8362/15000\n40/40 - 2s - loss: 390.4083 - val_loss: 979.0112\nEpoch 8363/15000\n40/40 - 2s - loss: 381.8653 - val_loss: 979.4803\nEpoch 8364/15000\n40/40 - 2s - loss: 397.7358 - val_loss: 980.1425\nEpoch 8365/15000\n40/40 - 2s - loss: 395.2534 - val_loss: 976.5685\nEpoch 8366/15000\n40/40 - 1s - loss: 386.3160 - val_loss: 976.7761\nEpoch 8367/15000\n40/40 - 2s - loss: 383.3900 - val_loss: 975.9750\nEpoch 8368/15000\n40/40 - 2s - loss: 387.5963 - val_loss: 976.4542\nEpoch 8369/15000\n40/40 - 2s - loss: 391.9997 - val_loss: 980.1255\nEpoch 8370/15000\n40/40 - 2s - loss: 390.2909 - val_loss: 980.8613\nEpoch 8371/15000\n40/40 - 2s - loss: 395.8585 - val_loss: 959.8020\nEpoch 8372/15000\n40/40 - 2s - loss: 388.8643 - val_loss: 982.7161\nEpoch 8373/15000\n40/40 - 2s - loss: 396.4769 - val_loss: 966.8306\nEpoch 8374/15000\n40/40 - 2s - loss: 404.7867 - val_loss: 972.2184\nEpoch 8375/15000\n40/40 - 2s - loss: 393.0482 - val_loss: 984.5883\nEpoch 8376/15000\n40/40 - 2s - loss: 391.6023 - val_loss: 975.5066\nEpoch 8377/15000\n40/40 - 2s - loss: 385.5563 - val_loss: 960.5571\nEpoch 8378/15000\n40/40 - 1s - loss: 394.7374 - val_loss: 992.7527\nEpoch 8379/15000\n40/40 - 2s - loss: 399.9363 - val_loss: 1005.1125\nEpoch 8380/15000\n40/40 - 2s - loss: 406.5366 - val_loss: 983.5433\nEpoch 8381/15000\n40/40 - 2s - loss: 377.5257 - val_loss: 965.0547\nEpoch 8382/15000\n40/40 - 1s - loss: 422.4167 - val_loss: 985.2839\nEpoch 8383/15000\n40/40 - 1s - loss: 404.5238 - val_loss: 965.3550\nEpoch 8384/15000\n40/40 - 2s - loss: 406.3331 - val_loss: 974.3003\nEpoch 8385/15000\n40/40 - 1s - loss: 390.8401 - val_loss: 978.8657\nEpoch 8386/15000\n40/40 - 2s - loss: 405.3397 - val_loss: 982.8981\nEpoch 8387/15000\n40/40 - 2s - loss: 386.0707 - val_loss: 968.6272\nEpoch 8388/15000\n40/40 - 2s - loss: 383.8449 - val_loss: 974.3318\nEpoch 8389/15000\n40/40 - 2s - loss: 392.5457 - val_loss: 986.9969\nEpoch 8390/15000\n40/40 - 2s - loss: 392.5685 - val_loss: 978.1906\nEpoch 8391/15000\n40/40 - 2s - loss: 411.7833 - val_loss: 979.2155\nEpoch 8392/15000\n40/40 - 2s - loss: 379.5628 - val_loss: 972.9177\nEpoch 8393/15000\n40/40 - 2s - loss: 387.6727 - val_loss: 975.7700\nEpoch 8394/15000\n40/40 - 2s - loss: 406.8852 - val_loss: 960.3630\nEpoch 8395/15000\n40/40 - 1s - loss: 398.1218 - val_loss: 975.2161\nEpoch 8396/15000\n40/40 - 2s - loss: 404.2107 - val_loss: 973.7094\nEpoch 8397/15000\n40/40 - 2s - loss: 388.9521 - val_loss: 957.0910\nEpoch 8398/15000\n40/40 - 2s - loss: 390.8309 - val_loss: 972.3208\nEpoch 8399/15000\n40/40 - 2s - loss: 417.7583 - val_loss: 974.3784\nEpoch 8400/15000\n40/40 - 2s - loss: 389.2221 - val_loss: 972.4930\nEpoch 8401/15000\n40/40 - 2s - loss: 398.6800 - val_loss: 983.0264\nEpoch 8402/15000\n40/40 - 2s - loss: 393.3533 - val_loss: 970.4342\nEpoch 8403/15000\n40/40 - 2s - loss: 412.8445 - val_loss: 986.4890\nEpoch 8404/15000\n40/40 - 2s - loss: 396.0713 - val_loss: 984.6512\nEpoch 8405/15000\n40/40 - 2s - loss: 386.9461 - val_loss: 982.6864\nEpoch 8406/15000\n40/40 - 2s - loss: 381.2354 - val_loss: 958.4955\nEpoch 8407/15000\n40/40 - 2s - loss: 391.3819 - val_loss: 990.8661\nEpoch 8408/15000\n40/40 - 2s - loss: 396.0965 - val_loss: 985.8177\nEpoch 8409/15000\n40/40 - 2s - loss: 403.9855 - val_loss: 958.5869\nEpoch 8410/15000\n40/40 - 1s - loss: 391.4682 - val_loss: 986.7484\nEpoch 8411/15000\n40/40 - 2s - loss: 395.4666 - val_loss: 976.5969\nEpoch 8412/15000\n40/40 - 2s - loss: 389.0687 - val_loss: 957.1990\nEpoch 8413/15000\n40/40 - 2s - loss: 401.1704 - val_loss: 966.3131\nEpoch 8414/15000\n40/40 - 2s - loss: 400.4856 - val_loss: 984.6322\nEpoch 8415/15000\n40/40 - 1s - loss: 387.5319 - val_loss: 969.9189\nEpoch 8416/15000\n40/40 - 2s - loss: 394.2408 - val_loss: 976.3753\nEpoch 8417/15000\n40/40 - 2s - loss: 380.1313 - val_loss: 970.9486\nEpoch 8418/15000\n40/40 - 2s - loss: 389.3260 - val_loss: 979.9804\nEpoch 8419/15000\n40/40 - 2s - loss: 386.4923 - val_loss: 972.2454\nEpoch 8420/15000\n40/40 - 2s - loss: 379.5339 - val_loss: 994.1364\nEpoch 8421/15000\n40/40 - 2s - loss: 378.2626 - val_loss: 985.1811\nEpoch 8422/15000\n40/40 - 2s - loss: 387.2201 - val_loss: 976.5063\nEpoch 8423/15000\n40/40 - 2s - loss: 391.1523 - val_loss: 985.8900\nEpoch 8424/15000\n40/40 - 2s - loss: 380.7231 - val_loss: 990.1019\nEpoch 8425/15000\n40/40 - 2s - loss: 392.5759 - val_loss: 970.9680\nEpoch 8426/15000\n40/40 - 2s - loss: 423.6971 - val_loss: 982.0446\nEpoch 8427/15000\n40/40 - 2s - loss: 395.8177 - val_loss: 969.9282\nEpoch 8428/15000\n40/40 - 2s - loss: 394.6068 - val_loss: 985.5214\nEpoch 8429/15000\n40/40 - 2s - loss: 391.1039 - val_loss: 973.1406\nEpoch 8430/15000\n40/40 - 2s - loss: 389.9105 - val_loss: 972.5767\nEpoch 8431/15000\n40/40 - 2s - loss: 408.0071 - val_loss: 967.5540\nEpoch 8432/15000\n40/40 - 2s - loss: 398.7881 - val_loss: 975.5090\nEpoch 8433/15000\n40/40 - 2s - loss: 388.5182 - val_loss: 1002.0704\nEpoch 8434/15000\n40/40 - 2s - loss: 397.6992 - val_loss: 981.1265\nEpoch 8435/15000\n40/40 - 2s - loss: 388.6198 - val_loss: 968.7172\nEpoch 8436/15000\n40/40 - 2s - loss: 397.1368 - val_loss: 992.7670\nEpoch 8437/15000\n40/40 - 2s - loss: 402.5150 - val_loss: 984.1058\nEpoch 8438/15000\n40/40 - 2s - loss: 390.6327 - val_loss: 988.3655\nEpoch 8439/15000\n40/40 - 2s - loss: 381.4353 - val_loss: 1001.0114\nEpoch 8440/15000\n40/40 - 1s - loss: 377.5185 - val_loss: 992.8083\nEpoch 8441/15000\n40/40 - 1s - loss: 386.9890 - val_loss: 971.6440\nEpoch 8442/15000\n40/40 - 2s - loss: 375.3541 - val_loss: 991.3516\nEpoch 8443/15000\n40/40 - 2s - loss: 377.3998 - val_loss: 971.0701\nEpoch 8444/15000\n40/40 - 2s - loss: 395.6068 - val_loss: 991.0947\nEpoch 8445/15000\n40/40 - 2s - loss: 408.6619 - val_loss: 980.8973\nEpoch 8446/15000\n40/40 - 2s - loss: 405.2512 - val_loss: 982.9531\nEpoch 8447/15000\n40/40 - 1s - loss: 403.1945 - val_loss: 971.6396\nEpoch 8448/15000\n40/40 - 2s - loss: 389.5544 - val_loss: 976.1083\nEpoch 8449/15000\n40/40 - 2s - loss: 386.8585 - val_loss: 986.0538\nEpoch 8450/15000\n40/40 - 2s - loss: 396.1672 - val_loss: 989.5074\nEpoch 8451/15000\n40/40 - 1s - loss: 384.2010 - val_loss: 977.1635\nEpoch 8452/15000\n40/40 - 1s - loss: 378.9644 - val_loss: 983.3279\nEpoch 8453/15000\n40/40 - 1s - loss: 379.5794 - val_loss: 982.4079\nEpoch 8454/15000\n40/40 - 2s - loss: 391.7232 - val_loss: 976.6578\nEpoch 8455/15000\n40/40 - 2s - loss: 415.7225 - val_loss: 991.3217\nEpoch 8456/15000\n40/40 - 2s - loss: 407.3430 - val_loss: 971.3159\nEpoch 8457/15000\n40/40 - 2s - loss: 393.6100 - val_loss: 971.3684\nEpoch 8458/15000\n40/40 - 2s - loss: 404.5358 - val_loss: 984.6934\nEpoch 8459/15000\n40/40 - 2s - loss: 389.3091 - val_loss: 974.8738\nEpoch 8460/15000\n40/40 - 2s - loss: 374.1463 - val_loss: 973.0837\nEpoch 8461/15000\n40/40 - 2s - loss: 374.6837 - val_loss: 973.7170\nEpoch 8462/15000\n40/40 - 2s - loss: 400.0525 - val_loss: 978.1960\nEpoch 8463/15000\n40/40 - 2s - loss: 386.4518 - val_loss: 973.2344\nEpoch 8464/15000\n40/40 - 1s - loss: 389.8157 - val_loss: 986.7284\nEpoch 8465/15000\n40/40 - 2s - loss: 388.1460 - val_loss: 975.0815\nEpoch 8466/15000\n40/40 - 2s - loss: 385.8088 - val_loss: 973.7536\nEpoch 8467/15000\n40/40 - 2s - loss: 387.0988 - val_loss: 990.2354\nEpoch 8468/15000\n40/40 - 2s - loss: 392.3636 - val_loss: 966.1592\nEpoch 8469/15000\n40/40 - 2s - loss: 389.7665 - val_loss: 965.3960\nEpoch 8470/15000\n40/40 - 1s - loss: 392.4464 - val_loss: 972.6730\nEpoch 8471/15000\n40/40 - 2s - loss: 391.0868 - val_loss: 966.0234\nEpoch 8472/15000\n40/40 - 2s - loss: 410.8004 - val_loss: 980.1003\nEpoch 8473/15000\n40/40 - 2s - loss: 397.2419 - val_loss: 975.4580\nEpoch 8474/15000\n40/40 - 2s - loss: 392.5493 - val_loss: 995.6413\nEpoch 8475/15000\n40/40 - 2s - loss: 396.0464 - val_loss: 1007.2437\nEpoch 8476/15000\n40/40 - 2s - loss: 379.5956 - val_loss: 969.1641\nEpoch 8477/15000\n40/40 - 2s - loss: 388.5277 - val_loss: 975.8799\nEpoch 8478/15000\n40/40 - 2s - loss: 398.0634 - val_loss: 979.0190\nEpoch 8479/15000\n40/40 - 2s - loss: 390.1802 - val_loss: 982.8511\nEpoch 8480/15000\n40/40 - 2s - loss: 379.9432 - val_loss: 973.8928\nEpoch 8481/15000\n40/40 - 2s - loss: 380.7125 - val_loss: 985.9620\nEpoch 8482/15000\n40/40 - 2s - loss: 389.6825 - val_loss: 999.5149\nEpoch 8483/15000\n40/40 - 2s - loss: 398.7765 - val_loss: 979.6636\nEpoch 8484/15000\n40/40 - 1s - loss: 381.9147 - val_loss: 975.5433\nEpoch 8485/15000\n40/40 - 2s - loss: 382.6381 - val_loss: 972.2092\nEpoch 8486/15000\n40/40 - 2s - loss: 383.3364 - val_loss: 975.8531\nEpoch 8487/15000\n40/40 - 2s - loss: 383.2841 - val_loss: 987.0267\nEpoch 8488/15000\n40/40 - 2s - loss: 376.9840 - val_loss: 970.3024\nEpoch 8489/15000\n40/40 - 2s - loss: 394.5800 - val_loss: 986.6797\nEpoch 8490/15000\n40/40 - 2s - loss: 379.9307 - val_loss: 989.8538\nEpoch 8491/15000\n40/40 - 2s - loss: 375.5716 - val_loss: 975.6187\nEpoch 8492/15000\n40/40 - 2s - loss: 391.8673 - val_loss: 976.0896\nEpoch 8493/15000\n40/40 - 2s - loss: 389.6230 - val_loss: 970.2741\nEpoch 8494/15000\n40/40 - 2s - loss: 389.7613 - val_loss: 961.4870\nEpoch 8495/15000\n40/40 - 2s - loss: 392.6429 - val_loss: 953.0388\nEpoch 8496/15000\n40/40 - 2s - loss: 384.6439 - val_loss: 994.3301\nEpoch 8497/15000\n40/40 - 2s - loss: 387.8113 - val_loss: 975.9487\nEpoch 8498/15000\n40/40 - 2s - loss: 395.0102 - val_loss: 980.3121\nEpoch 8499/15000\n40/40 - 2s - loss: 395.6295 - val_loss: 969.8394\nEpoch 8500/15000\n40/40 - 2s - loss: 382.4317 - val_loss: 966.4454\nEpoch 8501/15000\n40/40 - 2s - loss: 392.0651 - val_loss: 984.8290\nEpoch 8502/15000\n40/40 - 1s - loss: 381.0846 - val_loss: 968.3933\nEpoch 8503/15000\n40/40 - 2s - loss: 394.5379 - val_loss: 991.0710\nEpoch 8504/15000\n40/40 - 2s - loss: 400.0943 - val_loss: 979.3587\nEpoch 8505/15000\n40/40 - 2s - loss: 391.2084 - val_loss: 970.5503\nEpoch 8506/15000\n40/40 - 2s - loss: 384.3054 - val_loss: 971.4421\nEpoch 8507/15000\n40/40 - 2s - loss: 386.1097 - val_loss: 976.8128\nEpoch 8508/15000\n40/40 - 2s - loss: 388.6815 - val_loss: 977.1978\nEpoch 8509/15000\n40/40 - 2s - loss: 388.5288 - val_loss: 965.8005\nEpoch 8510/15000\n40/40 - 2s - loss: 389.3361 - val_loss: 979.1407\nEpoch 8511/15000\n40/40 - 2s - loss: 384.9940 - val_loss: 980.4686\nEpoch 8512/15000\n40/40 - 2s - loss: 397.5931 - val_loss: 976.7481\nEpoch 8513/15000\n40/40 - 2s - loss: 382.1366 - val_loss: 984.0948\nEpoch 8514/15000\n40/40 - 1s - loss: 383.0150 - val_loss: 969.3270\nEpoch 8515/15000\n40/40 - 2s - loss: 382.7361 - val_loss: 973.8942\nEpoch 8516/15000\n40/40 - 1s - loss: 391.8889 - val_loss: 991.2697\nEpoch 8517/15000\n40/40 - 2s - loss: 383.0952 - val_loss: 1005.9762\nEpoch 8518/15000\n40/40 - 2s - loss: 386.6022 - val_loss: 974.6696\nEpoch 8519/15000\n40/40 - 2s - loss: 395.2633 - val_loss: 965.4851\nEpoch 8520/15000\n40/40 - 2s - loss: 397.7530 - val_loss: 982.1981\nEpoch 8521/15000\n40/40 - 2s - loss: 389.4335 - val_loss: 970.1283\nEpoch 8522/15000\n40/40 - 2s - loss: 402.1169 - val_loss: 964.0787\nEpoch 8523/15000\n40/40 - 2s - loss: 388.4631 - val_loss: 982.5315\nEpoch 8524/15000\n40/40 - 2s - loss: 409.7437 - val_loss: 974.9012\nEpoch 8525/15000\n40/40 - 2s - loss: 393.8935 - val_loss: 983.9880\nEpoch 8526/15000\n40/40 - 2s - loss: 385.4914 - val_loss: 981.2842\nEpoch 8527/15000\n40/40 - 2s - loss: 396.6510 - val_loss: 979.5791\nEpoch 8528/15000\n40/40 - 2s - loss: 389.8296 - val_loss: 969.5344\nEpoch 8529/15000\n40/40 - 2s - loss: 385.6407 - val_loss: 990.9290\nEpoch 8530/15000\n40/40 - 2s - loss: 383.5992 - val_loss: 983.0978\nEpoch 8531/15000\n40/40 - 2s - loss: 390.3436 - val_loss: 967.6541\nEpoch 8532/15000\n40/40 - 2s - loss: 382.4391 - val_loss: 969.2736\nEpoch 8533/15000\n40/40 - 1s - loss: 380.3283 - val_loss: 984.0099\nEpoch 8534/15000\n40/40 - 1s - loss: 390.6758 - val_loss: 962.1249\nEpoch 8535/15000\n40/40 - 2s - loss: 382.1686 - val_loss: 977.9749\nEpoch 8536/15000\n40/40 - 2s - loss: 372.1263 - val_loss: 975.2475\nEpoch 8537/15000\n40/40 - 2s - loss: 381.6428 - val_loss: 979.0764\nEpoch 8538/15000\n40/40 - 2s - loss: 398.8859 - val_loss: 974.1277\nEpoch 8539/15000\n40/40 - 2s - loss: 393.0611 - val_loss: 989.0972\nEpoch 8540/15000\n40/40 - 2s - loss: 377.5406 - val_loss: 973.6091\nEpoch 8541/15000\n40/40 - 1s - loss: 384.7291 - val_loss: 986.2663\nEpoch 8542/15000\n40/40 - 2s - loss: 406.6359 - val_loss: 993.0615\nEpoch 8543/15000\n40/40 - 2s - loss: 380.2869 - val_loss: 990.5722\nEpoch 8544/15000\n40/40 - 2s - loss: 389.4949 - val_loss: 974.2413\nEpoch 8545/15000\n40/40 - 2s - loss: 389.0567 - val_loss: 991.0114\nEpoch 8546/15000\n40/40 - 2s - loss: 377.5326 - val_loss: 962.4583\nEpoch 8547/15000\n40/40 - 2s - loss: 384.7066 - val_loss: 979.1469\nEpoch 8548/15000\n40/40 - 2s - loss: 383.7591 - val_loss: 971.4181\nEpoch 8549/15000\n40/40 - 2s - loss: 394.8674 - val_loss: 976.5903\nEpoch 8550/15000\n40/40 - 1s - loss: 381.0112 - val_loss: 974.1437\nEpoch 8551/15000\n40/40 - 1s - loss: 392.4489 - val_loss: 981.9460\nEpoch 8552/15000\n40/40 - 1s - loss: 396.6287 - val_loss: 983.7425\nEpoch 8553/15000\n40/40 - 2s - loss: 383.8517 - val_loss: 976.4659\nEpoch 8554/15000\n40/40 - 1s - loss: 387.2769 - val_loss: 998.7433\nEpoch 8555/15000\n40/40 - 2s - loss: 382.7169 - val_loss: 985.1965\nEpoch 8556/15000\n40/40 - 2s - loss: 384.5306 - val_loss: 982.3033\nEpoch 8557/15000\n40/40 - 2s - loss: 379.4190 - val_loss: 984.6516\nEpoch 8558/15000\n40/40 - 2s - loss: 377.0316 - val_loss: 982.3993\nEpoch 8559/15000\n40/40 - 2s - loss: 384.6235 - val_loss: 981.2496\nEpoch 8560/15000\n40/40 - 2s - loss: 380.3397 - val_loss: 987.8212\nEpoch 8561/15000\n40/40 - 2s - loss: 386.7374 - val_loss: 974.5816\nEpoch 8562/15000\n40/40 - 2s - loss: 392.1084 - val_loss: 979.5567\nEpoch 8563/15000\n40/40 - 1s - loss: 387.2154 - val_loss: 976.0126\nEpoch 8564/15000\n40/40 - 2s - loss: 395.4794 - val_loss: 974.2700\nEpoch 8565/15000\n40/40 - 2s - loss: 377.8778 - val_loss: 965.6912\nEpoch 8566/15000\n40/40 - 2s - loss: 387.1786 - val_loss: 966.3885\nEpoch 8567/15000\n40/40 - 2s - loss: 378.5945 - val_loss: 979.5416\nEpoch 8568/15000\n40/40 - 2s - loss: 392.0521 - val_loss: 989.3452\nEpoch 8569/15000\n40/40 - 2s - loss: 380.2068 - val_loss: 983.6514\nEpoch 8570/15000\n40/40 - 2s - loss: 389.3628 - val_loss: 974.1786\nEpoch 8571/15000\n40/40 - 2s - loss: 388.7256 - val_loss: 962.8023\nEpoch 8572/15000\n40/40 - 2s - loss: 377.3076 - val_loss: 983.1360\nEpoch 8573/15000\n40/40 - 2s - loss: 382.7433 - val_loss: 979.8646\nEpoch 8574/15000\n40/40 - 2s - loss: 407.4320 - val_loss: 978.9490\nEpoch 8575/15000\n40/40 - 1s - loss: 380.0904 - val_loss: 992.6035\nEpoch 8576/15000\n40/40 - 2s - loss: 389.7887 - val_loss: 979.6078\nEpoch 8577/15000\n40/40 - 2s - loss: 389.6845 - val_loss: 977.1114\n",
     "output_type": "stream",
     "data": {}
    },
    {
     "name": "stdout",
     "text": "40/40 - 1s - loss: 289.1568 - val_loss: 1030.6826\nEpoch 14503/15000\n40/40 - 1s - loss: 288.4251 - val_loss: 1034.8257\nEpoch 14504/15000\n40/40 - 1s - loss: 300.5859 - val_loss: 1027.6981\nEpoch 14505/15000\n40/40 - 1s - loss: 284.0038 - val_loss: 1034.1394\nEpoch 14506/15000\n40/40 - 1s - loss: 279.4403 - val_loss: 1034.1742\nEpoch 14507/15000\n40/40 - 1s - loss: 283.0068 - val_loss: 1033.4031\nEpoch 14508/15000\n40/40 - 1s - loss: 277.1259 - val_loss: 1038.8496\nEpoch 14509/15000\n40/40 - 1s - loss: 264.2318 - val_loss: 1030.8811\nEpoch 14510/15000\n40/40 - 1s - loss: 294.9873 - val_loss: 1021.5628\nEpoch 14511/15000\n40/40 - 1s - loss: 300.0134 - val_loss: 1032.9207\nEpoch 14512/15000\n40/40 - 1s - loss: 291.6974 - val_loss: 1030.5802\nEpoch 14513/15000\n40/40 - 1s - loss: 276.1391 - val_loss: 1028.2474\nEpoch 14514/15000\n40/40 - 1s - loss: 274.6974 - val_loss: 1028.6936\nEpoch 14515/15000\n40/40 - 1s - loss: 277.3411 - val_loss: 1037.6689\nEpoch 14516/15000\n40/40 - 1s - loss: 277.5582 - val_loss: 1016.9283\nEpoch 14517/15000\n40/40 - 2s - loss: 276.0602 - val_loss: 1038.5831\nEpoch 14518/15000\n40/40 - 1s - loss: 268.3264 - val_loss: 1042.7268\nEpoch 14519/15000\n40/40 - 1s - loss: 286.0251 - val_loss: 1013.3323\nEpoch 14520/15000\n40/40 - 1s - loss: 279.5357 - val_loss: 1032.0024\nEpoch 14521/15000\n40/40 - 1s - loss: 267.7761 - val_loss: 1037.2299\nEpoch 14522/15000\n40/40 - 1s - loss: 266.9522 - val_loss: 1029.9125\nEpoch 14523/15000\n40/40 - 1s - loss: 270.9148 - val_loss: 1022.5699\nEpoch 14524/15000\n40/40 - 1s - loss: 286.8235 - val_loss: 1028.3372\nEpoch 14525/15000\n40/40 - 1s - loss: 291.6715 - val_loss: 1032.6082\nEpoch 14526/15000\n40/40 - 1s - loss: 279.7659 - val_loss: 1041.4702\nEpoch 14527/15000\n40/40 - 1s - loss: 276.5504 - val_loss: 1041.0156\nEpoch 14528/15000\n40/40 - 1s - loss: 282.3649 - val_loss: 1022.4709\nEpoch 14529/15000\n40/40 - 1s - loss: 290.7428 - val_loss: 1024.3119\nEpoch 14530/15000\n40/40 - 1s - loss: 272.5316 - val_loss: 1027.3143\nEpoch 14531/15000\n40/40 - 1s - loss: 276.4712 - val_loss: 1046.6976\nEpoch 14532/15000\n40/40 - 1s - loss: 290.3401 - val_loss: 1023.5956\nEpoch 14533/15000\n40/40 - 1s - loss: 281.4266 - val_loss: 1025.6915\nEpoch 14534/15000\n40/40 - 1s - loss: 272.1003 - val_loss: 1022.7603\nEpoch 14535/15000\n40/40 - 1s - loss: 276.4896 - val_loss: 1034.5840\nEpoch 14536/15000\n40/40 - 1s - loss: 283.1414 - val_loss: 1033.1393\nEpoch 14537/15000\n40/40 - 1s - loss: 283.7194 - val_loss: 1027.1975\nEpoch 14538/15000\n40/40 - 1s - loss: 282.5946 - val_loss: 1025.0304\nEpoch 14539/15000\n40/40 - 1s - loss: 279.4782 - val_loss: 1028.8844\nEpoch 14540/15000\n40/40 - 1s - loss: 277.4698 - val_loss: 1021.4413\nEpoch 14541/15000\n40/40 - 1s - loss: 295.9809 - val_loss: 1035.4240\nEpoch 14542/15000\n40/40 - 1s - loss: 287.4245 - val_loss: 1031.4601\nEpoch 14543/15000\n40/40 - 1s - loss: 266.9142 - val_loss: 1030.0718\nEpoch 14544/15000\n40/40 - 1s - loss: 266.7193 - val_loss: 1025.3124\nEpoch 14545/15000\n40/40 - 1s - loss: 275.0027 - val_loss: 1035.2878\nEpoch 14546/15000\n40/40 - 1s - loss: 296.0726 - val_loss: 1036.5449\nEpoch 14547/15000\n40/40 - 1s - loss: 291.5011 - val_loss: 1028.9146\nEpoch 14548/15000\n40/40 - 1s - loss: 286.0700 - val_loss: 1013.1215\nEpoch 14549/15000\n40/40 - 1s - loss: 286.1687 - val_loss: 1019.2210\nEpoch 14550/15000\n40/40 - 1s - loss: 274.2712 - val_loss: 1026.0276\nEpoch 14551/15000\n40/40 - 1s - loss: 282.8532 - val_loss: 1024.6576\nEpoch 14552/15000\n40/40 - 1s - loss: 283.9413 - val_loss: 1026.8932\nEpoch 14553/15000\n40/40 - 1s - loss: 287.8877 - val_loss: 1035.5387\nEpoch 14554/15000\n40/40 - 1s - loss: 271.9539 - val_loss: 1034.6528\nEpoch 14555/15000\n40/40 - 1s - loss: 289.2031 - val_loss: 1023.2802\nEpoch 14556/15000\n40/40 - 1s - loss: 284.5145 - val_loss: 1012.7599\nEpoch 14557/15000\n40/40 - 1s - loss: 274.3995 - val_loss: 1032.9714\nEpoch 14558/15000\n40/40 - 1s - loss: 277.2807 - val_loss: 1020.7686\nEpoch 14559/15000\n40/40 - 1s - loss: 277.9360 - val_loss: 1031.3683\nEpoch 14560/15000\n40/40 - 1s - loss: 268.7865 - val_loss: 1033.7532\nEpoch 14561/15000\n40/40 - 1s - loss: 270.6877 - val_loss: 1022.7142\nEpoch 14562/15000\n40/40 - 1s - loss: 289.2708 - val_loss: 1035.9596\nEpoch 14563/15000\n40/40 - 1s - loss: 276.2979 - val_loss: 1031.0332\nEpoch 14564/15000\n40/40 - 1s - loss: 283.9600 - val_loss: 1025.0918\nEpoch 14565/15000\n40/40 - 1s - loss: 277.2196 - val_loss: 1029.3176\nEpoch 14566/15000\n40/40 - 1s - loss: 271.9605 - val_loss: 1038.0535\nEpoch 14567/15000\n40/40 - 1s - loss: 287.3443 - val_loss: 1023.9406\nEpoch 14568/15000\n40/40 - 1s - loss: 280.2549 - val_loss: 1021.0803\nEpoch 14569/15000\n40/40 - 1s - loss: 304.0886 - val_loss: 1029.5994\nEpoch 14570/15000\n40/40 - 1s - loss: 286.3476 - val_loss: 1032.6381\nEpoch 14571/15000\n40/40 - 1s - loss: 276.8261 - val_loss: 1032.6442\nEpoch 14572/15000\n40/40 - 1s - loss: 274.9420 - val_loss: 1033.6051\nEpoch 14573/15000\n40/40 - 1s - loss: 270.6745 - val_loss: 1029.2177\nEpoch 14574/15000\n40/40 - 1s - loss: 305.2758 - val_loss: 1036.5739\nEpoch 14575/15000\n40/40 - 1s - loss: 293.3546 - val_loss: 1047.7355\nEpoch 14576/15000\n40/40 - 1s - loss: 283.1464 - val_loss: 1035.7432\nEpoch 14577/15000\n40/40 - 1s - loss: 278.3928 - val_loss: 1043.3367\nEpoch 14578/15000\n40/40 - 1s - loss: 270.4457 - val_loss: 1037.6918\nEpoch 14579/15000\n40/40 - 1s - loss: 276.5773 - val_loss: 1036.3856\nEpoch 14580/15000\n40/40 - 1s - loss: 282.0353 - val_loss: 1040.1511\nEpoch 14581/15000\n40/40 - 1s - loss: 290.0596 - val_loss: 1031.9152\nEpoch 14582/15000\n40/40 - 1s - loss: 298.0532 - val_loss: 1032.3611\nEpoch 14583/15000\n40/40 - 1s - loss: 281.8973 - val_loss: 1030.6946\nEpoch 14584/15000\n40/40 - 1s - loss: 275.9568 - val_loss: 1041.1614\nEpoch 14585/15000\n40/40 - 1s - loss: 284.2548 - val_loss: 1037.6615\nEpoch 14586/15000\n40/40 - 1s - loss: 293.7808 - val_loss: 1017.0181\nEpoch 14587/15000\n40/40 - 1s - loss: 269.3482 - val_loss: 1034.6947\nEpoch 14588/15000\n40/40 - 1s - loss: 281.9751 - val_loss: 1018.0891\nEpoch 14589/15000\n40/40 - 1s - loss: 280.9157 - val_loss: 1029.5957\nEpoch 14590/15000\n40/40 - 1s - loss: 289.1296 - val_loss: 1054.6292\nEpoch 14591/15000\n40/40 - 1s - loss: 286.1558 - val_loss: 1037.8763\nEpoch 14592/15000\n40/40 - 1s - loss: 265.7690 - val_loss: 1038.2418\nEpoch 14593/15000\n40/40 - 1s - loss: 269.8924 - val_loss: 1024.8519\nEpoch 14594/15000\n40/40 - 1s - loss: 282.1498 - val_loss: 1023.6611\nEpoch 14595/15000\n40/40 - 1s - loss: 272.8748 - val_loss: 1013.9042\nEpoch 14596/15000\n40/40 - 1s - loss: 292.5356 - val_loss: 1035.6290\nEpoch 14597/15000\n40/40 - 1s - loss: 279.2219 - val_loss: 1053.0732\nEpoch 14598/15000\n40/40 - 1s - loss: 292.0878 - val_loss: 1030.6969\nEpoch 14599/15000\n40/40 - 1s - loss: 277.5679 - val_loss: 1033.1177\nEpoch 14600/15000\n40/40 - 1s - loss: 268.1482 - val_loss: 1025.0149\nEpoch 14601/15000\n40/40 - 1s - loss: 288.5195 - val_loss: 1040.7994\nEpoch 14602/15000\n40/40 - 1s - loss: 276.3716 - val_loss: 1023.1779\nEpoch 14603/15000\n40/40 - 1s - loss: 281.2747 - val_loss: 1017.0389\nEpoch 14604/15000\n40/40 - 1s - loss: 298.3738 - val_loss: 1037.9885\nEpoch 14605/15000\n40/40 - 1s - loss: 297.1332 - val_loss: 1025.1250\nEpoch 14606/15000\n40/40 - 1s - loss: 300.7432 - val_loss: 1022.1934\nEpoch 14607/15000\n40/40 - 1s - loss: 296.1203 - val_loss: 1034.9861\nEpoch 14608/15000\n40/40 - 1s - loss: 286.8278 - val_loss: 1055.6455\nEpoch 14609/15000\n40/40 - 1s - loss: 300.4725 - val_loss: 1013.0623\nEpoch 14610/15000\n40/40 - 1s - loss: 276.5368 - val_loss: 1031.5809\nEpoch 14611/15000\n40/40 - 1s - loss: 273.3530 - val_loss: 1039.5638\nEpoch 14612/15000\n40/40 - 1s - loss: 276.4449 - val_loss: 1030.9999\nEpoch 14613/15000\n40/40 - 1s - loss: 278.4259 - val_loss: 1032.1377\nEpoch 14614/15000\n40/40 - 1s - loss: 297.1614 - val_loss: 1041.4781\nEpoch 14615/15000\n40/40 - 1s - loss: 302.0974 - val_loss: 1017.6890\nEpoch 14616/15000\n40/40 - 1s - loss: 298.3338 - val_loss: 1016.6700\nEpoch 14617/15000\n40/40 - 1s - loss: 289.4090 - val_loss: 1035.1724\nEpoch 14618/15000\n40/40 - 1s - loss: 291.9273 - val_loss: 1029.2944\nEpoch 14619/15000\n40/40 - 1s - loss: 279.9202 - val_loss: 1042.7177\nEpoch 14620/15000\n40/40 - 1s - loss: 275.3858 - val_loss: 1034.1451\nEpoch 14621/15000\n40/40 - 1s - loss: 280.6899 - val_loss: 1021.3766\nEpoch 14622/15000\n40/40 - 1s - loss: 294.6520 - val_loss: 1019.3962\nEpoch 14623/15000\n40/40 - 1s - loss: 268.6285 - val_loss: 1023.2641\nEpoch 14624/15000\n40/40 - 1s - loss: 266.2608 - val_loss: 1045.5754\nEpoch 14625/15000\n40/40 - 1s - loss: 288.7555 - val_loss: 1027.7401\nEpoch 14626/15000\n40/40 - 1s - loss: 268.7504 - val_loss: 1032.3947\nEpoch 14627/15000\n40/40 - 1s - loss: 273.7857 - val_loss: 1041.6129\nEpoch 14628/15000\n40/40 - 1s - loss: 289.9457 - val_loss: 1018.6439\nEpoch 14629/15000\n40/40 - 1s - loss: 286.5099 - val_loss: 1022.0645\nEpoch 14630/15000\n40/40 - 1s - loss: 266.8845 - val_loss: 1026.6573\nEpoch 14631/15000\n40/40 - 1s - loss: 275.1655 - val_loss: 1041.2589\nEpoch 14632/15000\n40/40 - 1s - loss: 274.2897 - val_loss: 1020.6719\nEpoch 14633/15000\n40/40 - 1s - loss: 272.9193 - val_loss: 1028.0300\nEpoch 14634/15000\n40/40 - 1s - loss: 276.7017 - val_loss: 1016.5095\nEpoch 14635/15000\n40/40 - 1s - loss: 278.4951 - val_loss: 1043.0682\nEpoch 14636/15000\n40/40 - 1s - loss: 282.8950 - val_loss: 1023.9388\nEpoch 14637/15000\n40/40 - 1s - loss: 277.5933 - val_loss: 1028.1691\nEpoch 14638/15000\n40/40 - 1s - loss: 277.5321 - val_loss: 1020.6625\nEpoch 14639/15000\n40/40 - 1s - loss: 287.8884 - val_loss: 1017.3303\nEpoch 14640/15000\n40/40 - 1s - loss: 286.4016 - val_loss: 1040.7546\nEpoch 14641/15000\n40/40 - 1s - loss: 286.8098 - val_loss: 1040.0951\nEpoch 14642/15000\n40/40 - 1s - loss: 279.1271 - val_loss: 1029.8097\nEpoch 14643/15000\n40/40 - 1s - loss: 283.3016 - val_loss: 1013.3768\nEpoch 14644/15000\n40/40 - 1s - loss: 279.9290 - val_loss: 1023.6191\nEpoch 14645/15000\n40/40 - 1s - loss: 266.0148 - val_loss: 1031.4423\nEpoch 14646/15000\n40/40 - 1s - loss: 287.5690 - val_loss: 1033.6538\nEpoch 14647/15000\n40/40 - 1s - loss: 281.5672 - val_loss: 1022.9628\nEpoch 14648/15000\n40/40 - 1s - loss: 284.7541 - val_loss: 1035.5114\nEpoch 14649/15000\n40/40 - 1s - loss: 259.6020 - val_loss: 1020.1096\nEpoch 14650/15000\n40/40 - 1s - loss: 290.5753 - val_loss: 1023.9704\nEpoch 14651/15000\n40/40 - 1s - loss: 265.7209 - val_loss: 1027.8191\nEpoch 14652/15000\n40/40 - 1s - loss: 274.7041 - val_loss: 1036.1003\nEpoch 14653/15000\n40/40 - 1s - loss: 268.6133 - val_loss: 1040.0435\nEpoch 14654/15000\n40/40 - 1s - loss: 273.8791 - val_loss: 1035.4066\nEpoch 14655/15000\n40/40 - 1s - loss: 267.0045 - val_loss: 1017.6230\nEpoch 14656/15000\n40/40 - 1s - loss: 276.6580 - val_loss: 1017.7976\nEpoch 14657/15000\n40/40 - 1s - loss: 288.4661 - val_loss: 1034.1558\nEpoch 14658/15000\n40/40 - 1s - loss: 278.5979 - val_loss: 1028.4722\nEpoch 14659/15000\n40/40 - 1s - loss: 275.3931 - val_loss: 1023.3765\nEpoch 14660/15000\n40/40 - 1s - loss: 280.2349 - val_loss: 1033.3734\nEpoch 14661/15000\n40/40 - 1s - loss: 278.9612 - val_loss: 1040.4298\nEpoch 14662/15000\n40/40 - 1s - loss: 278.3798 - val_loss: 1028.6587\nEpoch 14663/15000\n40/40 - 1s - loss: 282.7483 - val_loss: 1031.8156\nEpoch 14664/15000\n40/40 - 1s - loss: 268.4169 - val_loss: 1042.1270\nEpoch 14665/15000\n40/40 - 1s - loss: 272.9114 - val_loss: 1048.0723\nEpoch 14666/15000\n40/40 - 1s - loss: 270.0055 - val_loss: 1044.3328\nEpoch 14667/15000\n40/40 - 1s - loss: 269.6439 - val_loss: 1030.2952\nEpoch 14668/15000\n40/40 - 1s - loss: 265.5415 - val_loss: 1026.0857\nEpoch 14669/15000\n40/40 - 1s - loss: 266.9826 - val_loss: 1040.8218\nEpoch 14670/15000\n40/40 - 1s - loss: 269.2880 - val_loss: 1037.3198\nEpoch 14671/15000\n40/40 - 1s - loss: 287.7195 - val_loss: 1040.9424\nEpoch 14672/15000\n40/40 - 1s - loss: 270.2951 - val_loss: 1031.2446\nEpoch 14673/15000\n40/40 - 1s - loss: 267.1251 - val_loss: 1043.6315\nEpoch 14674/15000\n40/40 - 2s - loss: 276.8618 - val_loss: 1025.1018\nEpoch 14675/15000\n40/40 - 1s - loss: 287.5011 - val_loss: 1036.5840\nEpoch 14676/15000\n40/40 - 1s - loss: 284.3741 - val_loss: 1043.0669\nEpoch 14677/15000\n40/40 - 2s - loss: 287.5587 - val_loss: 1025.2531\nEpoch 14678/15000\n40/40 - 2s - loss: 272.0482 - val_loss: 1030.8003\nEpoch 14679/15000\n40/40 - 2s - loss: 293.0911 - val_loss: 1019.4693\nEpoch 14680/15000\n40/40 - 2s - loss: 281.1155 - val_loss: 1033.9578\nEpoch 14681/15000\n40/40 - 1s - loss: 291.6341 - val_loss: 1013.4453\nEpoch 14682/15000\n40/40 - 1s - loss: 287.0968 - val_loss: 1036.1227\nEpoch 14683/15000\n40/40 - 1s - loss: 275.6096 - val_loss: 1041.2950\nEpoch 14684/15000\n40/40 - 1s - loss: 287.8037 - val_loss: 1028.8300\nEpoch 14685/15000\n40/40 - 1s - loss: 279.2533 - val_loss: 1029.4384\nEpoch 14686/15000\n40/40 - 1s - loss: 274.0479 - val_loss: 1048.2841\nEpoch 14687/15000\n40/40 - 1s - loss: 271.1109 - val_loss: 1037.1704\nEpoch 14688/15000\n40/40 - 1s - loss: 276.2531 - val_loss: 1054.3186\nEpoch 14689/15000\n40/40 - 1s - loss: 286.8095 - val_loss: 1022.2177\nEpoch 14690/15000\n40/40 - 1s - loss: 290.2000 - val_loss: 1022.7776\nEpoch 14691/15000\n40/40 - 1s - loss: 308.1586 - val_loss: 1027.5746\nEpoch 14692/15000\n40/40 - 1s - loss: 282.7612 - val_loss: 1032.3461\nEpoch 14693/15000\n40/40 - 2s - loss: 282.9474 - val_loss: 1035.6338\nEpoch 14694/15000\n40/40 - 2s - loss: 278.6310 - val_loss: 1031.9869\nEpoch 14695/15000\n40/40 - 1s - loss: 264.1072 - val_loss: 1028.0731\nEpoch 14696/15000\n40/40 - 1s - loss: 263.2118 - val_loss: 1036.8409\nEpoch 14697/15000\n40/40 - 1s - loss: 264.9917 - val_loss: 1039.6448\nEpoch 14698/15000\n40/40 - 1s - loss: 273.4354 - val_loss: 1044.8578\nEpoch 14699/15000\n40/40 - 1s - loss: 259.9659 - val_loss: 1035.2015\nEpoch 14700/15000\n40/40 - 1s - loss: 272.1877 - val_loss: 1030.5052\nEpoch 14701/15000\n40/40 - 1s - loss: 270.6220 - val_loss: 1033.7002\nEpoch 14702/15000\n40/40 - 1s - loss: 266.6130 - val_loss: 1033.5421\nEpoch 14703/15000\n40/40 - 1s - loss: 286.0313 - val_loss: 1024.8616\nEpoch 14704/15000\n40/40 - 1s - loss: 284.9952 - val_loss: 1034.8248\nEpoch 14705/15000\n40/40 - 1s - loss: 320.5929 - val_loss: 1031.5566\nEpoch 14706/15000\n40/40 - 1s - loss: 303.0807 - val_loss: 1029.4930\nEpoch 14707/15000\n40/40 - 1s - loss: 280.6474 - val_loss: 1025.1002\nEpoch 14708/15000\n40/40 - 1s - loss: 291.0005 - val_loss: 1037.8931\nEpoch 14709/15000\n40/40 - 1s - loss: 292.5186 - val_loss: 1038.0468\nEpoch 14710/15000\n40/40 - 1s - loss: 308.4908 - val_loss: 1038.0830\nEpoch 14711/15000\n40/40 - 1s - loss: 277.9926 - val_loss: 1031.8160\nEpoch 14712/15000\n40/40 - 1s - loss: 270.5771 - val_loss: 1029.9572\nEpoch 14713/15000\n40/40 - 1s - loss: 287.4097 - val_loss: 1027.0911\nEpoch 14714/15000\n40/40 - 1s - loss: 278.6591 - val_loss: 1038.5308\nEpoch 14715/15000\n40/40 - 1s - loss: 268.1651 - val_loss: 1027.0813\nEpoch 14716/15000\n40/40 - 1s - loss: 263.0134 - val_loss: 1038.2458\nEpoch 14717/15000\n40/40 - 1s - loss: 263.6164 - val_loss: 1031.5754\nEpoch 14718/15000\n40/40 - 1s - loss: 274.9658 - val_loss: 1045.8374\nEpoch 14719/15000\n40/40 - 1s - loss: 289.4475 - val_loss: 1020.5173\nEpoch 14720/15000\n40/40 - 1s - loss: 271.8279 - val_loss: 1020.0156\nEpoch 14721/15000\n40/40 - 1s - loss: 276.5074 - val_loss: 1027.5786\nEpoch 14722/15000\n40/40 - 1s - loss: 280.1938 - val_loss: 1025.2880\nEpoch 14723/15000\n40/40 - 1s - loss: 269.0197 - val_loss: 1027.5570\nEpoch 14724/15000\n40/40 - 1s - loss: 284.4286 - val_loss: 1024.3116\nEpoch 14725/15000\n40/40 - 1s - loss: 265.9913 - val_loss: 1028.0349\nEpoch 14726/15000\n40/40 - 1s - loss: 267.3887 - val_loss: 1026.0189\nEpoch 14727/15000\n40/40 - 1s - loss: 284.2610 - val_loss: 1043.3625\nEpoch 14728/15000\n40/40 - 1s - loss: 284.7845 - val_loss: 1045.3383\nEpoch 14729/15000\n40/40 - 1s - loss: 278.5868 - val_loss: 1039.8431\nEpoch 14730/15000\n40/40 - 1s - loss: 275.1764 - val_loss: 1018.6929\nEpoch 14731/15000\n40/40 - 1s - loss: 286.9257 - val_loss: 1039.2137\nEpoch 14732/15000\n40/40 - 1s - loss: 311.9868 - val_loss: 1028.4364\nEpoch 14733/15000\n40/40 - 1s - loss: 273.5012 - val_loss: 1016.4524\nEpoch 14734/15000\n40/40 - 1s - loss: 287.2696 - val_loss: 1024.2631\nEpoch 14735/15000\n40/40 - 1s - loss: 282.7921 - val_loss: 1032.6749\nEpoch 14736/15000\n40/40 - 1s - loss: 286.3530 - val_loss: 1027.8715\nEpoch 14737/15000\n40/40 - 1s - loss: 276.7891 - val_loss: 1044.4471\nEpoch 14738/15000\n40/40 - 1s - loss: 278.7092 - val_loss: 1022.5535\nEpoch 14739/15000\n40/40 - 1s - loss: 263.1486 - val_loss: 1035.7611\nEpoch 14740/15000\n40/40 - 1s - loss: 263.0151 - val_loss: 1028.6128\nEpoch 14741/15000\n40/40 - 1s - loss: 325.3145 - val_loss: 1034.9291\nEpoch 14742/15000\n40/40 - 1s - loss: 277.7354 - val_loss: 1042.3403\nEpoch 14743/15000\n40/40 - 1s - loss: 284.3427 - val_loss: 1025.1864\nEpoch 14744/15000\n40/40 - 1s - loss: 274.1683 - val_loss: 1044.3303\nEpoch 14745/15000\n40/40 - 1s - loss: 259.1945 - val_loss: 1027.0835\nEpoch 14746/15000\n40/40 - 1s - loss: 264.9043 - val_loss: 1028.5686\nEpoch 14747/15000\n40/40 - 1s - loss: 266.9291 - val_loss: 1049.0166\nEpoch 14748/15000\n40/40 - 1s - loss: 273.1447 - val_loss: 1033.5762\nEpoch 14749/15000\n40/40 - 1s - loss: 269.5930 - val_loss: 1035.2865\nEpoch 14750/15000\n40/40 - 1s - loss: 271.5290 - val_loss: 1049.7810\nEpoch 14751/15000\n40/40 - 1s - loss: 313.7982 - val_loss: 1037.0146\nEpoch 14752/15000\n40/40 - 1s - loss: 294.4274 - val_loss: 1043.8765\nEpoch 14753/15000\n40/40 - 1s - loss: 279.6910 - val_loss: 1027.4672\nEpoch 14754/15000\n40/40 - 1s - loss: 287.6789 - val_loss: 1043.3527\nEpoch 14755/15000\n40/40 - 1s - loss: 288.5632 - val_loss: 1015.6137\nEpoch 14756/15000\n40/40 - 1s - loss: 281.9968 - val_loss: 1032.0305\nEpoch 14757/15000\n40/40 - 1s - loss: 281.4479 - val_loss: 1047.2582\nEpoch 14758/15000\n40/40 - 1s - loss: 283.1938 - val_loss: 1040.6251\nEpoch 14759/15000\n40/40 - 1s - loss: 281.1035 - val_loss: 1029.0978\nEpoch 14760/15000\n40/40 - 1s - loss: 276.7732 - val_loss: 1044.7711\nEpoch 14761/15000\n40/40 - 1s - loss: 296.1394 - val_loss: 1040.0100\nEpoch 14762/15000\n40/40 - 1s - loss: 283.1460 - val_loss: 1036.0579\nEpoch 14763/15000\n40/40 - 1s - loss: 283.4662 - val_loss: 1036.9899\nEpoch 14764/15000\n40/40 - 1s - loss: 281.4006 - val_loss: 1024.9785\nEpoch 14765/15000\n40/40 - 1s - loss: 283.7860 - val_loss: 1018.3073\nEpoch 14766/15000\n40/40 - 1s - loss: 283.6353 - val_loss: 1025.0154\nEpoch 14767/15000\n40/40 - 1s - loss: 276.8939 - val_loss: 1021.3339\nEpoch 14768/15000\n40/40 - 1s - loss: 270.9977 - val_loss: 1045.3801\nEpoch 14769/15000\n40/40 - 1s - loss: 288.6884 - val_loss: 1036.2942\nEpoch 14770/15000\n40/40 - 1s - loss: 268.5112 - val_loss: 1018.8047\nEpoch 14771/15000\n40/40 - 1s - loss: 278.1020 - val_loss: 1018.7759\nEpoch 14772/15000\n40/40 - 2s - loss: 285.9081 - val_loss: 1026.3243\nEpoch 14773/15000\n40/40 - 1s - loss: 293.9339 - val_loss: 1040.5396\nEpoch 14774/15000\n40/40 - 1s - loss: 289.9104 - val_loss: 1033.1400\nEpoch 14775/15000\n40/40 - 1s - loss: 284.5665 - val_loss: 1023.9916\nEpoch 14776/15000\n40/40 - 1s - loss: 285.8892 - val_loss: 1027.7551\nEpoch 14777/15000\n40/40 - 1s - loss: 274.5785 - val_loss: 1038.1124\nEpoch 14778/15000\n40/40 - 1s - loss: 279.3025 - val_loss: 1015.0891\nEpoch 14779/15000\n40/40 - 1s - loss: 286.4722 - val_loss: 1029.2114\nEpoch 14780/15000\n40/40 - 1s - loss: 264.2874 - val_loss: 1038.2666\nEpoch 14781/15000\n40/40 - 1s - loss: 266.1198 - val_loss: 1037.0730\nEpoch 14782/15000\n40/40 - 1s - loss: 284.6372 - val_loss: 1043.8035\nEpoch 14783/15000\n40/40 - 1s - loss: 287.4021 - val_loss: 1027.7458\nEpoch 14784/15000\n40/40 - 1s - loss: 292.0378 - val_loss: 1027.3170\nEpoch 14785/15000\n40/40 - 1s - loss: 285.0879 - val_loss: 1025.4105\nEpoch 14786/15000\n40/40 - 1s - loss: 279.0149 - val_loss: 1031.3693\nEpoch 14787/15000\n40/40 - 1s - loss: 272.3037 - val_loss: 1044.9586\nEpoch 14788/15000\n40/40 - 1s - loss: 283.4259 - val_loss: 1058.8809\nEpoch 14789/15000\n40/40 - 1s - loss: 277.1550 - val_loss: 1038.8875\nEpoch 14790/15000\n40/40 - 1s - loss: 268.4230 - val_loss: 1029.8055\nEpoch 14791/15000\n40/40 - 1s - loss: 270.6817 - val_loss: 1015.1077\nEpoch 14792/15000\n40/40 - 1s - loss: 276.6960 - val_loss: 1028.1410\nEpoch 14793/15000\n40/40 - 1s - loss: 274.2572 - val_loss: 1026.6376\nEpoch 14794/15000\n40/40 - 1s - loss: 276.3867 - val_loss: 1020.6669\nEpoch 14795/15000\n40/40 - 1s - loss: 308.5616 - val_loss: 1038.9866\nEpoch 14796/15000\n40/40 - 1s - loss: 286.0149 - val_loss: 1020.6282\nEpoch 14797/15000\n40/40 - 1s - loss: 284.6519 - val_loss: 1020.3376\nEpoch 14798/15000\n40/40 - 1s - loss: 271.2947 - val_loss: 1030.5668\nEpoch 14799/15000\n40/40 - 1s - loss: 282.8641 - val_loss: 1040.5675\nEpoch 14800/15000\n40/40 - 1s - loss: 282.6788 - val_loss: 1020.9312\nEpoch 14801/15000\n40/40 - 1s - loss: 274.8807 - val_loss: 1025.1976\nEpoch 14802/15000\n40/40 - 1s - loss: 274.5850 - val_loss: 1032.1741\nEpoch 14803/15000\n40/40 - 1s - loss: 269.6300 - val_loss: 1034.7068\nEpoch 14804/15000\n40/40 - 1s - loss: 298.2257 - val_loss: 1031.9547\nEpoch 14805/15000\n40/40 - 1s - loss: 271.0415 - val_loss: 1029.7562\nEpoch 14806/15000\n40/40 - 1s - loss: 261.1056 - val_loss: 1040.6904\nEpoch 14807/15000\n40/40 - 1s - loss: 270.0537 - val_loss: 1031.5251\nEpoch 14808/15000\n40/40 - 1s - loss: 278.6494 - val_loss: 1029.6095\nEpoch 14809/15000\n40/40 - 1s - loss: 270.0058 - val_loss: 1032.4657\nEpoch 14810/15000\n40/40 - 1s - loss: 284.6676 - val_loss: 1044.0851\nEpoch 14811/15000\n40/40 - 1s - loss: 272.1678 - val_loss: 1035.6366\nEpoch 14812/15000\n40/40 - 1s - loss: 271.4094 - val_loss: 1042.3060\nEpoch 14813/15000\n40/40 - 1s - loss: 265.7036 - val_loss: 1025.0210\nEpoch 14814/15000\n40/40 - 1s - loss: 289.5420 - val_loss: 1042.3732\nEpoch 14815/15000\n40/40 - 1s - loss: 291.2868 - val_loss: 1033.0519\nEpoch 14816/15000\n40/40 - 1s - loss: 287.1834 - val_loss: 1022.6061\nEpoch 14817/15000\n40/40 - 1s - loss: 277.6384 - val_loss: 1048.2316\nEpoch 14818/15000\n40/40 - 1s - loss: 285.2009 - val_loss: 1032.8646\nEpoch 14819/15000\n40/40 - 1s - loss: 298.4295 - val_loss: 1033.5103\nEpoch 14820/15000\n40/40 - 1s - loss: 281.4295 - val_loss: 1026.4484\nEpoch 14821/15000\n40/40 - 1s - loss: 289.0621 - val_loss: 1027.3726\nEpoch 14822/15000\n40/40 - 1s - loss: 280.3347 - val_loss: 1034.1210\nEpoch 14823/15000\n40/40 - 1s - loss: 270.4136 - val_loss: 1032.6061\nEpoch 14824/15000\n40/40 - 1s - loss: 294.1383 - val_loss: 1031.2985\nEpoch 14825/15000\n40/40 - 1s - loss: 303.1177 - val_loss: 1027.1267\nEpoch 14826/15000\n40/40 - 1s - loss: 278.2251 - val_loss: 1050.4573\nEpoch 14827/15000\n40/40 - 1s - loss: 289.2550 - val_loss: 1016.1479\nEpoch 14828/15000\n40/40 - 1s - loss: 288.4594 - val_loss: 1054.7081\nEpoch 14829/15000\n40/40 - 1s - loss: 276.2684 - val_loss: 1035.5323\nEpoch 14830/15000\n40/40 - 1s - loss: 293.1157 - val_loss: 1029.6818\nEpoch 14831/15000\n40/40 - 1s - loss: 292.9598 - val_loss: 1030.3010\nEpoch 14832/15000\n40/40 - 1s - loss: 280.2899 - val_loss: 1023.9506\nEpoch 14833/15000\n40/40 - 1s - loss: 286.1758 - val_loss: 1031.3572\nEpoch 14834/15000\n40/40 - 1s - loss: 282.0287 - val_loss: 1030.0170\nEpoch 14835/15000\n40/40 - 1s - loss: 272.0289 - val_loss: 1041.7175\nEpoch 14836/15000\n40/40 - 1s - loss: 267.7732 - val_loss: 1031.8668\nEpoch 14837/15000\n40/40 - 1s - loss: 275.3903 - val_loss: 1041.2782\nEpoch 14838/15000\n40/40 - 1s - loss: 272.1675 - val_loss: 1028.4618\nEpoch 14839/15000\n40/40 - 1s - loss: 276.7926 - val_loss: 1045.0580\nEpoch 14840/15000\n40/40 - 1s - loss: 283.4991 - val_loss: 1035.5824\nEpoch 14841/15000\n40/40 - 1s - loss: 292.3874 - val_loss: 1035.1970\nEpoch 14842/15000\n40/40 - 1s - loss: 291.1549 - val_loss: 1022.4071\nEpoch 14843/15000\n40/40 - 1s - loss: 283.5002 - val_loss: 1038.5679\nEpoch 14844/15000\n40/40 - 1s - loss: 266.4762 - val_loss: 1051.4547\nEpoch 14845/15000\n40/40 - 1s - loss: 280.7259 - val_loss: 1041.9618\nEpoch 14846/15000\n40/40 - 2s - loss: 284.2772 - val_loss: 1045.2711\nEpoch 14847/15000\n40/40 - 1s - loss: 277.7450 - val_loss: 1015.7935\nEpoch 14848/15000\n40/40 - 1s - loss: 270.3146 - val_loss: 1032.3518\nEpoch 14849/15000\n40/40 - 1s - loss: 295.6022 - val_loss: 1024.6069\nEpoch 14850/15000\n40/40 - 1s - loss: 294.3278 - val_loss: 1016.2546\nEpoch 14851/15000\n40/40 - 1s - loss: 282.3990 - val_loss: 1027.5471\nEpoch 14852/15000\n40/40 - 1s - loss: 268.6826 - val_loss: 1035.5991\nEpoch 14853/15000\n40/40 - 1s - loss: 259.0162 - val_loss: 1022.3436\nEpoch 14854/15000\n40/40 - 1s - loss: 271.1347 - val_loss: 1042.5728\nEpoch 14855/15000\n40/40 - 1s - loss: 277.6565 - val_loss: 1030.1266\nEpoch 14856/15000\n40/40 - 1s - loss: 273.5559 - val_loss: 1033.3765\nEpoch 14857/15000\n40/40 - 1s - loss: 256.9063 - val_loss: 1037.8793\nEpoch 14858/15000\n40/40 - 1s - loss: 283.5674 - val_loss: 1019.0040\nEpoch 14859/15000\n40/40 - 1s - loss: 281.9237 - val_loss: 1035.3855\nEpoch 14860/15000\n40/40 - 1s - loss: 286.6963 - val_loss: 1050.6437\nEpoch 14861/15000\n40/40 - 1s - loss: 287.3186 - val_loss: 1022.3032\nEpoch 14862/15000\n40/40 - 2s - loss: 279.3438 - val_loss: 1023.2205\nEpoch 14863/15000\n40/40 - 1s - loss: 271.4330 - val_loss: 1038.8300\nEpoch 14864/15000\n40/40 - 1s - loss: 264.7975 - val_loss: 1042.3365\nEpoch 14865/15000\n40/40 - 1s - loss: 298.8650 - val_loss: 1018.1111\nEpoch 14866/15000\n40/40 - 1s - loss: 307.5042 - val_loss: 1045.8636\nEpoch 14867/15000\n40/40 - 1s - loss: 311.1538 - val_loss: 1036.3785\nEpoch 14868/15000\n40/40 - 1s - loss: 263.2031 - val_loss: 1032.7421\nEpoch 14869/15000\n40/40 - 1s - loss: 285.4029 - val_loss: 1033.3655\nEpoch 14870/15000\n40/40 - 1s - loss: 272.4832 - val_loss: 1035.3231\nEpoch 14871/15000\n40/40 - 1s - loss: 279.0873 - val_loss: 1033.6543\nEpoch 14872/15000\n40/40 - 1s - loss: 286.8551 - val_loss: 1033.1184\nEpoch 14873/15000\n40/40 - 1s - loss: 292.3628 - val_loss: 1023.1453\nEpoch 14874/15000\n40/40 - 1s - loss: 277.8354 - val_loss: 1023.1885\nEpoch 14875/15000\n40/40 - 1s - loss: 284.5529 - val_loss: 1043.1222\nEpoch 14876/15000\n40/40 - 1s - loss: 275.4266 - val_loss: 1030.6205\nEpoch 14877/15000\n40/40 - 1s - loss: 273.5092 - val_loss: 1047.2880\nEpoch 14878/15000\n40/40 - 1s - loss: 279.3318 - val_loss: 1030.5162\nEpoch 14879/15000\n40/40 - 1s - loss: 274.9101 - val_loss: 1031.8173\nEpoch 14880/15000\n40/40 - 1s - loss: 280.2350 - val_loss: 1024.2531\nEpoch 14881/15000\n40/40 - 1s - loss: 280.2735 - val_loss: 1038.4677\nEpoch 14882/15000\n40/40 - 1s - loss: 281.1537 - val_loss: 1024.9047\nEpoch 14883/15000\n40/40 - 1s - loss: 273.1879 - val_loss: 1040.3199\nEpoch 14884/15000\n40/40 - 1s - loss: 292.7682 - val_loss: 1033.9983\nEpoch 14885/15000\n40/40 - 1s - loss: 278.6650 - val_loss: 1025.5363\nEpoch 14886/15000\n40/40 - 1s - loss: 274.2075 - val_loss: 1038.8279\nEpoch 14887/15000\n40/40 - 1s - loss: 284.4919 - val_loss: 1034.0938\nEpoch 14888/15000\n40/40 - 1s - loss: 299.7102 - val_loss: 1036.5150\nEpoch 14889/15000\n40/40 - 1s - loss: 289.8075 - val_loss: 1025.7943\nEpoch 14890/15000\n40/40 - 1s - loss: 272.7574 - val_loss: 1035.6788\nEpoch 14891/15000\n40/40 - 1s - loss: 275.8631 - val_loss: 1043.5439\nEpoch 14892/15000\n40/40 - 1s - loss: 275.0842 - val_loss: 1033.9370\nEpoch 14893/15000\n40/40 - 1s - loss: 284.2430 - val_loss: 1025.0192\nEpoch 14894/15000\n40/40 - 1s - loss: 301.0570 - val_loss: 1037.3376\nEpoch 14895/15000\n40/40 - 1s - loss: 291.3960 - val_loss: 1031.8838\nEpoch 14896/15000\n40/40 - 1s - loss: 279.1942 - val_loss: 1039.4448\nEpoch 14897/15000\n40/40 - 1s - loss: 272.1078 - val_loss: 1054.8213\nEpoch 14898/15000\n40/40 - 1s - loss: 281.3947 - val_loss: 1035.9639\nEpoch 14899/15000\n40/40 - 1s - loss: 276.4972 - val_loss: 1039.3206\nEpoch 14900/15000\n40/40 - 1s - loss: 271.8552 - val_loss: 1025.4237\nEpoch 14901/15000\n40/40 - 1s - loss: 283.9521 - val_loss: 1047.9939\nEpoch 14902/15000\n40/40 - 1s - loss: 282.3622 - val_loss: 1025.7385\nEpoch 14903/15000\n40/40 - 1s - loss: 274.7831 - val_loss: 1045.6141\nEpoch 14904/15000\n40/40 - 1s - loss: 275.0460 - val_loss: 1039.8503\nEpoch 14905/15000\n40/40 - 1s - loss: 266.4592 - val_loss: 1049.8198\nEpoch 14906/15000\n40/40 - 1s - loss: 282.3100 - val_loss: 1036.3575\nEpoch 14907/15000\n40/40 - 1s - loss: 273.0612 - val_loss: 1034.7098\nEpoch 14908/15000\n40/40 - 1s - loss: 277.3533 - val_loss: 1030.3799\nEpoch 14909/15000\n40/40 - 1s - loss: 271.4196 - val_loss: 1024.4886\nEpoch 14910/15000\n40/40 - 1s - loss: 267.3377 - val_loss: 1037.4180\nEpoch 14911/15000\n40/40 - 1s - loss: 282.0509 - val_loss: 1024.5551\nEpoch 14912/15000\n40/40 - 2s - loss: 289.5229 - val_loss: 1034.1605\nEpoch 14913/15000\n40/40 - 1s - loss: 272.4276 - val_loss: 1034.5924\nEpoch 14914/15000\n40/40 - 1s - loss: 279.8360 - val_loss: 1027.8218\nEpoch 14915/15000\n40/40 - 1s - loss: 290.5739 - val_loss: 1034.6581\nEpoch 14916/15000\n40/40 - 1s - loss: 265.6425 - val_loss: 1022.7016\nEpoch 14917/15000\n40/40 - 1s - loss: 283.5124 - val_loss: 1033.6454\nEpoch 14918/15000\n40/40 - 1s - loss: 288.5582 - val_loss: 1025.5339\nEpoch 14919/15000\n40/40 - 1s - loss: 264.4981 - val_loss: 1018.0867\nEpoch 14920/15000\n40/40 - 1s - loss: 270.6821 - val_loss: 1033.2427\nEpoch 14921/15000\n40/40 - 1s - loss: 292.7234 - val_loss: 1047.2369\nEpoch 14922/15000\n40/40 - 1s - loss: 288.5570 - val_loss: 1037.5896\nEpoch 14923/15000\n40/40 - 1s - loss: 282.6329 - val_loss: 1026.3958\nEpoch 14924/15000\n40/40 - 1s - loss: 277.5758 - val_loss: 1039.5138\nEpoch 14925/15000\n40/40 - 1s - loss: 279.7247 - val_loss: 1022.7729\nEpoch 14926/15000\n40/40 - 1s - loss: 281.6242 - val_loss: 1029.2383\nEpoch 14927/15000\n40/40 - 1s - loss: 271.7343 - val_loss: 1034.4805\nEpoch 14928/15000\n40/40 - 1s - loss: 271.2247 - val_loss: 1032.9243\nEpoch 14929/15000\n40/40 - 1s - loss: 285.7112 - val_loss: 1038.5109\nEpoch 14930/15000\n40/40 - 1s - loss: 285.3334 - val_loss: 1041.6201\nEpoch 14931/15000\n40/40 - 1s - loss: 279.6744 - val_loss: 1025.8499\nEpoch 14932/15000\n40/40 - 1s - loss: 283.1789 - val_loss: 1025.6050\nEpoch 14933/15000\n40/40 - 1s - loss: 295.3647 - val_loss: 1027.8152\nEpoch 14934/15000\n40/40 - 1s - loss: 267.4709 - val_loss: 1033.4097\nEpoch 14935/15000\n40/40 - 1s - loss: 276.0377 - val_loss: 1029.2635\nEpoch 14936/15000\n40/40 - 1s - loss: 293.7698 - val_loss: 1048.7070\nEpoch 14937/15000\n40/40 - 1s - loss: 281.1216 - val_loss: 1033.1456\nEpoch 14938/15000\n40/40 - 1s - loss: 274.8420 - val_loss: 1028.6742\nEpoch 14939/15000\n40/40 - 1s - loss: 264.1159 - val_loss: 1048.8368\nEpoch 14940/15000\n40/40 - 1s - loss: 281.1838 - val_loss: 1037.1409\nEpoch 14941/15000\n40/40 - 1s - loss: 271.5032 - val_loss: 1025.6202\nEpoch 14942/15000\n40/40 - 1s - loss: 279.8688 - val_loss: 1031.1174\nEpoch 14943/15000\n40/40 - 1s - loss: 305.0905 - val_loss: 1039.9833\nEpoch 14944/15000\n40/40 - 1s - loss: 279.1458 - val_loss: 1037.9315\nEpoch 14945/15000\n40/40 - 1s - loss: 276.7203 - val_loss: 1044.5992\nEpoch 14946/15000\n40/40 - 1s - loss: 279.9330 - val_loss: 1039.3873\nEpoch 14947/15000\n40/40 - 1s - loss: 290.1931 - val_loss: 1039.4772\nEpoch 14948/15000\n40/40 - 1s - loss: 289.9516 - val_loss: 1025.7136\nEpoch 14949/15000\n40/40 - 1s - loss: 280.1502 - val_loss: 1042.6680\nEpoch 14950/15000\n40/40 - 1s - loss: 268.0951 - val_loss: 1046.2233\nEpoch 14951/15000\n40/40 - 1s - loss: 265.4735 - val_loss: 1028.1313\nEpoch 14952/15000\n40/40 - 1s - loss: 260.2938 - val_loss: 1035.1243\nEpoch 14953/15000\n40/40 - 1s - loss: 285.0657 - val_loss: 1030.1385\nEpoch 14954/15000\n40/40 - 1s - loss: 295.9831 - val_loss: 1022.6771\nEpoch 14955/15000\n40/40 - 1s - loss: 280.5753 - val_loss: 1032.3668\nEpoch 14956/15000\n40/40 - 1s - loss: 269.2979 - val_loss: 1037.5968\nEpoch 14957/15000\n40/40 - 1s - loss: 273.6945 - val_loss: 1043.4183\nEpoch 14958/15000\n40/40 - 1s - loss: 279.9814 - val_loss: 1030.4917\nEpoch 14959/15000\n40/40 - 1s - loss: 309.6190 - val_loss: 1022.6260\nEpoch 14960/15000\n40/40 - 1s - loss: 294.7831 - val_loss: 1038.2690\nEpoch 14961/15000\n40/40 - 1s - loss: 280.6743 - val_loss: 1034.6895\nEpoch 14962/15000\n40/40 - 2s - loss: 271.0669 - val_loss: 1038.9569\nEpoch 14963/15000\n40/40 - 1s - loss: 279.9216 - val_loss: 1035.8123\nEpoch 14964/15000\n40/40 - 1s - loss: 260.5546 - val_loss: 1030.3336\nEpoch 14965/15000\n40/40 - 1s - loss: 283.9789 - val_loss: 1026.7793\nEpoch 14966/15000\n40/40 - 1s - loss: 305.3805 - val_loss: 1040.3469\nEpoch 14967/15000\n40/40 - 1s - loss: 285.7610 - val_loss: 1030.3391\nEpoch 14968/15000\n40/40 - 1s - loss: 265.6519 - val_loss: 1031.3870\nEpoch 14969/15000\n40/40 - 1s - loss: 300.9228 - val_loss: 1036.7773\nEpoch 14970/15000\n40/40 - 1s - loss: 284.6095 - val_loss: 1027.3025\nEpoch 14971/15000\n40/40 - 1s - loss: 296.2393 - val_loss: 1032.6718\nEpoch 14972/15000\n40/40 - 1s - loss: 263.5575 - val_loss: 1040.4087\nEpoch 14973/15000\n40/40 - 1s - loss: 256.5976 - val_loss: 1031.6886\nEpoch 14974/15000\n40/40 - 1s - loss: 274.9467 - val_loss: 1032.9185\nEpoch 14975/15000\n40/40 - 1s - loss: 273.9825 - val_loss: 1041.7416\nEpoch 14976/15000\n40/40 - 1s - loss: 276.5898 - val_loss: 1033.3723\nEpoch 14977/15000\n40/40 - 1s - loss: 275.0329 - val_loss: 1034.6108\nEpoch 14978/15000\n40/40 - 1s - loss: 262.6259 - val_loss: 1038.1187\nEpoch 14979/15000\n40/40 - 1s - loss: 271.6690 - val_loss: 1024.4689\nEpoch 14980/15000\n40/40 - 1s - loss: 276.3646 - val_loss: 1033.0483\nEpoch 14981/15000\n40/40 - 1s - loss: 268.2132 - val_loss: 1031.6451\nEpoch 14982/15000\n40/40 - 1s - loss: 265.6866 - val_loss: 1030.9161\nEpoch 14983/15000\n40/40 - 1s - loss: 287.6670 - val_loss: 1035.8348\nEpoch 14984/15000\n40/40 - 1s - loss: 291.2678 - val_loss: 1043.0128\nEpoch 14985/15000\n40/40 - 1s - loss: 278.6622 - val_loss: 1022.4996\nEpoch 14986/15000\n40/40 - 1s - loss: 285.9131 - val_loss: 1051.2076\nEpoch 14987/15000\n40/40 - 1s - loss: 278.9680 - val_loss: 1038.7659\nEpoch 14988/15000\n40/40 - 1s - loss: 271.5668 - val_loss: 1041.0879\nEpoch 14989/15000\n40/40 - 1s - loss: 266.0992 - val_loss: 1043.9274\nEpoch 14990/15000\n40/40 - 1s - loss: 269.4916 - val_loss: 1047.5568\nEpoch 14991/15000\n40/40 - 1s - loss: 288.5996 - val_loss: 1042.6777\nEpoch 14992/15000\n40/40 - 1s - loss: 291.2740 - val_loss: 1038.5077\nEpoch 14993/15000\n40/40 - 1s - loss: 280.8835 - val_loss: 1045.3196\nEpoch 14994/15000\n40/40 - 1s - loss: 270.2932 - val_loss: 1026.5609\nEpoch 14995/15000\n40/40 - 1s - loss: 270.7180 - val_loss: 1045.6263\nEpoch 14996/15000\n40/40 - 1s - loss: 271.9215 - val_loss: 1028.8970\nEpoch 14997/15000\n40/40 - 1s - loss: 277.5828 - val_loss: 1036.2914\nEpoch 14998/15000\n40/40 - 1s - loss: 275.4990 - val_loss: 1036.3201\nEpoch 14999/15000\n40/40 - 1s - loss: 281.6561 - val_loss: 1041.3328\nEpoch 15000/15000\n40/40 - 1s - loss: 285.3999 - val_loss: 1025.2594\nCPU times: user 6h 21min 50s, sys: 21min 8s, total: 6h 42min 58s\nWall time: 6h 8min 31s\n",
     "output_type": "stream",
     "data": {}
    }
   ],
   "execution_count": null
  },
  {
   "cell_type": "markdown",
   "source": "#### Task 4: Generate predictions for the test dataset",
   "metadata": {
    "id": "T24YPQR6l8_a",
    "cell_id": "00063-9dd57117-a6c8-4bcb-84cb-5bb27d09ffa6",
    "deepnote_cell_type": "markdown"
   }
  },
  {
   "cell_type": "code",
   "metadata": {
    "colab": {
     "base_uri": "https://localhost:8080/"
    },
    "id": "9b3qiRozk8-u",
    "outputId": "9a6daefd-6338-4171-83c6-b2142a5d32e3",
    "cell_id": "00064-e7893b2e-69ea-442f-9530-5063a4959dbf",
    "deepnote_output_heights": [
     232.25
    ],
    "deepnote_to_be_reexecuted": false,
    "source_hash": "c81b2580",
    "execution_start": 1639763342557,
    "execution_millis": 508,
    "deepnote_cell_type": "code"
   },
   "source": "X_test = df_test.drop(['Item_Identifier', 'Outlet_Identifier', 'Item_Outlet_Sales'], axis = 1)\ndf_test['Item_Outlet_Sales']  = model.predict(X_test)\ndf_test['Item_Outlet_Sales']  ",
   "outputs": [
    {
     "output_type": "execute_result",
     "execution_count": 21,
     "data": {
      "text/plain": "0       3744.909912\n1       1628.180054\n2       3741.788574\n3       5343.910645\n4        617.084473\n           ...     \n3518    6000.146484\n3519    1784.040405\n3520     644.494690\n3521    2242.289551\n3522     976.317383\nName: Item_Outlet_Sales, Length: 3523, dtype: float32"
     },
     "metadata": {}
    }
   ],
   "execution_count": null
  },
  {
   "cell_type": "code",
   "metadata": {
    "colab": {
     "base_uri": "https://localhost:8080/",
     "height": 206
    },
    "id": "AWolkMmlmQQH",
    "outputId": "80934d80-10e6-4e35-a56d-6050cd0995a2",
    "cell_id": "00065-acfc02f3-1d3c-4ae2-9993-17061d177e6e",
    "deepnote_output_heights": [
     177
    ],
    "deepnote_to_be_reexecuted": false,
    "source_hash": "a3d7ea3d",
    "execution_start": 1639763348659,
    "execution_millis": 61,
    "deepnote_cell_type": "code"
   },
   "source": "Pred_file = df_test[['Item_Identifier', 'Outlet_Identifier', 'Item_Outlet_Sales']]\nPred_file.head()",
   "outputs": [
    {
     "output_type": "execute_result",
     "execution_count": 22,
     "data": {
      "application/vnd.deepnote.dataframe.v3+json": {
       "column_count": 3,
       "row_count": 5,
       "columns": [
        {
         "name": "Item_Identifier",
         "dtype": "object",
         "stats": {
          "unique_count": 5,
          "nan_count": 0,
          "categories": [
           {
            "name": "NCF31",
            "count": 1
           },
           {
            "name": "FDD59",
            "count": 1
           },
           {
            "name": "3 others",
            "count": 3
           }
          ]
         }
        },
        {
         "name": "Outlet_Identifier",
         "dtype": "object",
         "stats": {
          "unique_count": 4,
          "nan_count": 0,
          "categories": [
           {
            "name": "OUT049",
            "count": 2
           },
           {
            "name": "OUT046",
            "count": 1
           },
           {
            "name": "2 others",
            "count": 2
           }
          ]
         }
        },
        {
         "name": "Item_Outlet_Sales",
         "dtype": "float32",
         "stats": {
          "unique_count": 5,
          "nan_count": 0,
          "min": "617.08447265625",
          "max": "5343.91064453125",
          "histogram": [
           {
            "bin_start": 617.08447265625,
            "bin_end": 1089.76708984375,
            "count": 1
           },
           {
            "bin_start": 1089.76708984375,
            "bin_end": 1562.44970703125,
            "count": 0
           },
           {
            "bin_start": 1562.44970703125,
            "bin_end": 2035.13232421875,
            "count": 1
           },
           {
            "bin_start": 2035.13232421875,
            "bin_end": 2507.81494140625,
            "count": 0
           },
           {
            "bin_start": 2507.81494140625,
            "bin_end": 2980.49755859375,
            "count": 0
           },
           {
            "bin_start": 2980.49755859375,
            "bin_end": 3453.18017578125,
            "count": 0
           },
           {
            "bin_start": 3453.18017578125,
            "bin_end": 3925.86279296875,
            "count": 2
           },
           {
            "bin_start": 3925.86279296875,
            "bin_end": 4398.54541015625,
            "count": 0
           },
           {
            "bin_start": 4398.54541015625,
            "bin_end": 4871.22802734375,
            "count": 0
           },
           {
            "bin_start": 4871.22802734375,
            "bin_end": 5343.91064453125,
            "count": 1
           }
          ]
         }
        },
        {
         "name": "_deepnote_index_column",
         "dtype": "int64"
        }
       ],
       "rows": [
        {
         "Item_Identifier": "NCF31",
         "Outlet_Identifier": "OUT049",
         "Item_Outlet_Sales": 3744.909912109375,
         "_deepnote_index_column": 0
        },
        {
         "Item_Identifier": "FDD59",
         "Outlet_Identifier": "OUT046",
         "Item_Outlet_Sales": 1628.1800537109375,
         "_deepnote_index_column": 1
        },
        {
         "Item_Identifier": "FDQ52",
         "Outlet_Identifier": "OUT049",
         "Item_Outlet_Sales": 3741.78857421875,
         "_deepnote_index_column": 2
        },
        {
         "Item_Identifier": "FDP09",
         "Outlet_Identifier": "OUT027",
         "Item_Outlet_Sales": 5343.91064453125,
         "_deepnote_index_column": 3
        },
        {
         "Item_Identifier": "FDK24",
         "Outlet_Identifier": "OUT035",
         "Item_Outlet_Sales": 617.08447265625,
         "_deepnote_index_column": 4
        }
       ]
      },
      "text/plain": "  Item_Identifier Outlet_Identifier  Item_Outlet_Sales\n0           NCF31            OUT049        3744.909912\n1           FDD59            OUT046        1628.180054\n2           FDQ52            OUT049        3741.788574\n3           FDP09            OUT027        5343.910645\n4           FDK24            OUT035         617.084473",
      "text/html": "<div>\n<style scoped>\n    .dataframe tbody tr th:only-of-type {\n        vertical-align: middle;\n    }\n\n    .dataframe tbody tr th {\n        vertical-align: top;\n    }\n\n    .dataframe thead th {\n        text-align: right;\n    }\n</style>\n<table border=\"1\" class=\"dataframe\">\n  <thead>\n    <tr style=\"text-align: right;\">\n      <th></th>\n      <th>Item_Identifier</th>\n      <th>Outlet_Identifier</th>\n      <th>Item_Outlet_Sales</th>\n    </tr>\n  </thead>\n  <tbody>\n    <tr>\n      <th>0</th>\n      <td>NCF31</td>\n      <td>OUT049</td>\n      <td>3744.909912</td>\n    </tr>\n    <tr>\n      <th>1</th>\n      <td>FDD59</td>\n      <td>OUT046</td>\n      <td>1628.180054</td>\n    </tr>\n    <tr>\n      <th>2</th>\n      <td>FDQ52</td>\n      <td>OUT049</td>\n      <td>3741.788574</td>\n    </tr>\n    <tr>\n      <th>3</th>\n      <td>FDP09</td>\n      <td>OUT027</td>\n      <td>5343.910645</td>\n    </tr>\n    <tr>\n      <th>4</th>\n      <td>FDK24</td>\n      <td>OUT035</td>\n      <td>617.084473</td>\n    </tr>\n  </tbody>\n</table>\n</div>"
     },
     "metadata": {}
    }
   ],
   "execution_count": null
  },
  {
   "cell_type": "code",
   "metadata": {
    "id": "8OED6852mdrK",
    "cell_id": "00066-038ac60d-e3d3-4df6-b031-b5434ac916db",
    "deepnote_to_be_reexecuted": false,
    "source_hash": "d7780558",
    "execution_start": 1639763389227,
    "execution_millis": 21,
    "deepnote_cell_type": "code"
   },
   "source": "# Lagrer finale resultatene til ny fil.\nPred_file.to_csv('predictions.csv')",
   "outputs": [],
   "execution_count": null
  },
  {
   "cell_type": "markdown",
   "source": "#### Task 5: R2 accuracy of your predictions",
   "metadata": {
    "id": "T24YPQR6l8_a",
    "cell_id": "00064-69e1b1e2-e15a-473e-aec8-64bb7d4006e5",
    "deepnote_cell_type": "markdown"
   }
  },
  {
   "cell_type": "code",
   "metadata": {
    "tags": [],
    "cell_id": "00067-39b7c1db-db19-4b6a-9771-ec8c3ebca386",
    "deepnote_to_be_reexecuted": false,
    "source_hash": "eabf8fbd",
    "execution_start": 1639763353330,
    "execution_millis": 630,
    "deepnote_output_heights": [
     174.6875
    ],
    "deepnote_cell_type": "code"
   },
   "source": "from sklearn.metrics import r2_score\ny_prediction = model.predict(X)\nscore=r2_score(y,y_prediction)\nprint('Coefficient of Determination is (R2): ',score)",
   "outputs": [
    {
     "name": "stdout",
     "text": "Coefficient of Determination is (R2):  0.7822363207557936\n",
     "output_type": "stream",
     "data": {}
    }
   ],
   "execution_count": null
  },
  {
   "cell_type": "markdown",
   "source": "##### Task 5 Konklusjon:",
   "metadata": {
    "id": "nvdng113k8-r",
    "cell_id": "00059-59b8d1aa-eed9-4937-ae02-c51d49003848",
    "deepnote_cell_type": "markdown"
   }
  },
  {
   "cell_type": "code",
   "metadata": {
    "tags": [],
    "cell_id": "00069-a627f8ea-6667-40d2-995e-72a61f95b601",
    "deepnote_cell_type": "code"
   },
   "source": "Selv ved overtrening sliter den å nå over 0.78 i R2 score ved 15 000 epochs. Problemet her er at modellen blir alt for \"overfit\" \nhvor nærmere 1 vi kommer R2 score. Beste resultat for å forhindre overfit var på 200 epochs derfor vil modellen gi dårlig effekt/resultat mot test dataen. \n\nFilen predictions.csv som er lagt til i vedlegg er mitt resultat ved 15 000 epochs overfitted.\n\nresultat av loggen:\nved 200 epochs 0.54 r2 score brukte 11 minutter\nved 3000 epochs 0.6 r2 score brukte 1 time og 24 minutter\nved 9000 epochs 0.77 r2 score brukte 4 timer og 11 minutter\nved 15 000 epochs 0.78 r2 score brukte 6 timer og 8 minutter",
   "execution_count": null,
   "outputs": []
  },
  {
   "cell_type": "markdown",
   "source": "",
   "metadata": {
    "tags": [],
    "cell_id": "00071-fa73e587-d541-4143-aff8-9769c209c73a",
    "deepnote_cell_type": "markdown"
   }
  },
  {
   "cell_type": "markdown",
   "source": "<a style='text-decoration:none;line-height:16px;display:flex;color:#5B5B62;padding:10px;justify-content:end;' href='https://deepnote.com?utm_source=created-in-deepnote-cell&projectId=f4995c16-e334-458c-b8e3-247293fe6b6c' target=\"_blank\">\n<img alt='Created in deepnote.com' style='display:inline;max-height:16px;margin:0px;margin-right:7.5px;' src='data:image/svg+xml;base64,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' > </img>\nCreated in <span style='font-weight:600;margin-left:4px;'>Deepnote</span></a>",
   "metadata": {
    "tags": [],
    "created_in_deepnote_cell": true,
    "deepnote_cell_type": "markdown"
   }
  }
 ],
 "nbformat": 4,
 "nbformat_minor": 0,
 "metadata": {
  "kernelspec": {
   "display_name": "Python [conda env:cv_course] *",
   "language": "python",
   "name": "conda-env-cv_course-py"
  },
  "language_info": {
   "codemirror_mode": {
    "name": "ipython",
    "version": 3
   },
   "file_extension": ".py",
   "mimetype": "text/x-python",
   "name": "python",
   "nbconvert_exporter": "python",
   "pygments_lexer": "ipython3",
   "version": "3.6.9"
  },
  "colab": {
   "name": "ML Assignment.ipynb",
   "provenance": [],
   "collapsed_sections": [
    "CCBlHKzYk8-P",
    "eTK-tD6Ok8-Y",
    "odVNh3KVk8-c"
   ]
  },
  "accelerator": "GPU",
  "deepnote_notebook_id": "2571c98c-30e1-4b3b-a6c1-3805ec2a1726",
  "deepnote": {},
  "deepnote_execution_queue": []
 }
}